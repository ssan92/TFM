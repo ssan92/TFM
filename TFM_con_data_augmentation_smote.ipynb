{
  "cells": [
    {
      "cell_type": "markdown",
      "metadata": {
        "id": "2D4zUG_t08Zj"
      },
      "source": [
        "#  **Modelos supervisados para diagnosticar diabetes utilizando métodos ópticos no invasivos**"
      ]
    },
    {
      "cell_type": "markdown",
      "metadata": {
        "id": "T4dNADRJ08Zt"
      },
      "source": [
        "\n",
        "\n",
        "##  **Librerías utilizadas**"
      ]
    },
    {
      "cell_type": "code",
      "execution_count": null,
      "metadata": {
        "id": "49K26ZUP08Zu"
      },
      "outputs": [],
      "source": [
        "# Tratamiento de datos\n",
        "# ==============================================================================\n",
        "import numpy as np\n",
        "import pandas as pd\n",
        "import statsmodels.api as sm\n",
        "import scipy.stats as stats\n",
        "\n",
        "\n",
        "# Gráficos\n",
        "# ==============================================================================\n",
        "import matplotlib.pyplot as plt\n",
        "from matplotlib import style\n",
        "import seaborn as sns\n",
        "\n",
        "# Preprocesado y modelado\n",
        "# ==============================================================================\n",
        "\n",
        "from sklearn.tree import DecisionTreeClassifier\n",
        "from sklearn.ensemble import RandomForestClassifier\n",
        "from sklearn.svm import SVC\n",
        "from sklearn.neighbors import KNeighborsClassifier\n",
        "from sklearn.metrics import accuracy_score,recall_score,precision_score,f1_score\n",
        "from sklearn.metrics import confusion_matrix,ConfusionMatrixDisplay\n",
        "from sklearn.metrics import roc_curve, auc\n",
        "from sklearn.metrics import plot_confusion_matrix\n",
        "from sklearn.metrics import classification_report\n",
        "from sklearn.compose import ColumnTransformer\n",
        "from sklearn.model_selection import cross_val_score\n",
        "from sklearn.model_selection import train_test_split\n",
        "from sklearn.model_selection import RepeatedKFold\n",
        "from sklearn.model_selection import GridSearchCV\n",
        "from sklearn.model_selection import ParameterGrid\n",
        "from sklearn.model_selection import KFold\n",
        "from sklearn.pipeline import Pipeline\n",
        "from sklearn import svm\n",
        "from sklearn.inspection import permutation_importance\n",
        "from sklearn.datasets import make_blobs\n",
        "from sklearn.neural_network import MLPClassifier\n",
        "from sklearn.model_selection import RandomizedSearchCV\n",
        "import multiprocessing\n",
        "from sklearn.model_selection import validation_curve\n",
        "from sklearn.preprocessing import StandardScaler\n",
        "from sklearn.preprocessing import label_binarize\n",
        "from sklearn.preprocessing import OneHotEncoder\n",
        "from sklearn.pipeline import make_pipeline\n",
        "from google.colab import drive\n",
        "\n",
        "from collections import Counter\n",
        "from numpy.random import RandomState\n",
        "from imblearn.over_sampling import SMOTE\n",
        "\n",
        "# Configuración warnings\n",
        "# ==============================================================================\n",
        "#import warnings\n",
        "#warnings.filterwarnings('once')\n",
        "\n",
        "# Variables globales\n",
        "semilla = 42"
      ]
    },
    {
      "cell_type": "markdown",
      "metadata": {
        "id": "taeffTpWbOGe"
      },
      "source": [
        "## **Análisis descriptivo**"
      ]
    },
    {
      "cell_type": "markdown",
      "metadata": {
        "id": "FRqy251M08Zx"
      },
      "source": [
        "### **Leer los datos del archivo**"
      ]
    },
    {
      "cell_type": "code",
      "execution_count": null,
      "metadata": {
        "colab": {
          "base_uri": "https://localhost:8080/"
        },
        "id": "769hpoHA08Zy",
        "outputId": "cc2390df-bfd4-4a01-f33f-581b21346705"
      },
      "outputs": [
        {
          "output_type": "stream",
          "name": "stdout",
          "text": [
            "Mounted at /content/drive\n"
          ]
        },
        {
          "output_type": "display_data",
          "data": {
            "text/plain": [
              "      AF365     AF450  35 deg  42 deg    grupo\n",
              "0  2.320158  1.229614   13.01   19.39  Control\n",
              "1  1.529274  0.616514    8.18   24.78  Control\n",
              "2  1.908257  0.955847    7.75   16.90  Control\n",
              "3  1.590625  1.018495    4.10   16.30  Control\n",
              "4  1.617071  1.242961    5.76   21.05  Control"
            ],
            "text/html": [
              "\n",
              "  <div id=\"df-91abded4-aa17-43a6-bcdc-ba5de784418c\">\n",
              "    <div class=\"colab-df-container\">\n",
              "      <div>\n",
              "<style scoped>\n",
              "    .dataframe tbody tr th:only-of-type {\n",
              "        vertical-align: middle;\n",
              "    }\n",
              "\n",
              "    .dataframe tbody tr th {\n",
              "        vertical-align: top;\n",
              "    }\n",
              "\n",
              "    .dataframe thead th {\n",
              "        text-align: right;\n",
              "    }\n",
              "</style>\n",
              "<table border=\"1\" class=\"dataframe\">\n",
              "  <thead>\n",
              "    <tr style=\"text-align: right;\">\n",
              "      <th></th>\n",
              "      <th>AF365</th>\n",
              "      <th>AF450</th>\n",
              "      <th>35 deg</th>\n",
              "      <th>42 deg</th>\n",
              "      <th>grupo</th>\n",
              "    </tr>\n",
              "  </thead>\n",
              "  <tbody>\n",
              "    <tr>\n",
              "      <th>0</th>\n",
              "      <td>2.320158</td>\n",
              "      <td>1.229614</td>\n",
              "      <td>13.01</td>\n",
              "      <td>19.39</td>\n",
              "      <td>Control</td>\n",
              "    </tr>\n",
              "    <tr>\n",
              "      <th>1</th>\n",
              "      <td>1.529274</td>\n",
              "      <td>0.616514</td>\n",
              "      <td>8.18</td>\n",
              "      <td>24.78</td>\n",
              "      <td>Control</td>\n",
              "    </tr>\n",
              "    <tr>\n",
              "      <th>2</th>\n",
              "      <td>1.908257</td>\n",
              "      <td>0.955847</td>\n",
              "      <td>7.75</td>\n",
              "      <td>16.90</td>\n",
              "      <td>Control</td>\n",
              "    </tr>\n",
              "    <tr>\n",
              "      <th>3</th>\n",
              "      <td>1.590625</td>\n",
              "      <td>1.018495</td>\n",
              "      <td>4.10</td>\n",
              "      <td>16.30</td>\n",
              "      <td>Control</td>\n",
              "    </tr>\n",
              "    <tr>\n",
              "      <th>4</th>\n",
              "      <td>1.617071</td>\n",
              "      <td>1.242961</td>\n",
              "      <td>5.76</td>\n",
              "      <td>21.05</td>\n",
              "      <td>Control</td>\n",
              "    </tr>\n",
              "  </tbody>\n",
              "</table>\n",
              "</div>\n",
              "      <button class=\"colab-df-convert\" onclick=\"convertToInteractive('df-91abded4-aa17-43a6-bcdc-ba5de784418c')\"\n",
              "              title=\"Convert this dataframe to an interactive table.\"\n",
              "              style=\"display:none;\">\n",
              "        \n",
              "  <svg xmlns=\"http://www.w3.org/2000/svg\" height=\"24px\"viewBox=\"0 0 24 24\"\n",
              "       width=\"24px\">\n",
              "    <path d=\"M0 0h24v24H0V0z\" fill=\"none\"/>\n",
              "    <path d=\"M18.56 5.44l.94 2.06.94-2.06 2.06-.94-2.06-.94-.94-2.06-.94 2.06-2.06.94zm-11 1L8.5 8.5l.94-2.06 2.06-.94-2.06-.94L8.5 2.5l-.94 2.06-2.06.94zm10 10l.94 2.06.94-2.06 2.06-.94-2.06-.94-.94-2.06-.94 2.06-2.06.94z\"/><path d=\"M17.41 7.96l-1.37-1.37c-.4-.4-.92-.59-1.43-.59-.52 0-1.04.2-1.43.59L10.3 9.45l-7.72 7.72c-.78.78-.78 2.05 0 2.83L4 21.41c.39.39.9.59 1.41.59.51 0 1.02-.2 1.41-.59l7.78-7.78 2.81-2.81c.8-.78.8-2.07 0-2.86zM5.41 20L4 18.59l7.72-7.72 1.47 1.35L5.41 20z\"/>\n",
              "  </svg>\n",
              "      </button>\n",
              "      \n",
              "  <style>\n",
              "    .colab-df-container {\n",
              "      display:flex;\n",
              "      flex-wrap:wrap;\n",
              "      gap: 12px;\n",
              "    }\n",
              "\n",
              "    .colab-df-convert {\n",
              "      background-color: #E8F0FE;\n",
              "      border: none;\n",
              "      border-radius: 50%;\n",
              "      cursor: pointer;\n",
              "      display: none;\n",
              "      fill: #1967D2;\n",
              "      height: 32px;\n",
              "      padding: 0 0 0 0;\n",
              "      width: 32px;\n",
              "    }\n",
              "\n",
              "    .colab-df-convert:hover {\n",
              "      background-color: #E2EBFA;\n",
              "      box-shadow: 0px 1px 2px rgba(60, 64, 67, 0.3), 0px 1px 3px 1px rgba(60, 64, 67, 0.15);\n",
              "      fill: #174EA6;\n",
              "    }\n",
              "\n",
              "    [theme=dark] .colab-df-convert {\n",
              "      background-color: #3B4455;\n",
              "      fill: #D2E3FC;\n",
              "    }\n",
              "\n",
              "    [theme=dark] .colab-df-convert:hover {\n",
              "      background-color: #434B5C;\n",
              "      box-shadow: 0px 1px 3px 1px rgba(0, 0, 0, 0.15);\n",
              "      filter: drop-shadow(0px 1px 2px rgba(0, 0, 0, 0.3));\n",
              "      fill: #FFFFFF;\n",
              "    }\n",
              "  </style>\n",
              "\n",
              "      <script>\n",
              "        const buttonEl =\n",
              "          document.querySelector('#df-91abded4-aa17-43a6-bcdc-ba5de784418c button.colab-df-convert');\n",
              "        buttonEl.style.display =\n",
              "          google.colab.kernel.accessAllowed ? 'block' : 'none';\n",
              "\n",
              "        async function convertToInteractive(key) {\n",
              "          const element = document.querySelector('#df-91abded4-aa17-43a6-bcdc-ba5de784418c');\n",
              "          const dataTable =\n",
              "            await google.colab.kernel.invokeFunction('convertToInteractive',\n",
              "                                                     [key], {});\n",
              "          if (!dataTable) return;\n",
              "\n",
              "          const docLinkHtml = 'Like what you see? Visit the ' +\n",
              "            '<a target=\"_blank\" href=https://colab.research.google.com/notebooks/data_table.ipynb>data table notebook</a>'\n",
              "            + ' to learn more about interactive tables.';\n",
              "          element.innerHTML = '';\n",
              "          dataTable['output_type'] = 'display_data';\n",
              "          await google.colab.output.renderOutput(dataTable, element);\n",
              "          const docLink = document.createElement('div');\n",
              "          docLink.innerHTML = docLinkHtml;\n",
              "          element.appendChild(docLink);\n",
              "        }\n",
              "      </script>\n",
              "    </div>\n",
              "  </div>\n",
              "  "
            ]
          },
          "metadata": {}
        }
      ],
      "source": [
        "\n",
        "drive.mount('/content/drive')\n",
        "\n",
        "df_base=pd.read_csv(\"drive/MyDrive/TFM/DataSetProd.csv\")\n",
        "display(df_base.head(5))"
      ]
    },
    {
      "cell_type": "markdown",
      "metadata": {
        "id": "mvZ_hpth08Z0"
      },
      "source": [
        "### **Variables numéricas**"
      ]
    },
    {
      "cell_type": "code",
      "execution_count": null,
      "metadata": {
        "colab": {
          "base_uri": "https://localhost:8080/"
        },
        "id": "QxgDyIEJ08Z1",
        "outputId": "76eb8457-e172-4bd1-8bf0-06cc8334e9ff"
      },
      "outputs": [
        {
          "output_type": "execute_result",
          "data": {
            "text/plain": [
              "      AF365     AF450  35 deg  42 deg\n",
              "0  2.320158  1.229614   13.01   19.39\n",
              "1  1.529274  0.616514    8.18   24.78\n",
              "2  1.908257  0.955847    7.75   16.90\n",
              "3  1.590625  1.018495    4.10   16.30\n",
              "4  1.617071  1.242961    5.76   21.05"
            ],
            "text/html": [
              "\n",
              "  <div id=\"df-9e07a488-2950-45d9-8995-90ecc12cf10f\">\n",
              "    <div class=\"colab-df-container\">\n",
              "      <div>\n",
              "<style scoped>\n",
              "    .dataframe tbody tr th:only-of-type {\n",
              "        vertical-align: middle;\n",
              "    }\n",
              "\n",
              "    .dataframe tbody tr th {\n",
              "        vertical-align: top;\n",
              "    }\n",
              "\n",
              "    .dataframe thead th {\n",
              "        text-align: right;\n",
              "    }\n",
              "</style>\n",
              "<table border=\"1\" class=\"dataframe\">\n",
              "  <thead>\n",
              "    <tr style=\"text-align: right;\">\n",
              "      <th></th>\n",
              "      <th>AF365</th>\n",
              "      <th>AF450</th>\n",
              "      <th>35 deg</th>\n",
              "      <th>42 deg</th>\n",
              "    </tr>\n",
              "  </thead>\n",
              "  <tbody>\n",
              "    <tr>\n",
              "      <th>0</th>\n",
              "      <td>2.320158</td>\n",
              "      <td>1.229614</td>\n",
              "      <td>13.01</td>\n",
              "      <td>19.39</td>\n",
              "    </tr>\n",
              "    <tr>\n",
              "      <th>1</th>\n",
              "      <td>1.529274</td>\n",
              "      <td>0.616514</td>\n",
              "      <td>8.18</td>\n",
              "      <td>24.78</td>\n",
              "    </tr>\n",
              "    <tr>\n",
              "      <th>2</th>\n",
              "      <td>1.908257</td>\n",
              "      <td>0.955847</td>\n",
              "      <td>7.75</td>\n",
              "      <td>16.90</td>\n",
              "    </tr>\n",
              "    <tr>\n",
              "      <th>3</th>\n",
              "      <td>1.590625</td>\n",
              "      <td>1.018495</td>\n",
              "      <td>4.10</td>\n",
              "      <td>16.30</td>\n",
              "    </tr>\n",
              "    <tr>\n",
              "      <th>4</th>\n",
              "      <td>1.617071</td>\n",
              "      <td>1.242961</td>\n",
              "      <td>5.76</td>\n",
              "      <td>21.05</td>\n",
              "    </tr>\n",
              "  </tbody>\n",
              "</table>\n",
              "</div>\n",
              "      <button class=\"colab-df-convert\" onclick=\"convertToInteractive('df-9e07a488-2950-45d9-8995-90ecc12cf10f')\"\n",
              "              title=\"Convert this dataframe to an interactive table.\"\n",
              "              style=\"display:none;\">\n",
              "        \n",
              "  <svg xmlns=\"http://www.w3.org/2000/svg\" height=\"24px\"viewBox=\"0 0 24 24\"\n",
              "       width=\"24px\">\n",
              "    <path d=\"M0 0h24v24H0V0z\" fill=\"none\"/>\n",
              "    <path d=\"M18.56 5.44l.94 2.06.94-2.06 2.06-.94-2.06-.94-.94-2.06-.94 2.06-2.06.94zm-11 1L8.5 8.5l.94-2.06 2.06-.94-2.06-.94L8.5 2.5l-.94 2.06-2.06.94zm10 10l.94 2.06.94-2.06 2.06-.94-2.06-.94-.94-2.06-.94 2.06-2.06.94z\"/><path d=\"M17.41 7.96l-1.37-1.37c-.4-.4-.92-.59-1.43-.59-.52 0-1.04.2-1.43.59L10.3 9.45l-7.72 7.72c-.78.78-.78 2.05 0 2.83L4 21.41c.39.39.9.59 1.41.59.51 0 1.02-.2 1.41-.59l7.78-7.78 2.81-2.81c.8-.78.8-2.07 0-2.86zM5.41 20L4 18.59l7.72-7.72 1.47 1.35L5.41 20z\"/>\n",
              "  </svg>\n",
              "      </button>\n",
              "      \n",
              "  <style>\n",
              "    .colab-df-container {\n",
              "      display:flex;\n",
              "      flex-wrap:wrap;\n",
              "      gap: 12px;\n",
              "    }\n",
              "\n",
              "    .colab-df-convert {\n",
              "      background-color: #E8F0FE;\n",
              "      border: none;\n",
              "      border-radius: 50%;\n",
              "      cursor: pointer;\n",
              "      display: none;\n",
              "      fill: #1967D2;\n",
              "      height: 32px;\n",
              "      padding: 0 0 0 0;\n",
              "      width: 32px;\n",
              "    }\n",
              "\n",
              "    .colab-df-convert:hover {\n",
              "      background-color: #E2EBFA;\n",
              "      box-shadow: 0px 1px 2px rgba(60, 64, 67, 0.3), 0px 1px 3px 1px rgba(60, 64, 67, 0.15);\n",
              "      fill: #174EA6;\n",
              "    }\n",
              "\n",
              "    [theme=dark] .colab-df-convert {\n",
              "      background-color: #3B4455;\n",
              "      fill: #D2E3FC;\n",
              "    }\n",
              "\n",
              "    [theme=dark] .colab-df-convert:hover {\n",
              "      background-color: #434B5C;\n",
              "      box-shadow: 0px 1px 3px 1px rgba(0, 0, 0, 0.15);\n",
              "      filter: drop-shadow(0px 1px 2px rgba(0, 0, 0, 0.3));\n",
              "      fill: #FFFFFF;\n",
              "    }\n",
              "  </style>\n",
              "\n",
              "      <script>\n",
              "        const buttonEl =\n",
              "          document.querySelector('#df-9e07a488-2950-45d9-8995-90ecc12cf10f button.colab-df-convert');\n",
              "        buttonEl.style.display =\n",
              "          google.colab.kernel.accessAllowed ? 'block' : 'none';\n",
              "\n",
              "        async function convertToInteractive(key) {\n",
              "          const element = document.querySelector('#df-9e07a488-2950-45d9-8995-90ecc12cf10f');\n",
              "          const dataTable =\n",
              "            await google.colab.kernel.invokeFunction('convertToInteractive',\n",
              "                                                     [key], {});\n",
              "          if (!dataTable) return;\n",
              "\n",
              "          const docLinkHtml = 'Like what you see? Visit the ' +\n",
              "            '<a target=\"_blank\" href=https://colab.research.google.com/notebooks/data_table.ipynb>data table notebook</a>'\n",
              "            + ' to learn more about interactive tables.';\n",
              "          element.innerHTML = '';\n",
              "          dataTable['output_type'] = 'display_data';\n",
              "          await google.colab.output.renderOutput(dataTable, element);\n",
              "          const docLink = document.createElement('div');\n",
              "          docLink.innerHTML = docLinkHtml;\n",
              "          element.appendChild(docLink);\n",
              "        }\n",
              "      </script>\n",
              "    </div>\n",
              "  </div>\n",
              "  "
            ]
          },
          "metadata": {},
          "execution_count": 3
        }
      ],
      "source": [
        "datos_numericos = ['int16', 'int32', 'int64', 'float16', 'float32', 'float64']\n",
        "df_var_numericas = df_base.select_dtypes(include=datos_numericos).copy()\n",
        "df_var_numericas.head(5)"
      ]
    },
    {
      "cell_type": "markdown",
      "metadata": {
        "id": "p0QK5JMC08Z8"
      },
      "source": [
        "#### Se verifican el valor mínimo, el máximo, la mediana y la media, de las variables numéricas"
      ]
    },
    {
      "cell_type": "code",
      "execution_count": null,
      "metadata": {
        "colab": {
          "base_uri": "https://localhost:8080/"
        },
        "id": "VHLtPtWM08Z8",
        "outputId": "1c96edd3-8b74-43f5-a374-49510c40e8e2"
      },
      "outputs": [
        {
          "output_type": "display_data",
          "data": {
            "text/plain": [
              "            AF365       AF450      35 deg      42 deg\n",
              "count  124.000000  124.000000  124.000000  124.000000\n",
              "mean     2.575719    1.683305    7.269597   14.861048\n",
              "std      0.814076    0.731116    2.899653    5.746477\n",
              "min      0.410494    0.270591    2.100000    3.700000\n",
              "25%      2.061781    1.292338    5.457500   10.552500\n",
              "50%      2.550161    1.633922    6.700000   14.675000\n",
              "75%      3.051504    1.942651    8.630000   18.592500\n",
              "max      4.855556    6.458824   17.290000   32.480000"
            ],
            "text/html": [
              "\n",
              "  <div id=\"df-6513d80a-c12d-4e3d-84b9-9400cd89a69f\">\n",
              "    <div class=\"colab-df-container\">\n",
              "      <div>\n",
              "<style scoped>\n",
              "    .dataframe tbody tr th:only-of-type {\n",
              "        vertical-align: middle;\n",
              "    }\n",
              "\n",
              "    .dataframe tbody tr th {\n",
              "        vertical-align: top;\n",
              "    }\n",
              "\n",
              "    .dataframe thead th {\n",
              "        text-align: right;\n",
              "    }\n",
              "</style>\n",
              "<table border=\"1\" class=\"dataframe\">\n",
              "  <thead>\n",
              "    <tr style=\"text-align: right;\">\n",
              "      <th></th>\n",
              "      <th>AF365</th>\n",
              "      <th>AF450</th>\n",
              "      <th>35 deg</th>\n",
              "      <th>42 deg</th>\n",
              "    </tr>\n",
              "  </thead>\n",
              "  <tbody>\n",
              "    <tr>\n",
              "      <th>count</th>\n",
              "      <td>124.000000</td>\n",
              "      <td>124.000000</td>\n",
              "      <td>124.000000</td>\n",
              "      <td>124.000000</td>\n",
              "    </tr>\n",
              "    <tr>\n",
              "      <th>mean</th>\n",
              "      <td>2.575719</td>\n",
              "      <td>1.683305</td>\n",
              "      <td>7.269597</td>\n",
              "      <td>14.861048</td>\n",
              "    </tr>\n",
              "    <tr>\n",
              "      <th>std</th>\n",
              "      <td>0.814076</td>\n",
              "      <td>0.731116</td>\n",
              "      <td>2.899653</td>\n",
              "      <td>5.746477</td>\n",
              "    </tr>\n",
              "    <tr>\n",
              "      <th>min</th>\n",
              "      <td>0.410494</td>\n",
              "      <td>0.270591</td>\n",
              "      <td>2.100000</td>\n",
              "      <td>3.700000</td>\n",
              "    </tr>\n",
              "    <tr>\n",
              "      <th>25%</th>\n",
              "      <td>2.061781</td>\n",
              "      <td>1.292338</td>\n",
              "      <td>5.457500</td>\n",
              "      <td>10.552500</td>\n",
              "    </tr>\n",
              "    <tr>\n",
              "      <th>50%</th>\n",
              "      <td>2.550161</td>\n",
              "      <td>1.633922</td>\n",
              "      <td>6.700000</td>\n",
              "      <td>14.675000</td>\n",
              "    </tr>\n",
              "    <tr>\n",
              "      <th>75%</th>\n",
              "      <td>3.051504</td>\n",
              "      <td>1.942651</td>\n",
              "      <td>8.630000</td>\n",
              "      <td>18.592500</td>\n",
              "    </tr>\n",
              "    <tr>\n",
              "      <th>max</th>\n",
              "      <td>4.855556</td>\n",
              "      <td>6.458824</td>\n",
              "      <td>17.290000</td>\n",
              "      <td>32.480000</td>\n",
              "    </tr>\n",
              "  </tbody>\n",
              "</table>\n",
              "</div>\n",
              "      <button class=\"colab-df-convert\" onclick=\"convertToInteractive('df-6513d80a-c12d-4e3d-84b9-9400cd89a69f')\"\n",
              "              title=\"Convert this dataframe to an interactive table.\"\n",
              "              style=\"display:none;\">\n",
              "        \n",
              "  <svg xmlns=\"http://www.w3.org/2000/svg\" height=\"24px\"viewBox=\"0 0 24 24\"\n",
              "       width=\"24px\">\n",
              "    <path d=\"M0 0h24v24H0V0z\" fill=\"none\"/>\n",
              "    <path d=\"M18.56 5.44l.94 2.06.94-2.06 2.06-.94-2.06-.94-.94-2.06-.94 2.06-2.06.94zm-11 1L8.5 8.5l.94-2.06 2.06-.94-2.06-.94L8.5 2.5l-.94 2.06-2.06.94zm10 10l.94 2.06.94-2.06 2.06-.94-2.06-.94-.94-2.06-.94 2.06-2.06.94z\"/><path d=\"M17.41 7.96l-1.37-1.37c-.4-.4-.92-.59-1.43-.59-.52 0-1.04.2-1.43.59L10.3 9.45l-7.72 7.72c-.78.78-.78 2.05 0 2.83L4 21.41c.39.39.9.59 1.41.59.51 0 1.02-.2 1.41-.59l7.78-7.78 2.81-2.81c.8-.78.8-2.07 0-2.86zM5.41 20L4 18.59l7.72-7.72 1.47 1.35L5.41 20z\"/>\n",
              "  </svg>\n",
              "      </button>\n",
              "      \n",
              "  <style>\n",
              "    .colab-df-container {\n",
              "      display:flex;\n",
              "      flex-wrap:wrap;\n",
              "      gap: 12px;\n",
              "    }\n",
              "\n",
              "    .colab-df-convert {\n",
              "      background-color: #E8F0FE;\n",
              "      border: none;\n",
              "      border-radius: 50%;\n",
              "      cursor: pointer;\n",
              "      display: none;\n",
              "      fill: #1967D2;\n",
              "      height: 32px;\n",
              "      padding: 0 0 0 0;\n",
              "      width: 32px;\n",
              "    }\n",
              "\n",
              "    .colab-df-convert:hover {\n",
              "      background-color: #E2EBFA;\n",
              "      box-shadow: 0px 1px 2px rgba(60, 64, 67, 0.3), 0px 1px 3px 1px rgba(60, 64, 67, 0.15);\n",
              "      fill: #174EA6;\n",
              "    }\n",
              "\n",
              "    [theme=dark] .colab-df-convert {\n",
              "      background-color: #3B4455;\n",
              "      fill: #D2E3FC;\n",
              "    }\n",
              "\n",
              "    [theme=dark] .colab-df-convert:hover {\n",
              "      background-color: #434B5C;\n",
              "      box-shadow: 0px 1px 3px 1px rgba(0, 0, 0, 0.15);\n",
              "      filter: drop-shadow(0px 1px 2px rgba(0, 0, 0, 0.3));\n",
              "      fill: #FFFFFF;\n",
              "    }\n",
              "  </style>\n",
              "\n",
              "      <script>\n",
              "        const buttonEl =\n",
              "          document.querySelector('#df-6513d80a-c12d-4e3d-84b9-9400cd89a69f button.colab-df-convert');\n",
              "        buttonEl.style.display =\n",
              "          google.colab.kernel.accessAllowed ? 'block' : 'none';\n",
              "\n",
              "        async function convertToInteractive(key) {\n",
              "          const element = document.querySelector('#df-6513d80a-c12d-4e3d-84b9-9400cd89a69f');\n",
              "          const dataTable =\n",
              "            await google.colab.kernel.invokeFunction('convertToInteractive',\n",
              "                                                     [key], {});\n",
              "          if (!dataTable) return;\n",
              "\n",
              "          const docLinkHtml = 'Like what you see? Visit the ' +\n",
              "            '<a target=\"_blank\" href=https://colab.research.google.com/notebooks/data_table.ipynb>data table notebook</a>'\n",
              "            + ' to learn more about interactive tables.';\n",
              "          element.innerHTML = '';\n",
              "          dataTable['output_type'] = 'display_data';\n",
              "          await google.colab.output.renderOutput(dataTable, element);\n",
              "          const docLink = document.createElement('div');\n",
              "          docLink.innerHTML = docLinkHtml;\n",
              "          element.appendChild(docLink);\n",
              "        }\n",
              "      </script>\n",
              "    </div>\n",
              "  </div>\n",
              "  "
            ]
          },
          "metadata": {}
        }
      ],
      "source": [
        "df_quartiles=df_var_numericas.describe()\n",
        "display(df_quartiles)"
      ]
    },
    {
      "cell_type": "markdown",
      "metadata": {
        "id": "Kt-IzuplQg18"
      },
      "source": [
        "En este caso no se observan valores faltantes en las variables neméricas"
      ]
    },
    {
      "cell_type": "code",
      "execution_count": null,
      "metadata": {
        "colab": {
          "base_uri": "https://localhost:8080/"
        },
        "id": "FNPqKCY308Z3",
        "outputId": "6c38fcfb-c7d2-48cb-ff3b-a8b88351b4be"
      },
      "outputs": [
        {
          "output_type": "display_data",
          "data": {
            "text/plain": [
              "Series([], dtype: int64)"
            ]
          },
          "metadata": {}
        }
      ],
      "source": [
        "col_total_nulos = df_var_numericas.isnull().sum()\n",
        "serie_col_nombres = col_total_nulos[col_total_nulos > 0]\n",
        "display(serie_col_nombres)"
      ]
    },
    {
      "cell_type": "markdown",
      "metadata": {
        "id": "S8CdSx_ldnp3"
      },
      "source": [
        "#### Verificar valores atípicos"
      ]
    },
    {
      "cell_type": "code",
      "execution_count": null,
      "metadata": {
        "colab": {
          "base_uri": "https://localhost:8080/"
        },
        "id": "RXkVt5ppfKLl",
        "outputId": "8ab87109-5fe3-48ce-9d91-7a475f6dea86"
      },
      "outputs": [
        {
          "output_type": "stream",
          "name": "stdout",
          "text": [
            "AF365 F1:  0.5771965720000005 F3:  4.536089135999999\n",
            "AF450 F1:  0.3168678017500006 F3:  2.9181208117499997\n",
            "35 deg F1:  0.6987499999999978 F3:  13.388750000000002\n",
            "42 deg F1:  -1.507500000000002 F3:  30.652500000000003\n"
          ]
        },
        {
          "output_type": "display_data",
          "data": {
            "text/plain": [
              "<Figure size 864x504 with 4 Axes>"
            ],
            "image/png": "[encoded data removed]"
          },
          "metadata": {
            "needs_background": "light"
          }
        }
      ],
      "source": [
        "fig, axes = plt.subplots(nrows=2, ncols=2, figsize=(12, 7))\n",
        "axes = axes.flat\n",
        "\n",
        "def boxplot(df):\n",
        "  i=0\n",
        "  for colum in df:\n",
        "    sns.boxplot(\n",
        "        x       = df[colum],\n",
        "        color   = (list(plt.rcParams['axes.prop_cycle'])*2)[i][\"color\"],\n",
        "        ax=axes[i])\n",
        "    axes[i].set_title(colum, fontsize = 10, fontweight = \"bold\")\n",
        "    axes[i].tick_params(labelsize = 8)\n",
        "    axes[i].set_xlabel(\"\")\n",
        "    axes[i].set_ylabel(\"\")\n",
        "    i+=1\n",
        "\n",
        "    # encontrar Q1, Q3 y rango intercuartílico para cada columna\n",
        "    Q1 = df.quantile (q = .25)[colum]\n",
        "    Q3 = df.quantile (q = .75)[colum]\n",
        "    IQR = df.apply (stats.iqr)[colum]\n",
        "    F1 = Q1-1.5*IQR\n",
        "    F3 = Q3+1.5*IQR\n",
        "    print(colum, 'F1: ', F1, 'F3: ',F3)\n",
        "    \n",
        "    \n",
        "\n",
        "boxplot(df_var_numericas)\n",
        "fig.tight_layout()\n",
        "plt.subplots_adjust(top = 0.9)\n",
        "fig.suptitle('Diagrama de caja de las variables numéricas', fontsize = 20, fontweight = \"bold\");\n",
        "\n"
      ]
    },
    {
      "cell_type": "markdown",
      "metadata": {
        "id": "Ty7WMCEr81_J"
      },
      "source": [
        "#### De acuerdo con el grafico, sobre la dispersión de los datos se observar que la variable AF450 se encuentra menos dispersas que las demás. Por otro lado, sobre los valores atípicos, de acuerdo con límite inferior f1 y límite superior f3 (calculado por el método de rango intercuartílico), si existen valores atípicos en el conjunto de datos, por lo que podrían hacer ruido en los modelos a crear."
      ]
    },
    {
      "cell_type": "markdown",
      "metadata": {
        "id": "g4K46p2MlUVZ"
      },
      "source": [
        "#### Distribución de variables númericas para verificar si existe simetría"
      ]
    },
    {
      "cell_type": "code",
      "execution_count": null,
      "metadata": {
        "colab": {
          "base_uri": "https://localhost:8080/"
        },
        "id": "kwmAVXvVZUEe",
        "outputId": "ff3e9e45-7b62-448d-d47a-cdad1ed82111"
      },
      "outputs": [
        {
          "output_type": "display_data",
          "data": {
            "text/plain": [
              "<Figure size 864x504 with 4 Axes>"
            ],
            "image/png": "[encoded data removed]"
          },
          "metadata": {
            "needs_background": "light"
          }
        }
      ],
      "source": [
        "def histograma(df):\n",
        "  fig, axes = plt.subplots(nrows=2, ncols=2, figsize=(12, 7))\n",
        "  axes = axes.flat\n",
        "\n",
        "  for i, colum in enumerate(df):\n",
        "      sns.histplot(\n",
        "          \n",
        "          data    = df,\n",
        "          x       = colum,\n",
        "          stat    = \"count\",\n",
        "          kde     = True,\n",
        "          color   = (list(plt.rcParams['axes.prop_cycle'])*2)[i][\"color\"],\n",
        "          line_kws= {'linewidth': 2},\n",
        "          alpha   = 0.3,\n",
        "          ax      = axes[i]\n",
        "      )\n",
        "      axes[i].set_title(colum, fontsize = 10, fontweight = \"bold\")\n",
        "      axes[i].tick_params(labelsize = 8)\n",
        "      axes[i].set_xlabel(\"\")\n",
        "      axes[i].set_ylabel(\"\")\n",
        "      \n",
        "  fig.tight_layout()\n",
        "  plt.subplots_adjust(top = 0.9)\n",
        "  fig.suptitle('Distribución variables numéricas', fontsize = 20, fontweight = \"bold\");\n",
        "histograma(df_var_numericas)"
      ]
    },
    {
      "cell_type": "markdown",
      "metadata": {
        "id": "LoxFJUaTAYav"
      },
      "source": [
        "#### De acuerdo con los histogramas se observan que las variables se encuentran algo simétricas"
      ]
    },
    {
      "cell_type": "markdown",
      "metadata": {
        "id": "05LL3aogQE0v"
      },
      "source": [
        "#### Tratamiento de valores atípicos por el método de rango intercuartílico"
      ]
    },
    {
      "cell_type": "code",
      "execution_count": null,
      "metadata": {
        "colab": {
          "base_uri": "https://localhost:8080/"
        },
        "id": "zGFRSJFUQ8rW",
        "outputId": "4d242a59-6f20-4e1b-9942-0ed69c624284"
      },
      "outputs": [
        {
          "output_type": "display_data",
          "data": {
            "text/plain": [
              "(124, 5)"
            ]
          },
          "metadata": {}
        },
        {
          "output_type": "stream",
          "name": "stderr",
          "text": [
            "/usr/local/lib/python3.7/dist-packages/ipykernel_launcher.py:8: FutureWarning: Automatic reindexing on DataFrame vs Series comparisons is deprecated and will raise ValueError in a future version.  Do `left, right = left.align(right, axis=1, copy=False)` before e.g. `left == right`\n",
            "  \n",
            "/usr/local/lib/python3.7/dist-packages/ipykernel_launcher.py:9: FutureWarning: Automatic reindexing on DataFrame vs Series comparisons is deprecated and will raise ValueError in a future version.  Do `left, right = left.align(right, axis=1, copy=False)` before e.g. `left == right`\n",
            "  if __name__ == '__main__':\n"
          ]
        },
        {
          "output_type": "display_data",
          "data": {
            "text/plain": [
              "(111, 4)"
            ]
          },
          "metadata": {}
        },
        {
          "output_type": "execute_result",
          "data": {
            "text/plain": [
              "        AF365     AF450  35 deg  42 deg       grupo\n",
              "12   0.410494  0.270591    3.91   16.32     Control\n",
              "13   2.818713  1.271639   15.13   32.48     Control\n",
              "15   2.406667  1.475761   14.00   22.00     Control\n",
              "21   2.603687  1.554795   17.29   29.27     Control\n",
              "24   2.063241  0.833135   11.64   32.04     Control\n",
              "52   3.060000  1.600000   13.61   15.28    Diabetes\n",
              "76   3.000000  3.005682   11.52   14.17    Diabetes\n",
              "104  2.074074  6.458824    7.41   13.98    Diabetes\n",
              "116  4.855556  1.835308    4.02    6.43  Diabetes_c\n",
              "117  4.743590  3.377668    3.43    3.94  Diabetes_c\n",
              "119  4.093525  3.037288    3.97    5.35  Diabetes_c\n",
              "120  4.730000  3.040000    7.04   14.44  Diabetes_c\n",
              "121  4.010000  4.110000    6.65   17.37  Diabetes_c"
            ],
            "text/html": [
              "\n",
              "  <div id=\"df-72ecc878-3f77-4f8c-a2e1-a1f60b9c4339\">\n",
              "    <div class=\"colab-df-container\">\n",
              "      <div>\n",
              "<style scoped>\n",
              "    .dataframe tbody tr th:only-of-type {\n",
              "        vertical-align: middle;\n",
              "    }\n",
              "\n",
              "    .dataframe tbody tr th {\n",
              "        vertical-align: top;\n",
              "    }\n",
              "\n",
              "    .dataframe thead th {\n",
              "        text-align: right;\n",
              "    }\n",
              "</style>\n",
              "<table border=\"1\" class=\"dataframe\">\n",
              "  <thead>\n",
              "    <tr style=\"text-align: right;\">\n",
              "      <th></th>\n",
              "      <th>AF365</th>\n",
              "      <th>AF450</th>\n",
              "      <th>35 deg</th>\n",
              "      <th>42 deg</th>\n",
              "      <th>grupo</th>\n",
              "    </tr>\n",
              "  </thead>\n",
              "  <tbody>\n",
              "    <tr>\n",
              "      <th>12</th>\n",
              "      <td>0.410494</td>\n",
              "      <td>0.270591</td>\n",
              "      <td>3.91</td>\n",
              "      <td>16.32</td>\n",
              "      <td>Control</td>\n",
              "    </tr>\n",
              "    <tr>\n",
              "      <th>13</th>\n",
              "      <td>2.818713</td>\n",
              "      <td>1.271639</td>\n",
              "      <td>15.13</td>\n",
              "      <td>32.48</td>\n",
              "      <td>Control</td>\n",
              "    </tr>\n",
              "    <tr>\n",
              "      <th>15</th>\n",
              "      <td>2.406667</td>\n",
              "      <td>1.475761</td>\n",
              "      <td>14.00</td>\n",
              "      <td>22.00</td>\n",
              "      <td>Control</td>\n",
              "    </tr>\n",
              "    <tr>\n",
              "      <th>21</th>\n",
              "      <td>2.603687</td>\n",
              "      <td>1.554795</td>\n",
              "      <td>17.29</td>\n",
              "      <td>29.27</td>\n",
              "      <td>Control</td>\n",
              "    </tr>\n",
              "    <tr>\n",
              "      <th>24</th>\n",
              "      <td>2.063241</td>\n",
              "      <td>0.833135</td>\n",
              "      <td>11.64</td>\n",
              "      <td>32.04</td>\n",
              "      <td>Control</td>\n",
              "    </tr>\n",
              "    <tr>\n",
              "      <th>52</th>\n",
              "      <td>3.060000</td>\n",
              "      <td>1.600000</td>\n",
              "      <td>13.61</td>\n",
              "      <td>15.28</td>\n",
              "      <td>Diabetes</td>\n",
              "    </tr>\n",
              "    <tr>\n",
              "      <th>76</th>\n",
              "      <td>3.000000</td>\n",
              "      <td>3.005682</td>\n",
              "      <td>11.52</td>\n",
              "      <td>14.17</td>\n",
              "      <td>Diabetes</td>\n",
              "    </tr>\n",
              "    <tr>\n",
              "      <th>104</th>\n",
              "      <td>2.074074</td>\n",
              "      <td>6.458824</td>\n",
              "      <td>7.41</td>\n",
              "      <td>13.98</td>\n",
              "      <td>Diabetes</td>\n",
              "    </tr>\n",
              "    <tr>\n",
              "      <th>116</th>\n",
              "      <td>4.855556</td>\n",
              "      <td>1.835308</td>\n",
              "      <td>4.02</td>\n",
              "      <td>6.43</td>\n",
              "      <td>Diabetes_c</td>\n",
              "    </tr>\n",
              "    <tr>\n",
              "      <th>117</th>\n",
              "      <td>4.743590</td>\n",
              "      <td>3.377668</td>\n",
              "      <td>3.43</td>\n",
              "      <td>3.94</td>\n",
              "      <td>Diabetes_c</td>\n",
              "    </tr>\n",
              "    <tr>\n",
              "      <th>119</th>\n",
              "      <td>4.093525</td>\n",
              "      <td>3.037288</td>\n",
              "      <td>3.97</td>\n",
              "      <td>5.35</td>\n",
              "      <td>Diabetes_c</td>\n",
              "    </tr>\n",
              "    <tr>\n",
              "      <th>120</th>\n",
              "      <td>4.730000</td>\n",
              "      <td>3.040000</td>\n",
              "      <td>7.04</td>\n",
              "      <td>14.44</td>\n",
              "      <td>Diabetes_c</td>\n",
              "    </tr>\n",
              "    <tr>\n",
              "      <th>121</th>\n",
              "      <td>4.010000</td>\n",
              "      <td>4.110000</td>\n",
              "      <td>6.65</td>\n",
              "      <td>17.37</td>\n",
              "      <td>Diabetes_c</td>\n",
              "    </tr>\n",
              "  </tbody>\n",
              "</table>\n",
              "</div>\n",
              "      <button class=\"colab-df-convert\" onclick=\"convertToInteractive('df-72ecc878-3f77-4f8c-a2e1-a1f60b9c4339')\"\n",
              "              title=\"Convert this dataframe to an interactive table.\"\n",
              "              style=\"display:none;\">\n",
              "        \n",
              "  <svg xmlns=\"http://www.w3.org/2000/svg\" height=\"24px\"viewBox=\"0 0 24 24\"\n",
              "       width=\"24px\">\n",
              "    <path d=\"M0 0h24v24H0V0z\" fill=\"none\"/>\n",
              "    <path d=\"M18.56 5.44l.94 2.06.94-2.06 2.06-.94-2.06-.94-.94-2.06-.94 2.06-2.06.94zm-11 1L8.5 8.5l.94-2.06 2.06-.94-2.06-.94L8.5 2.5l-.94 2.06-2.06.94zm10 10l.94 2.06.94-2.06 2.06-.94-2.06-.94-.94-2.06-.94 2.06-2.06.94z\"/><path d=\"M17.41 7.96l-1.37-1.37c-.4-.4-.92-.59-1.43-.59-.52 0-1.04.2-1.43.59L10.3 9.45l-7.72 7.72c-.78.78-.78 2.05 0 2.83L4 21.41c.39.39.9.59 1.41.59.51 0 1.02-.2 1.41-.59l7.78-7.78 2.81-2.81c.8-.78.8-2.07 0-2.86zM5.41 20L4 18.59l7.72-7.72 1.47 1.35L5.41 20z\"/>\n",
              "  </svg>\n",
              "      </button>\n",
              "      \n",
              "  <style>\n",
              "    .colab-df-container {\n",
              "      display:flex;\n",
              "      flex-wrap:wrap;\n",
              "      gap: 12px;\n",
              "    }\n",
              "\n",
              "    .colab-df-convert {\n",
              "      background-color: #E8F0FE;\n",
              "      border: none;\n",
              "      border-radius: 50%;\n",
              "      cursor: pointer;\n",
              "      display: none;\n",
              "      fill: #1967D2;\n",
              "      height: 32px;\n",
              "      padding: 0 0 0 0;\n",
              "      width: 32px;\n",
              "    }\n",
              "\n",
              "    .colab-df-convert:hover {\n",
              "      background-color: #E2EBFA;\n",
              "      box-shadow: 0px 1px 2px rgba(60, 64, 67, 0.3), 0px 1px 3px 1px rgba(60, 64, 67, 0.15);\n",
              "      fill: #174EA6;\n",
              "    }\n",
              "\n",
              "    [theme=dark] .colab-df-convert {\n",
              "      background-color: #3B4455;\n",
              "      fill: #D2E3FC;\n",
              "    }\n",
              "\n",
              "    [theme=dark] .colab-df-convert:hover {\n",
              "      background-color: #434B5C;\n",
              "      box-shadow: 0px 1px 3px 1px rgba(0, 0, 0, 0.15);\n",
              "      filter: drop-shadow(0px 1px 2px rgba(0, 0, 0, 0.3));\n",
              "      fill: #FFFFFF;\n",
              "    }\n",
              "  </style>\n",
              "\n",
              "      <script>\n",
              "        const buttonEl =\n",
              "          document.querySelector('#df-72ecc878-3f77-4f8c-a2e1-a1f60b9c4339 button.colab-df-convert');\n",
              "        buttonEl.style.display =\n",
              "          google.colab.kernel.accessAllowed ? 'block' : 'none';\n",
              "\n",
              "        async function convertToInteractive(key) {\n",
              "          const element = document.querySelector('#df-72ecc878-3f77-4f8c-a2e1-a1f60b9c4339');\n",
              "          const dataTable =\n",
              "            await google.colab.kernel.invokeFunction('convertToInteractive',\n",
              "                                                     [key], {});\n",
              "          if (!dataTable) return;\n",
              "\n",
              "          const docLinkHtml = 'Like what you see? Visit the ' +\n",
              "            '<a target=\"_blank\" href=https://colab.research.google.com/notebooks/data_table.ipynb>data table notebook</a>'\n",
              "            + ' to learn more about interactive tables.';\n",
              "          element.innerHTML = '';\n",
              "          dataTable['output_type'] = 'display_data';\n",
              "          await google.colab.output.renderOutput(dataTable, element);\n",
              "          const docLink = document.createElement('div');\n",
              "          docLink.innerHTML = docLinkHtml;\n",
              "          element.appendChild(docLink);\n",
              "        }\n",
              "      </script>\n",
              "    </div>\n",
              "  </div>\n",
              "  "
            ]
          },
          "metadata": {},
          "execution_count": 8
        }
      ],
      "source": [
        "display(df_base.shape)\n",
        "# encontrar Q1, Q3 y rango intercuartílico para cada columna\n",
        "Q1 = df_var_numericas.quantile (q = .25)\n",
        "Q3 = df_var_numericas.quantile (q = .75)\n",
        "IQR = df_var_numericas.apply (stats.iqr)\n",
        "\n",
        "# solo mantenga las filas en el marco de datos que tengan valores dentro de 1.5 * IQR de Q1 y Q3\n",
        "df_clean = df_base [~ ((df_base <(Q1-1.5 * IQR)) | (df_base> (Q3 + 1.5 * IQR))). any (axis = 1)]\n",
        "df_atipica = df_base [ ((df_base <(Q1-1.5 * IQR)) | (df_base> (Q3 + 1.5 * IQR))). any (axis = 1)]\n",
        "df_clean_numerica=df_clean.select_dtypes(include=datos_numericos).copy()\n",
        "# encontrar cuántas filas quedan en el marco de datos \n",
        "display(df_clean_numerica.shape)\n",
        "df_atipica"
      ]
    },
    {
      "cell_type": "markdown",
      "metadata": {
        "id": "4XeFzO3ARr7e"
      },
      "source": [
        "#### Se observa que se eliminaron 13 observaciones atípicas. Graficamos el digrama de caja y el hitograma de nuevo "
      ]
    },
    {
      "cell_type": "code",
      "execution_count": null,
      "metadata": {
        "colab": {
          "base_uri": "https://localhost:8080/"
        },
        "id": "eCyBSJHNSaWX",
        "outputId": "f1b718fa-e049-4d37-81fe-747c49766c49"
      },
      "outputs": [
        {
          "output_type": "stream",
          "name": "stdout",
          "text": [
            "AF365 F1:  0.5927511962499996 F3:  4.42834928225\n",
            "AF450 F1:  0.40316063675000025 F3:  2.7722037867499996\n",
            "35 deg F1:  1.4074999999999989 F3:  12.467500000000001\n",
            "42 deg F1:  -1.4274999999999967 F3:  30.472499999999997\n"
          ]
        },
        {
          "output_type": "display_data",
          "data": {
            "text/plain": [
              "<Figure size 864x504 with 4 Axes>"
            ],
            "image/png": "[encoded data removed]"
          },
          "metadata": {
            "needs_background": "light"
          }
        },
        {
          "output_type": "display_data",
          "data": {
            "text/plain": [
              "<Figure size 864x504 with 4 Axes>"
            ],
            "image/png": "[encoded data removed]"
          },
          "metadata": {
            "needs_background": "light"
          }
        }
      ],
      "source": [
        "fig, axes = plt.subplots(nrows=2, ncols=2, figsize=(12, 7))\n",
        "axes = axes.flat \n",
        "\n",
        "boxplot(df_clean_numerica)\n",
        "fig.tight_layout()\n",
        "plt.subplots_adjust(top = 0.9)\n",
        "fig.suptitle('Diagrama de caja de las variables numéricas', fontsize = 20, fontweight = \"bold\");\n",
        "histograma(df_clean_numerica)"
      ]
    },
    {
      "cell_type": "markdown",
      "metadata": {
        "id": "dPT9qHPyUwfs"
      },
      "source": [
        "Se puede observar en el digrama de caja, que ya no se muestran valores tan extremos y en el histograma los datos se encuentran más simetricos"
      ]
    },
    {
      "cell_type": "markdown",
      "metadata": {
        "id": "pl4CVmIq08aA"
      },
      "source": [
        "#### **Correlación de las variables numéricas**"
      ]
    },
    {
      "cell_type": "code",
      "execution_count": null,
      "metadata": {
        "colab": {
          "base_uri": "https://localhost:8080/"
        },
        "id": "0JIgPwF508aA",
        "outputId": "7bfd2873-e48e-48db-d516-f591fa3038c1"
      },
      "outputs": [
        {
          "output_type": "display_data",
          "data": {
            "text/plain": [
              "           AF365     AF450    35 deg    42 deg\n",
              "AF365   1.000000  0.666443 -0.216618 -0.517749\n",
              "AF450   0.666443  1.000000 -0.188036 -0.581328\n",
              "35 deg -0.216618 -0.188036  1.000000  0.629634\n",
              "42 deg -0.517749 -0.581328  0.629634  1.000000"
            ],
            "text/html": [
              "\n",
              "  <div id=\"df-28f71fef-7a80-45f0-984f-db74b9a6ca02\">\n",
              "    <div class=\"colab-df-container\">\n",
              "      <div>\n",
              "<style scoped>\n",
              "    .dataframe tbody tr th:only-of-type {\n",
              "        vertical-align: middle;\n",
              "    }\n",
              "\n",
              "    .dataframe tbody tr th {\n",
              "        vertical-align: top;\n",
              "    }\n",
              "\n",
              "    .dataframe thead th {\n",
              "        text-align: right;\n",
              "    }\n",
              "</style>\n",
              "<table border=\"1\" class=\"dataframe\">\n",
              "  <thead>\n",
              "    <tr style=\"text-align: right;\">\n",
              "      <th></th>\n",
              "      <th>AF365</th>\n",
              "      <th>AF450</th>\n",
              "      <th>35 deg</th>\n",
              "      <th>42 deg</th>\n",
              "    </tr>\n",
              "  </thead>\n",
              "  <tbody>\n",
              "    <tr>\n",
              "      <th>AF365</th>\n",
              "      <td>1.000000</td>\n",
              "      <td>0.666443</td>\n",
              "      <td>-0.216618</td>\n",
              "      <td>-0.517749</td>\n",
              "    </tr>\n",
              "    <tr>\n",
              "      <th>AF450</th>\n",
              "      <td>0.666443</td>\n",
              "      <td>1.000000</td>\n",
              "      <td>-0.188036</td>\n",
              "      <td>-0.581328</td>\n",
              "    </tr>\n",
              "    <tr>\n",
              "      <th>35 deg</th>\n",
              "      <td>-0.216618</td>\n",
              "      <td>-0.188036</td>\n",
              "      <td>1.000000</td>\n",
              "      <td>0.629634</td>\n",
              "    </tr>\n",
              "    <tr>\n",
              "      <th>42 deg</th>\n",
              "      <td>-0.517749</td>\n",
              "      <td>-0.581328</td>\n",
              "      <td>0.629634</td>\n",
              "      <td>1.000000</td>\n",
              "    </tr>\n",
              "  </tbody>\n",
              "</table>\n",
              "</div>\n",
              "      <button class=\"colab-df-convert\" onclick=\"convertToInteractive('df-28f71fef-7a80-45f0-984f-db74b9a6ca02')\"\n",
              "              title=\"Convert this dataframe to an interactive table.\"\n",
              "              style=\"display:none;\">\n",
              "        \n",
              "  <svg xmlns=\"http://www.w3.org/2000/svg\" height=\"24px\"viewBox=\"0 0 24 24\"\n",
              "       width=\"24px\">\n",
              "    <path d=\"M0 0h24v24H0V0z\" fill=\"none\"/>\n",
              "    <path d=\"M18.56 5.44l.94 2.06.94-2.06 2.06-.94-2.06-.94-.94-2.06-.94 2.06-2.06.94zm-11 1L8.5 8.5l.94-2.06 2.06-.94-2.06-.94L8.5 2.5l-.94 2.06-2.06.94zm10 10l.94 2.06.94-2.06 2.06-.94-2.06-.94-.94-2.06-.94 2.06-2.06.94z\"/><path d=\"M17.41 7.96l-1.37-1.37c-.4-.4-.92-.59-1.43-.59-.52 0-1.04.2-1.43.59L10.3 9.45l-7.72 7.72c-.78.78-.78 2.05 0 2.83L4 21.41c.39.39.9.59 1.41.59.51 0 1.02-.2 1.41-.59l7.78-7.78 2.81-2.81c.8-.78.8-2.07 0-2.86zM5.41 20L4 18.59l7.72-7.72 1.47 1.35L5.41 20z\"/>\n",
              "  </svg>\n",
              "      </button>\n",
              "      \n",
              "  <style>\n",
              "    .colab-df-container {\n",
              "      display:flex;\n",
              "      flex-wrap:wrap;\n",
              "      gap: 12px;\n",
              "    }\n",
              "\n",
              "    .colab-df-convert {\n",
              "      background-color: #E8F0FE;\n",
              "      border: none;\n",
              "      border-radius: 50%;\n",
              "      cursor: pointer;\n",
              "      display: none;\n",
              "      fill: #1967D2;\n",
              "      height: 32px;\n",
              "      padding: 0 0 0 0;\n",
              "      width: 32px;\n",
              "    }\n",
              "\n",
              "    .colab-df-convert:hover {\n",
              "      background-color: #E2EBFA;\n",
              "      box-shadow: 0px 1px 2px rgba(60, 64, 67, 0.3), 0px 1px 3px 1px rgba(60, 64, 67, 0.15);\n",
              "      fill: #174EA6;\n",
              "    }\n",
              "\n",
              "    [theme=dark] .colab-df-convert {\n",
              "      background-color: #3B4455;\n",
              "      fill: #D2E3FC;\n",
              "    }\n",
              "\n",
              "    [theme=dark] .colab-df-convert:hover {\n",
              "      background-color: #434B5C;\n",
              "      box-shadow: 0px 1px 3px 1px rgba(0, 0, 0, 0.15);\n",
              "      filter: drop-shadow(0px 1px 2px rgba(0, 0, 0, 0.3));\n",
              "      fill: #FFFFFF;\n",
              "    }\n",
              "  </style>\n",
              "\n",
              "      <script>\n",
              "        const buttonEl =\n",
              "          document.querySelector('#df-28f71fef-7a80-45f0-984f-db74b9a6ca02 button.colab-df-convert');\n",
              "        buttonEl.style.display =\n",
              "          google.colab.kernel.accessAllowed ? 'block' : 'none';\n",
              "\n",
              "        async function convertToInteractive(key) {\n",
              "          const element = document.querySelector('#df-28f71fef-7a80-45f0-984f-db74b9a6ca02');\n",
              "          const dataTable =\n",
              "            await google.colab.kernel.invokeFunction('convertToInteractive',\n",
              "                                                     [key], {});\n",
              "          if (!dataTable) return;\n",
              "\n",
              "          const docLinkHtml = 'Like what you see? Visit the ' +\n",
              "            '<a target=\"_blank\" href=https://colab.research.google.com/notebooks/data_table.ipynb>data table notebook</a>'\n",
              "            + ' to learn more about interactive tables.';\n",
              "          element.innerHTML = '';\n",
              "          dataTable['output_type'] = 'display_data';\n",
              "          await google.colab.output.renderOutput(dataTable, element);\n",
              "          const docLink = document.createElement('div');\n",
              "          docLink.innerHTML = docLinkHtml;\n",
              "          element.appendChild(docLink);\n",
              "        }\n",
              "      </script>\n",
              "    </div>\n",
              "  </div>\n",
              "  "
            ]
          },
          "metadata": {}
        }
      ],
      "source": [
        "corr_matrix=df_clean_numerica.corr()\n",
        "display(corr_matrix)"
      ]
    },
    {
      "cell_type": "code",
      "execution_count": null,
      "metadata": {
        "colab": {
          "base_uri": "https://localhost:8080/"
        },
        "id": "IjsvLzZr08aB",
        "outputId": "9085fda6-7c34-45b3-e5c3-3c13d8f1468d"
      },
      "outputs": [
        {
          "output_type": "display_data",
          "data": {
            "text/plain": [
              "<Figure size 360x360 with 1 Axes>"
            ],
            "image/png": "[encoded data removed]"
          },
          "metadata": {
            "needs_background": "light"
          }
        }
      ],
      "source": [
        "# Heatmap matriz de correlaciones\n",
        "# ==============================================================================\n",
        "fig, ax = plt.subplots(nrows=1, ncols=1, figsize=(5, 5))\n",
        "\n",
        "sns.heatmap(\n",
        "    corr_matrix,\n",
        "    annot     = True,\n",
        "    cbar      = False,\n",
        "    annot_kws = {\"size\": 8},\n",
        "    vmin      = -1,\n",
        "    vmax      = 1,\n",
        "    center    = 0,\n",
        "    cmap      = sns.diverging_palette(20, 220, n=200),\n",
        "    square    = True,\n",
        "    ax        = ax\n",
        ")\n",
        "\n",
        "ax.set_xticklabels(\n",
        "    ax.get_xticklabels(),\n",
        "    rotation = 45,\n",
        "    horizontalalignment = 'right',\n",
        ")\n",
        "\n",
        "ax.tick_params(labelsize = 10)"
      ]
    },
    {
      "cell_type": "markdown",
      "metadata": {
        "id": "1lfNNBuueb4p"
      },
      "source": [
        "#### Las variables de amplitud de fluorescencia se encuentra con una rrelación del 67% y las variables de perfusión cuenta con una relación del 63%. Tienen sentido ya que tienen la misma unidad de medida"
      ]
    },
    {
      "cell_type": "markdown",
      "metadata": {
        "id": "VFGFz__W08Z5"
      },
      "source": [
        "### **Variables no numéricas**"
      ]
    },
    {
      "cell_type": "code",
      "execution_count": null,
      "metadata": {
        "colab": {
          "base_uri": "https://localhost:8080/"
        },
        "id": "Pag_EZRB08Z6",
        "outputId": "9de801ae-9164-43dd-fa14-6ea2a2dbdb6f"
      },
      "outputs": [
        {
          "output_type": "execute_result",
          "data": {
            "text/plain": [
              "     grupo\n",
              "0  Control\n",
              "1  Control\n",
              "2  Control\n",
              "3  Control\n",
              "4  Control"
            ],
            "text/html": [
              "\n",
              "  <div id=\"df-8358a4db-e941-4672-8f18-3dd14add97d3\">\n",
              "    <div class=\"colab-df-container\">\n",
              "      <div>\n",
              "<style scoped>\n",
              "    .dataframe tbody tr th:only-of-type {\n",
              "        vertical-align: middle;\n",
              "    }\n",
              "\n",
              "    .dataframe tbody tr th {\n",
              "        vertical-align: top;\n",
              "    }\n",
              "\n",
              "    .dataframe thead th {\n",
              "        text-align: right;\n",
              "    }\n",
              "</style>\n",
              "<table border=\"1\" class=\"dataframe\">\n",
              "  <thead>\n",
              "    <tr style=\"text-align: right;\">\n",
              "      <th></th>\n",
              "      <th>grupo</th>\n",
              "    </tr>\n",
              "  </thead>\n",
              "  <tbody>\n",
              "    <tr>\n",
              "      <th>0</th>\n",
              "      <td>Control</td>\n",
              "    </tr>\n",
              "    <tr>\n",
              "      <th>1</th>\n",
              "      <td>Control</td>\n",
              "    </tr>\n",
              "    <tr>\n",
              "      <th>2</th>\n",
              "      <td>Control</td>\n",
              "    </tr>\n",
              "    <tr>\n",
              "      <th>3</th>\n",
              "      <td>Control</td>\n",
              "    </tr>\n",
              "    <tr>\n",
              "      <th>4</th>\n",
              "      <td>Control</td>\n",
              "    </tr>\n",
              "  </tbody>\n",
              "</table>\n",
              "</div>\n",
              "      <button class=\"colab-df-convert\" onclick=\"convertToInteractive('df-8358a4db-e941-4672-8f18-3dd14add97d3')\"\n",
              "              title=\"Convert this dataframe to an interactive table.\"\n",
              "              style=\"display:none;\">\n",
              "        \n",
              "  <svg xmlns=\"http://www.w3.org/2000/svg\" height=\"24px\"viewBox=\"0 0 24 24\"\n",
              "       width=\"24px\">\n",
              "    <path d=\"M0 0h24v24H0V0z\" fill=\"none\"/>\n",
              "    <path d=\"M18.56 5.44l.94 2.06.94-2.06 2.06-.94-2.06-.94-.94-2.06-.94 2.06-2.06.94zm-11 1L8.5 8.5l.94-2.06 2.06-.94-2.06-.94L8.5 2.5l-.94 2.06-2.06.94zm10 10l.94 2.06.94-2.06 2.06-.94-2.06-.94-.94-2.06-.94 2.06-2.06.94z\"/><path d=\"M17.41 7.96l-1.37-1.37c-.4-.4-.92-.59-1.43-.59-.52 0-1.04.2-1.43.59L10.3 9.45l-7.72 7.72c-.78.78-.78 2.05 0 2.83L4 21.41c.39.39.9.59 1.41.59.51 0 1.02-.2 1.41-.59l7.78-7.78 2.81-2.81c.8-.78.8-2.07 0-2.86zM5.41 20L4 18.59l7.72-7.72 1.47 1.35L5.41 20z\"/>\n",
              "  </svg>\n",
              "      </button>\n",
              "      \n",
              "  <style>\n",
              "    .colab-df-container {\n",
              "      display:flex;\n",
              "      flex-wrap:wrap;\n",
              "      gap: 12px;\n",
              "    }\n",
              "\n",
              "    .colab-df-convert {\n",
              "      background-color: #E8F0FE;\n",
              "      border: none;\n",
              "      border-radius: 50%;\n",
              "      cursor: pointer;\n",
              "      display: none;\n",
              "      fill: #1967D2;\n",
              "      height: 32px;\n",
              "      padding: 0 0 0 0;\n",
              "      width: 32px;\n",
              "    }\n",
              "\n",
              "    .colab-df-convert:hover {\n",
              "      background-color: #E2EBFA;\n",
              "      box-shadow: 0px 1px 2px rgba(60, 64, 67, 0.3), 0px 1px 3px 1px rgba(60, 64, 67, 0.15);\n",
              "      fill: #174EA6;\n",
              "    }\n",
              "\n",
              "    [theme=dark] .colab-df-convert {\n",
              "      background-color: #3B4455;\n",
              "      fill: #D2E3FC;\n",
              "    }\n",
              "\n",
              "    [theme=dark] .colab-df-convert:hover {\n",
              "      background-color: #434B5C;\n",
              "      box-shadow: 0px 1px 3px 1px rgba(0, 0, 0, 0.15);\n",
              "      filter: drop-shadow(0px 1px 2px rgba(0, 0, 0, 0.3));\n",
              "      fill: #FFFFFF;\n",
              "    }\n",
              "  </style>\n",
              "\n",
              "      <script>\n",
              "        const buttonEl =\n",
              "          document.querySelector('#df-8358a4db-e941-4672-8f18-3dd14add97d3 button.colab-df-convert');\n",
              "        buttonEl.style.display =\n",
              "          google.colab.kernel.accessAllowed ? 'block' : 'none';\n",
              "\n",
              "        async function convertToInteractive(key) {\n",
              "          const element = document.querySelector('#df-8358a4db-e941-4672-8f18-3dd14add97d3');\n",
              "          const dataTable =\n",
              "            await google.colab.kernel.invokeFunction('convertToInteractive',\n",
              "                                                     [key], {});\n",
              "          if (!dataTable) return;\n",
              "\n",
              "          const docLinkHtml = 'Like what you see? Visit the ' +\n",
              "            '<a target=\"_blank\" href=https://colab.research.google.com/notebooks/data_table.ipynb>data table notebook</a>'\n",
              "            + ' to learn more about interactive tables.';\n",
              "          element.innerHTML = '';\n",
              "          dataTable['output_type'] = 'display_data';\n",
              "          await google.colab.output.renderOutput(dataTable, element);\n",
              "          const docLink = document.createElement('div');\n",
              "          docLink.innerHTML = docLinkHtml;\n",
              "          element.appendChild(docLink);\n",
              "        }\n",
              "      </script>\n",
              "    </div>\n",
              "  </div>\n",
              "  "
            ]
          },
          "metadata": {},
          "execution_count": 12
        }
      ],
      "source": [
        "\n",
        "df_var_no_numericas = df_clean[df_clean.columns.difference(df_var_numericas.columns)].copy()\n",
        "df_var_no_numericas.head(5)"
      ]
    },
    {
      "cell_type": "markdown",
      "metadata": {
        "id": "Dx_mqEGE08Z9"
      },
      "source": [
        "#### Se verifican las diferentes categorías con su respectiva frecuencia , de las variables categóricas"
      ]
    },
    {
      "cell_type": "code",
      "execution_count": null,
      "metadata": {
        "colab": {
          "base_uri": "https://localhost:8080/"
        },
        "id": "VacLRHm308Z9",
        "outputId": "8dfbe1b2-8058-4c23-89d5-75c7a463fd99"
      },
      "outputs": [
        {
          "output_type": "display_data",
          "data": {
            "text/plain": [
              "           grupo\n",
              "count        111\n",
              "unique         3\n",
              "top     Diabetes\n",
              "freq          59"
            ],
            "text/html": [
              "\n",
              "  <div id=\"df-cc55e961-96ce-4ecd-ba9e-35532f9f5773\">\n",
              "    <div class=\"colab-df-container\">\n",
              "      <div>\n",
              "<style scoped>\n",
              "    .dataframe tbody tr th:only-of-type {\n",
              "        vertical-align: middle;\n",
              "    }\n",
              "\n",
              "    .dataframe tbody tr th {\n",
              "        vertical-align: top;\n",
              "    }\n",
              "\n",
              "    .dataframe thead th {\n",
              "        text-align: right;\n",
              "    }\n",
              "</style>\n",
              "<table border=\"1\" class=\"dataframe\">\n",
              "  <thead>\n",
              "    <tr style=\"text-align: right;\">\n",
              "      <th></th>\n",
              "      <th>grupo</th>\n",
              "    </tr>\n",
              "  </thead>\n",
              "  <tbody>\n",
              "    <tr>\n",
              "      <th>count</th>\n",
              "      <td>111</td>\n",
              "    </tr>\n",
              "    <tr>\n",
              "      <th>unique</th>\n",
              "      <td>3</td>\n",
              "    </tr>\n",
              "    <tr>\n",
              "      <th>top</th>\n",
              "      <td>Diabetes</td>\n",
              "    </tr>\n",
              "    <tr>\n",
              "      <th>freq</th>\n",
              "      <td>59</td>\n",
              "    </tr>\n",
              "  </tbody>\n",
              "</table>\n",
              "</div>\n",
              "      <button class=\"colab-df-convert\" onclick=\"convertToInteractive('df-cc55e961-96ce-4ecd-ba9e-35532f9f5773')\"\n",
              "              title=\"Convert this dataframe to an interactive table.\"\n",
              "              style=\"display:none;\">\n",
              "        \n",
              "  <svg xmlns=\"http://www.w3.org/2000/svg\" height=\"24px\"viewBox=\"0 0 24 24\"\n",
              "       width=\"24px\">\n",
              "    <path d=\"M0 0h24v24H0V0z\" fill=\"none\"/>\n",
              "    <path d=\"M18.56 5.44l.94 2.06.94-2.06 2.06-.94-2.06-.94-.94-2.06-.94 2.06-2.06.94zm-11 1L8.5 8.5l.94-2.06 2.06-.94-2.06-.94L8.5 2.5l-.94 2.06-2.06.94zm10 10l.94 2.06.94-2.06 2.06-.94-2.06-.94-.94-2.06-.94 2.06-2.06.94z\"/><path d=\"M17.41 7.96l-1.37-1.37c-.4-.4-.92-.59-1.43-.59-.52 0-1.04.2-1.43.59L10.3 9.45l-7.72 7.72c-.78.78-.78 2.05 0 2.83L4 21.41c.39.39.9.59 1.41.59.51 0 1.02-.2 1.41-.59l7.78-7.78 2.81-2.81c.8-.78.8-2.07 0-2.86zM5.41 20L4 18.59l7.72-7.72 1.47 1.35L5.41 20z\"/>\n",
              "  </svg>\n",
              "      </button>\n",
              "      \n",
              "  <style>\n",
              "    .colab-df-container {\n",
              "      display:flex;\n",
              "      flex-wrap:wrap;\n",
              "      gap: 12px;\n",
              "    }\n",
              "\n",
              "    .colab-df-convert {\n",
              "      background-color: #E8F0FE;\n",
              "      border: none;\n",
              "      border-radius: 50%;\n",
              "      cursor: pointer;\n",
              "      display: none;\n",
              "      fill: #1967D2;\n",
              "      height: 32px;\n",
              "      padding: 0 0 0 0;\n",
              "      width: 32px;\n",
              "    }\n",
              "\n",
              "    .colab-df-convert:hover {\n",
              "      background-color: #E2EBFA;\n",
              "      box-shadow: 0px 1px 2px rgba(60, 64, 67, 0.3), 0px 1px 3px 1px rgba(60, 64, 67, 0.15);\n",
              "      fill: #174EA6;\n",
              "    }\n",
              "\n",
              "    [theme=dark] .colab-df-convert {\n",
              "      background-color: #3B4455;\n",
              "      fill: #D2E3FC;\n",
              "    }\n",
              "\n",
              "    [theme=dark] .colab-df-convert:hover {\n",
              "      background-color: #434B5C;\n",
              "      box-shadow: 0px 1px 3px 1px rgba(0, 0, 0, 0.15);\n",
              "      filter: drop-shadow(0px 1px 2px rgba(0, 0, 0, 0.3));\n",
              "      fill: #FFFFFF;\n",
              "    }\n",
              "  </style>\n",
              "\n",
              "      <script>\n",
              "        const buttonEl =\n",
              "          document.querySelector('#df-cc55e961-96ce-4ecd-ba9e-35532f9f5773 button.colab-df-convert');\n",
              "        buttonEl.style.display =\n",
              "          google.colab.kernel.accessAllowed ? 'block' : 'none';\n",
              "\n",
              "        async function convertToInteractive(key) {\n",
              "          const element = document.querySelector('#df-cc55e961-96ce-4ecd-ba9e-35532f9f5773');\n",
              "          const dataTable =\n",
              "            await google.colab.kernel.invokeFunction('convertToInteractive',\n",
              "                                                     [key], {});\n",
              "          if (!dataTable) return;\n",
              "\n",
              "          const docLinkHtml = 'Like what you see? Visit the ' +\n",
              "            '<a target=\"_blank\" href=https://colab.research.google.com/notebooks/data_table.ipynb>data table notebook</a>'\n",
              "            + ' to learn more about interactive tables.';\n",
              "          element.innerHTML = '';\n",
              "          dataTable['output_type'] = 'display_data';\n",
              "          await google.colab.output.renderOutput(dataTable, element);\n",
              "          const docLink = document.createElement('div');\n",
              "          docLink.innerHTML = docLinkHtml;\n",
              "          element.appendChild(docLink);\n",
              "        }\n",
              "      </script>\n",
              "    </div>\n",
              "  </div>\n",
              "  "
            ]
          },
          "metadata": {}
        }
      ],
      "source": [
        "display(df_var_no_numericas.describe())\n",
        "grupo=df_var_no_numericas['grupo']"
      ]
    },
    {
      "cell_type": "markdown",
      "metadata": {
        "id": "Xz0LhqIO08Z6"
      },
      "source": [
        "#### En este caso tampoco hay columnas que tengan datos faltantes"
      ]
    },
    {
      "cell_type": "code",
      "execution_count": null,
      "metadata": {
        "colab": {
          "base_uri": "https://localhost:8080/"
        },
        "id": "IV4CICGN08Z7",
        "outputId": "44bd5828-eae0-46e2-97d4-554e317fcb7d"
      },
      "outputs": [
        {
          "output_type": "display_data",
          "data": {
            "text/plain": [
              "Series([], dtype: int64)"
            ]
          },
          "metadata": {}
        }
      ],
      "source": [
        "total_no_numericas = df_var_no_numericas.isna().sum()\n",
        "serie_col_nombres = total_no_numericas[total_no_numericas > 0]\n",
        "display(serie_col_nombres)"
      ]
    },
    {
      "cell_type": "markdown",
      "metadata": {
        "id": "khbdfO0608Z9"
      },
      "source": [
        "#### Tabla de frecuencia "
      ]
    },
    {
      "cell_type": "code",
      "execution_count": null,
      "metadata": {
        "colab": {
          "base_uri": "https://localhost:8080/"
        },
        "id": "gmOyiy7d08Z-",
        "outputId": "12274220-ac8d-4db4-945e-c4d01c93f88b"
      },
      "outputs": [
        {
          "output_type": "execute_result",
          "data": {
            "text/plain": [
              "Diabetes      59\n",
              "Control       43\n",
              "Diabetes_c     9\n",
              "Name: grupo, dtype: int64"
            ]
          },
          "metadata": {},
          "execution_count": 15
        }
      ],
      "source": [
        "pd.value_counts(grupo)"
      ]
    },
    {
      "cell_type": "code",
      "execution_count": null,
      "metadata": {
        "colab": {
          "base_uri": "https://localhost:8080/"
        },
        "id": "y_-UfvuH08Z-",
        "outputId": "99c747df-7e22-4966-a69d-2ba7b05afbbd"
      },
      "outputs": [
        {
          "output_type": "display_data",
          "data": {
            "text/plain": [
              "<Figure size 432x288 with 1 Axes>"
            ],
            "image/png": "[encoded data removed]"
          },
          "metadata": {
            "needs_background": "light"
          }
        }
      ],
      "source": [
        "\n",
        "plot = grupo.value_counts().plot(kind='bar',\n",
        "                                            title='Grupo de individuos')"
      ]
    },
    {
      "cell_type": "markdown",
      "metadata": {
        "id": "YKY9P3Yq08Z_"
      },
      "source": [
        "#### Tabla de frecuencia relativa"
      ]
    },
    {
      "cell_type": "code",
      "execution_count": null,
      "metadata": {
        "colab": {
          "base_uri": "https://localhost:8080/"
        },
        "id": "thiNKMnk08Z_",
        "outputId": "4a4c9ea5-6980-4d6a-caf7-cc616360614d"
      },
      "outputs": [
        {
          "output_type": "execute_result",
          "data": {
            "text/plain": [
              "Diabetes      53.153153\n",
              "Control       38.738739\n",
              "Diabetes_c     8.108108\n",
              "Name: grupo, dtype: float64"
            ]
          },
          "metadata": {},
          "execution_count": 17
        }
      ],
      "source": [
        "100 * grupo.value_counts() / len(grupo)"
      ]
    },
    {
      "cell_type": "code",
      "execution_count": null,
      "metadata": {
        "colab": {
          "base_uri": "https://localhost:8080/"
        },
        "id": "avDVI5__08aA",
        "outputId": "e75bf0e1-1efd-46b4-cd6d-4a3cf503620e"
      },
      "outputs": [
        {
          "output_type": "display_data",
          "data": {
            "text/plain": [
              "<Figure size 432x432 with 1 Axes>"
            ],
            "image/png": "[encoded data removed]"
          },
          "metadata": {}
        }
      ],
      "source": [
        "plot = grupo.value_counts().plot(kind='pie', autopct='%.2f', \n",
        "                                            figsize=(6, 6),\n",
        "                                            title='Grupo de individuos %')"
      ]
    },
    {
      "cell_type": "markdown",
      "metadata": {
        "id": "ty9GAmheXV9O"
      },
      "source": [
        "Se observan que los datos se encuentran desbalanceados"
      ]
    },
    {
      "cell_type": "markdown",
      "metadata": {
        "id": "pYvyaqxM08aC"
      },
      "source": [
        "## **Parametrización**"
      ]
    },
    {
      "cell_type": "markdown",
      "metadata": {
        "id": "wrZY8Agy08aC"
      },
      "source": [
        "* Se segmenta los datos en dos conjuntos uno de entrenamiento con el 70% y de prueba 30% del total de datos respectivamente."
      ]
    },
    {
      "cell_type": "code",
      "execution_count": null,
      "metadata": {
        "colab": {
          "base_uri": "https://localhost:8080/"
        },
        "id": "i8gPHDLx08aC",
        "outputId": "58f7472d-02f5-4f68-afd4-5c16a0e32013"
      },
      "outputs": [
        {
          "output_type": "stream",
          "name": "stdout",
          "text": [
            "Dataset test shape Counter({'Diabetes': 18, 'Control': 13, 'Diabetes_c': 3})\n",
            "77\n",
            "77\n"
          ]
        }
      ],
      "source": [
        "train_x,test_x,train_y,test_y=train_test_split(df_clean.drop(columns = 'grupo'),df_clean['grupo'],test_size=0.3, random_state = semilla,stratify=df_clean['grupo'])\n",
        "print('Dataset test shape %s' % Counter(test_y))\n",
        "print(len(train_x))\n",
        "print(len(train_y))"
      ]
    },
    {
      "cell_type": "code",
      "source": [
        "gpu_info = !nvidia-smi\n",
        "gpu_info = '\\n'.join(gpu_info)\n",
        "if gpu_info.find('failed') >= 0:\n",
        "  print('Not connected to a GPU')\n",
        "else:\n",
        "  print(gpu_info)"
      ],
      "metadata": {
        "colab": {
          "base_uri": "https://localhost:8080/"
        },
        "id": "SvNfucQC5j4S",
        "outputId": "15e6c23a-ed3a-47a8-dc5d-ebece03266a8"
      },
      "execution_count": null,
      "outputs": [
        {
          "output_type": "stream",
          "name": "stdout",
          "text": [
            "Not connected to a GPU\n"
          ]
        }
      ]
    },
    {
      "cell_type": "markdown",
      "metadata": {
        "id": "NfsBWj2rXsWJ"
      },
      "source": [
        "### ***Funciones***"
      ]
    },
    {
      "cell_type": "code",
      "execution_count": null,
      "metadata": {
        "id": "UF6rl8NnXwSx"
      },
      "outputs": [],
      "source": [
        "def calcularGridSearchCV(estimador, parametros):\n",
        "  grid = GridSearchCV(estimador, parametros,scoring=\"f1_weighted\", n_jobs= multiprocessing.cpu_count() - 1, cv= 5)\n",
        "    \n",
        "  # fitting the model for grid search\n",
        "  grid_search=grid.fit(train_x, train_y)\n",
        "  print(grid_search.best_params_)\n",
        "  predY_test=grid.predict(test_x)\n",
        "  class_report=classification_report(test_y,predY_test)\n",
        "  print(class_report)\n",
        "  print('Accuracy Score testing: ' + str(accuracy_score(test_y,predY_test)))\n",
        "  print('Accuracy Score training: ' + str(grid_search.best_score_))\n",
        "  ConfusionMatrixDisplay.from_estimator(grid, test_x, test_y,cmap=plt.cm.Blues)"
      ]
    },
    {
      "cell_type": "markdown",
      "metadata": {
        "id": "wt9bHhMWWprn"
      },
      "source": [
        "## **Aplicación de Data Augmentation Smote**\n"
      ]
    },
    {
      "cell_type": "code",
      "execution_count": null,
      "metadata": {
        "colab": {
          "base_uri": "https://localhost:8080/"
        },
        "id": "mLzekPbxW1UB",
        "outputId": "acdab7be-0f38-40e6-a1c4-2841ff215948"
      },
      "outputs": [
        {
          "output_type": "stream",
          "name": "stdout",
          "text": [
            "Dataset originial shape Counter({'Diabetes': 41, 'Control': 30, 'Diabetes_c': 6})\n",
            "dataset remuestreado shape Counter({'Control': 41, 'Diabetes_c': 41, 'Diabetes': 41})\n",
            "123\n",
            "123\n"
          ]
        },
        {
          "output_type": "display_data",
          "data": {
            "text/plain": [
              "<Figure size 432x288 with 1 Axes>"
            ],
            "image/png": "[encoded data removed]"
          },
          "metadata": {
            "needs_background": "light"
          }
        }
      ],
      "source": [
        "print('Dataset originial shape %s' % Counter(train_y))\n",
        "sm = SMOTE(random_state=semilla)\n",
        "train_x, train_y = sm.fit_resample(train_x, train_y)\n",
        "print('dataset remuestreado shape %s' % Counter(train_y))\n",
        "plot = train_y.value_counts().plot(kind='bar',\n",
        "                                            title='Grupo de individuos, acplicando Smote')\n",
        "print(len(train_x))\n",
        "print(len(train_y))"
      ]
    },
    {
      "cell_type": "markdown",
      "metadata": {
        "id": "UW3tm6ITMYUN"
      },
      "source": [
        "## **Entrenamiento con Arbol de decisión**"
      ]
    },
    {
      "cell_type": "markdown",
      "metadata": {
        "id": "K9wdtLxdaGL7"
      },
      "source": [
        "Se realiza el entrenamiento con Grid Search basado en out-of-bag score, contemplando los parametros por defecto"
      ]
    },
    {
      "cell_type": "code",
      "execution_count": null,
      "metadata": {
        "colab": {
          "base_uri": "https://localhost:8080/",
          "height": 363
        },
        "id": "LYBDN0fQMfbw",
        "outputId": "719172d0-ddea-4d1f-f2f1-ff6d7aad462e"
      },
      "outputs": [
        {
          "output_type": "execute_result",
          "data": {
            "text/plain": [
              "       oob_accuracy  ccp_alpha class_weight criterion  max_depth  \\\n",
              "19807      0.823529      0.010         None   entropy       50.0   \n",
              "18377      0.823529      0.010         None      gini      100.0   \n",
              "5177       0.823529      0.000         None   entropy        NaN   \n",
              "19577      0.823529      0.010         None   entropy       20.0   \n",
              "26767      0.823529      0.001         None   entropy      100.0   \n",
              "24367      0.823529      0.001         None      gini       15.0   \n",
              "18127      0.823529      0.010         None      gini       50.0   \n",
              "26047      0.823529      0.001         None   entropy       15.0   \n",
              "16927      0.823529      0.010         None      gini        NaN   \n",
              "26297      0.823529      0.001         None   entropy       20.0   \n",
              "\n",
              "       max_features  min_samples_leaf  min_samples_split splitter  \n",
              "19807          0.75                 1                 15   random  \n",
              "18377          0.75                 2                 15   random  \n",
              "5177           0.75                 2                 15   random  \n",
              "19577          0.75                 2                 15   random  \n",
              "26767          0.75                 1                 15   random  \n",
              "24367          0.75                 1                 15   random  \n",
              "18127          0.75                 1                 15   random  \n",
              "26047          0.75                 1                 15   random  \n",
              "16927          0.75                 1                 15   random  \n",
              "26297          0.75                 2                 15   random  "
            ],
            "text/html": [
              "\n",
              "  <div id=\"df-d484f16f-200f-4005-8e8c-f47594c41e08\">\n",
              "    <div class=\"colab-df-container\">\n",
              "      <div>\n",
              "<style scoped>\n",
              "    .dataframe tbody tr th:only-of-type {\n",
              "        vertical-align: middle;\n",
              "    }\n",
              "\n",
              "    .dataframe tbody tr th {\n",
              "        vertical-align: top;\n",
              "    }\n",
              "\n",
              "    .dataframe thead th {\n",
              "        text-align: right;\n",
              "    }\n",
              "</style>\n",
              "<table border=\"1\" class=\"dataframe\">\n",
              "  <thead>\n",
              "    <tr style=\"text-align: right;\">\n",
              "      <th></th>\n",
              "      <th>oob_accuracy</th>\n",
              "      <th>ccp_alpha</th>\n",
              "      <th>class_weight</th>\n",
              "      <th>criterion</th>\n",
              "      <th>max_depth</th>\n",
              "      <th>max_features</th>\n",
              "      <th>min_samples_leaf</th>\n",
              "      <th>min_samples_split</th>\n",
              "      <th>splitter</th>\n",
              "    </tr>\n",
              "  </thead>\n",
              "  <tbody>\n",
              "    <tr>\n",
              "      <th>19807</th>\n",
              "      <td>0.823529</td>\n",
              "      <td>0.010</td>\n",
              "      <td>None</td>\n",
              "      <td>entropy</td>\n",
              "      <td>50.0</td>\n",
              "      <td>0.75</td>\n",
              "      <td>1</td>\n",
              "      <td>15</td>\n",
              "      <td>random</td>\n",
              "    </tr>\n",
              "    <tr>\n",
              "      <th>18377</th>\n",
              "      <td>0.823529</td>\n",
              "      <td>0.010</td>\n",
              "      <td>None</td>\n",
              "      <td>gini</td>\n",
              "      <td>100.0</td>\n",
              "      <td>0.75</td>\n",
              "      <td>2</td>\n",
              "      <td>15</td>\n",
              "      <td>random</td>\n",
              "    </tr>\n",
              "    <tr>\n",
              "      <th>5177</th>\n",
              "      <td>0.823529</td>\n",
              "      <td>0.000</td>\n",
              "      <td>None</td>\n",
              "      <td>entropy</td>\n",
              "      <td>NaN</td>\n",
              "      <td>0.75</td>\n",
              "      <td>2</td>\n",
              "      <td>15</td>\n",
              "      <td>random</td>\n",
              "    </tr>\n",
              "    <tr>\n",
              "      <th>19577</th>\n",
              "      <td>0.823529</td>\n",
              "      <td>0.010</td>\n",
              "      <td>None</td>\n",
              "      <td>entropy</td>\n",
              "      <td>20.0</td>\n",
              "      <td>0.75</td>\n",
              "      <td>2</td>\n",
              "      <td>15</td>\n",
              "      <td>random</td>\n",
              "    </tr>\n",
              "    <tr>\n",
              "      <th>26767</th>\n",
              "      <td>0.823529</td>\n",
              "      <td>0.001</td>\n",
              "      <td>None</td>\n",
              "      <td>entropy</td>\n",
              "      <td>100.0</td>\n",
              "      <td>0.75</td>\n",
              "      <td>1</td>\n",
              "      <td>15</td>\n",
              "      <td>random</td>\n",
              "    </tr>\n",
              "    <tr>\n",
              "      <th>24367</th>\n",
              "      <td>0.823529</td>\n",
              "      <td>0.001</td>\n",
              "      <td>None</td>\n",
              "      <td>gini</td>\n",
              "      <td>15.0</td>\n",
              "      <td>0.75</td>\n",
              "      <td>1</td>\n",
              "      <td>15</td>\n",
              "      <td>random</td>\n",
              "    </tr>\n",
              "    <tr>\n",
              "      <th>18127</th>\n",
              "      <td>0.823529</td>\n",
              "      <td>0.010</td>\n",
              "      <td>None</td>\n",
              "      <td>gini</td>\n",
              "      <td>50.0</td>\n",
              "      <td>0.75</td>\n",
              "      <td>1</td>\n",
              "      <td>15</td>\n",
              "      <td>random</td>\n",
              "    </tr>\n",
              "    <tr>\n",
              "      <th>26047</th>\n",
              "      <td>0.823529</td>\n",
              "      <td>0.001</td>\n",
              "      <td>None</td>\n",
              "      <td>entropy</td>\n",
              "      <td>15.0</td>\n",
              "      <td>0.75</td>\n",
              "      <td>1</td>\n",
              "      <td>15</td>\n",
              "      <td>random</td>\n",
              "    </tr>\n",
              "    <tr>\n",
              "      <th>16927</th>\n",
              "      <td>0.823529</td>\n",
              "      <td>0.010</td>\n",
              "      <td>None</td>\n",
              "      <td>gini</td>\n",
              "      <td>NaN</td>\n",
              "      <td>0.75</td>\n",
              "      <td>1</td>\n",
              "      <td>15</td>\n",
              "      <td>random</td>\n",
              "    </tr>\n",
              "    <tr>\n",
              "      <th>26297</th>\n",
              "      <td>0.823529</td>\n",
              "      <td>0.001</td>\n",
              "      <td>None</td>\n",
              "      <td>entropy</td>\n",
              "      <td>20.0</td>\n",
              "      <td>0.75</td>\n",
              "      <td>2</td>\n",
              "      <td>15</td>\n",
              "      <td>random</td>\n",
              "    </tr>\n",
              "  </tbody>\n",
              "</table>\n",
              "</div>\n",
              "      <button class=\"colab-df-convert\" onclick=\"convertToInteractive('df-d484f16f-200f-4005-8e8c-f47594c41e08')\"\n",
              "              title=\"Convert this dataframe to an interactive table.\"\n",
              "              style=\"display:none;\">\n",
              "        \n",
              "  <svg xmlns=\"http://www.w3.org/2000/svg\" height=\"24px\"viewBox=\"0 0 24 24\"\n",
              "       width=\"24px\">\n",
              "    <path d=\"M0 0h24v24H0V0z\" fill=\"none\"/>\n",
              "    <path d=\"M18.56 5.44l.94 2.06.94-2.06 2.06-.94-2.06-.94-.94-2.06-.94 2.06-2.06.94zm-11 1L8.5 8.5l.94-2.06 2.06-.94-2.06-.94L8.5 2.5l-.94 2.06-2.06.94zm10 10l.94 2.06.94-2.06 2.06-.94-2.06-.94-.94-2.06-.94 2.06-2.06.94z\"/><path d=\"M17.41 7.96l-1.37-1.37c-.4-.4-.92-.59-1.43-.59-.52 0-1.04.2-1.43.59L10.3 9.45l-7.72 7.72c-.78.78-.78 2.05 0 2.83L4 21.41c.39.39.9.59 1.41.59.51 0 1.02-.2 1.41-.59l7.78-7.78 2.81-2.81c.8-.78.8-2.07 0-2.86zM5.41 20L4 18.59l7.72-7.72 1.47 1.35L5.41 20z\"/>\n",
              "  </svg>\n",
              "      </button>\n",
              "      \n",
              "  <style>\n",
              "    .colab-df-container {\n",
              "      display:flex;\n",
              "      flex-wrap:wrap;\n",
              "      gap: 12px;\n",
              "    }\n",
              "\n",
              "    .colab-df-convert {\n",
              "      background-color: #E8F0FE;\n",
              "      border: none;\n",
              "      border-radius: 50%;\n",
              "      cursor: pointer;\n",
              "      display: none;\n",
              "      fill: #1967D2;\n",
              "      height: 32px;\n",
              "      padding: 0 0 0 0;\n",
              "      width: 32px;\n",
              "    }\n",
              "\n",
              "    .colab-df-convert:hover {\n",
              "      background-color: #E2EBFA;\n",
              "      box-shadow: 0px 1px 2px rgba(60, 64, 67, 0.3), 0px 1px 3px 1px rgba(60, 64, 67, 0.15);\n",
              "      fill: #174EA6;\n",
              "    }\n",
              "\n",
              "    [theme=dark] .colab-df-convert {\n",
              "      background-color: #3B4455;\n",
              "      fill: #D2E3FC;\n",
              "    }\n",
              "\n",
              "    [theme=dark] .colab-df-convert:hover {\n",
              "      background-color: #434B5C;\n",
              "      box-shadow: 0px 1px 3px 1px rgba(0, 0, 0, 0.15);\n",
              "      filter: drop-shadow(0px 1px 2px rgba(0, 0, 0, 0.3));\n",
              "      fill: #FFFFFF;\n",
              "    }\n",
              "  </style>\n",
              "\n",
              "      <script>\n",
              "        const buttonEl =\n",
              "          document.querySelector('#df-d484f16f-200f-4005-8e8c-f47594c41e08 button.colab-df-convert');\n",
              "        buttonEl.style.display =\n",
              "          google.colab.kernel.accessAllowed ? 'block' : 'none';\n",
              "\n",
              "        async function convertToInteractive(key) {\n",
              "          const element = document.querySelector('#df-d484f16f-200f-4005-8e8c-f47594c41e08');\n",
              "          const dataTable =\n",
              "            await google.colab.kernel.invokeFunction('convertToInteractive',\n",
              "                                                     [key], {});\n",
              "          if (!dataTable) return;\n",
              "\n",
              "          const docLinkHtml = 'Like what you see? Visit the ' +\n",
              "            '<a target=\"_blank\" href=https://colab.research.google.com/notebooks/data_table.ipynb>data table notebook</a>'\n",
              "            + ' to learn more about interactive tables.';\n",
              "          element.innerHTML = '';\n",
              "          dataTable['output_type'] = 'display_data';\n",
              "          await google.colab.output.renderOutput(dataTable, element);\n",
              "          const docLink = document.createElement('div');\n",
              "          docLink.innerHTML = docLinkHtml;\n",
              "          element.appendChild(docLink);\n",
              "        }\n",
              "      </script>\n",
              "    </div>\n",
              "  </div>\n",
              "  "
            ]
          },
          "metadata": {},
          "execution_count": 44
        }
      ],
      "source": [
        "\n",
        "\n",
        "# Grid de hiperparámetros evaluados\n",
        "# ==============================================================================\n",
        "param_grid = ParameterGrid(\n",
        "                {\n",
        "                    'criterion'   : ['gini', 'entropy'],\n",
        "                    'splitter'    : ['best', 'random'],\n",
        "                    'max_depth'   : [None, 5,10,15,20,50,100],\n",
        "                    'min_samples_split': [2,5,10,15, 20],\n",
        "                    'min_samples_leaf': [1,2,5,10,15,20],\n",
        "                    'max_features': [0.25,0.5, 0.75, 1],#['auto','sqrt', 'log2'],\n",
        "                    'ccp_alpha':    [0.0,0.1, 0.01, 0.001,1],\n",
        "                    'class_weight': ['balanced', None],\n",
        "                 \n",
        "                }\n",
        "            )\n",
        "\n",
        "# Loop para ajustar un modelo con cada combinación de hiperparámetros\n",
        "# ==============================================================================\n",
        "resultados = {'params': [], 'oob_accuracy': []}\n",
        "\n",
        "for params in param_grid:\n",
        "  #class_weight={\"Diabetes_c\":3.5},\n",
        "    tree_model = DecisionTreeClassifier(random_state=semilla,\n",
        "                                             ** params)\n",
        "    \n",
        "    tree_model.fit(train_x, train_y)\n",
        "    score=tree_model.score(test_x,test_y)\n",
        "    resultados['params'].append(params)\n",
        "    resultados['oob_accuracy'].append(score)\n",
        "    #print(f\"Modelo: {params} \\u2713\")\n",
        "\n",
        "# Resultados\n",
        "# ==============================================================================\n",
        "resultados = pd.DataFrame(resultados)\n",
        "resultados = pd.concat([resultados, resultados['params'].apply(pd.Series)], axis=1)\n",
        "resultados = resultados.sort_values('oob_accuracy', ascending=False)\n",
        "resultados = resultados.drop(columns = 'params')\n",
        "resultados.head(10)"
      ]
    },
    {
      "cell_type": "code",
      "execution_count": null,
      "metadata": {
        "colab": {
          "base_uri": "https://localhost:8080/",
          "height": 488
        },
        "id": "Yzmq18Arfj5B",
        "outputId": "8770ae07-6ad5-45d1-a6a4-f925f0c60114"
      },
      "outputs": [
        {
          "output_type": "stream",
          "name": "stdout",
          "text": [
            "              precision    recall  f1-score   support\n",
            "\n",
            "     Control       0.80      0.92      0.86        13\n",
            "    Diabetes       0.83      0.83      0.83        18\n",
            "  Diabetes_c       1.00      0.33      0.50         3\n",
            "\n",
            "    accuracy                           0.82        34\n",
            "   macro avg       0.88      0.70      0.73        34\n",
            "weighted avg       0.84      0.82      0.81        34\n",
            "\n",
            "Accuracy Score : 0.8235294117647058\n"
          ]
        },
        {
          "output_type": "execute_result",
          "data": {
            "text/plain": [
              "<sklearn.metrics._plot.confusion_matrix.ConfusionMatrixDisplay at 0x7f84e4025fd0>"
            ]
          },
          "metadata": {},
          "execution_count": 46
        },
        {
          "output_type": "display_data",
          "data": {
            "text/plain": [
              "<Figure size 432x288 with 2 Axes>"
            ],
            "image/png": "[encoded data removed]"
          },
          "metadata": {
            "needs_background": "light"
          }
        }
      ],
      "source": [
        "tree_model = DecisionTreeClassifier(criterion='entropy',\n",
        "                                    max_depth = 50,\n",
        "                                    max_features=0.75,\n",
        "                                    min_samples_leaf=1,\n",
        "                                    min_samples_split=15,\n",
        "                                    splitter='random',\n",
        "                                    class_weight=None,\n",
        "                                    ccp_alpha=0.010,\n",
        "                                    random_state=semilla\n",
        "                                    )\n",
        "model=tree_model.fit(train_x,train_y)\n",
        "predEY_clas_rnd=tree_model.predict(test_x)\n",
        "class_report=classification_report(test_y,predEY_clas_rnd)\n",
        "print(class_report)\n",
        "print('Accuracy Score : ' + str(accuracy_score(test_y,predEY_clas_rnd)))\n",
        "ConfusionMatrixDisplay.from_estimator(tree_model, test_x, test_y,cmap=plt.cm.Blues)"
      ]
    },
    {
      "cell_type": "markdown",
      "metadata": {
        "id": "6_PcNG71foYr"
      },
      "source": [
        "## **Entrenamiento con Random Forest**"
      ]
    },
    {
      "cell_type": "markdown",
      "metadata": {
        "id": "LKRHXobr08aF"
      },
      "source": [
        "Se realiza el entrenamiento con Grid Search basado en out-of-bag score, contemplando los parametros por defecto"
      ]
    },
    {
      "cell_type": "code",
      "execution_count": null,
      "metadata": {
        "colab": {
          "base_uri": "https://localhost:8080/",
          "height": 363
        },
        "id": "CG7Qtmwu08aF",
        "outputId": "3dc38d7c-43ae-42de-b168-8bf042715a3f"
      },
      "outputs": [
        {
          "output_type": "execute_result",
          "data": {
            "text/plain": [
              "       oob_accuracy  ccp_alpha class_weight criterion  max_depth  \\\n",
              "45509      0.910569      0.001         None   entropy       20.0   \n",
              "10589      0.910569      0.000         None   entropy       20.0   \n",
              "9629       0.910569      0.000         None   entropy       10.0   \n",
              "28349      0.910569      0.010     balanced   entropy       50.0   \n",
              "43229      0.910569      0.001         None   entropy        NaN   \n",
              "45029      0.910569      0.001         None   entropy       15.0   \n",
              "26309      0.910569      0.010     balanced   entropy        NaN   \n",
              "37469      0.910569      0.001     balanced   entropy        NaN   \n",
              "4709       0.910569      0.000     balanced   entropy       15.0   \n",
              "39389      0.910569      0.001     balanced   entropy       20.0   \n",
              "\n",
              "       max_features  min_samples_leaf  min_samples_split  n_estimators  \n",
              "45509          1.00                 2                 10           100  \n",
              "10589          0.25                 2                 10           100  \n",
              "9629           0.25                 2                 10           100  \n",
              "28349          0.25                 2                 10           100  \n",
              "43229          0.25                 2                 10           100  \n",
              "45029          1.00                 2                 10           100  \n",
              "26309          1.00                 2                 10           100  \n",
              "37469          0.25                 2                 10           100  \n",
              "4709           1.00                 2                 10           100  \n",
              "39389          0.25                 2                 10           100  "
            ],
            "text/html": [
              "\n",
              "  <div id=\"df-d702979a-490d-42dc-88db-fb30a9a33496\">\n",
              "    <div class=\"colab-df-container\">\n",
              "      <div>\n",
              "<style scoped>\n",
              "    .dataframe tbody tr th:only-of-type {\n",
              "        vertical-align: middle;\n",
              "    }\n",
              "\n",
              "    .dataframe tbody tr th {\n",
              "        vertical-align: top;\n",
              "    }\n",
              "\n",
              "    .dataframe thead th {\n",
              "        text-align: right;\n",
              "    }\n",
              "</style>\n",
              "<table border=\"1\" class=\"dataframe\">\n",
              "  <thead>\n",
              "    <tr style=\"text-align: right;\">\n",
              "      <th></th>\n",
              "      <th>oob_accuracy</th>\n",
              "      <th>ccp_alpha</th>\n",
              "      <th>class_weight</th>\n",
              "      <th>criterion</th>\n",
              "      <th>max_depth</th>\n",
              "      <th>max_features</th>\n",
              "      <th>min_samples_leaf</th>\n",
              "      <th>min_samples_split</th>\n",
              "      <th>n_estimators</th>\n",
              "    </tr>\n",
              "  </thead>\n",
              "  <tbody>\n",
              "    <tr>\n",
              "      <th>45509</th>\n",
              "      <td>0.910569</td>\n",
              "      <td>0.001</td>\n",
              "      <td>None</td>\n",
              "      <td>entropy</td>\n",
              "      <td>20.0</td>\n",
              "      <td>1.00</td>\n",
              "      <td>2</td>\n",
              "      <td>10</td>\n",
              "      <td>100</td>\n",
              "    </tr>\n",
              "    <tr>\n",
              "      <th>10589</th>\n",
              "      <td>0.910569</td>\n",
              "      <td>0.000</td>\n",
              "      <td>None</td>\n",
              "      <td>entropy</td>\n",
              "      <td>20.0</td>\n",
              "      <td>0.25</td>\n",
              "      <td>2</td>\n",
              "      <td>10</td>\n",
              "      <td>100</td>\n",
              "    </tr>\n",
              "    <tr>\n",
              "      <th>9629</th>\n",
              "      <td>0.910569</td>\n",
              "      <td>0.000</td>\n",
              "      <td>None</td>\n",
              "      <td>entropy</td>\n",
              "      <td>10.0</td>\n",
              "      <td>0.25</td>\n",
              "      <td>2</td>\n",
              "      <td>10</td>\n",
              "      <td>100</td>\n",
              "    </tr>\n",
              "    <tr>\n",
              "      <th>28349</th>\n",
              "      <td>0.910569</td>\n",
              "      <td>0.010</td>\n",
              "      <td>balanced</td>\n",
              "      <td>entropy</td>\n",
              "      <td>50.0</td>\n",
              "      <td>0.25</td>\n",
              "      <td>2</td>\n",
              "      <td>10</td>\n",
              "      <td>100</td>\n",
              "    </tr>\n",
              "    <tr>\n",
              "      <th>43229</th>\n",
              "      <td>0.910569</td>\n",
              "      <td>0.001</td>\n",
              "      <td>None</td>\n",
              "      <td>entropy</td>\n",
              "      <td>NaN</td>\n",
              "      <td>0.25</td>\n",
              "      <td>2</td>\n",
              "      <td>10</td>\n",
              "      <td>100</td>\n",
              "    </tr>\n",
              "    <tr>\n",
              "      <th>45029</th>\n",
              "      <td>0.910569</td>\n",
              "      <td>0.001</td>\n",
              "      <td>None</td>\n",
              "      <td>entropy</td>\n",
              "      <td>15.0</td>\n",
              "      <td>1.00</td>\n",
              "      <td>2</td>\n",
              "      <td>10</td>\n",
              "      <td>100</td>\n",
              "    </tr>\n",
              "    <tr>\n",
              "      <th>26309</th>\n",
              "      <td>0.910569</td>\n",
              "      <td>0.010</td>\n",
              "      <td>balanced</td>\n",
              "      <td>entropy</td>\n",
              "      <td>NaN</td>\n",
              "      <td>1.00</td>\n",
              "      <td>2</td>\n",
              "      <td>10</td>\n",
              "      <td>100</td>\n",
              "    </tr>\n",
              "    <tr>\n",
              "      <th>37469</th>\n",
              "      <td>0.910569</td>\n",
              "      <td>0.001</td>\n",
              "      <td>balanced</td>\n",
              "      <td>entropy</td>\n",
              "      <td>NaN</td>\n",
              "      <td>0.25</td>\n",
              "      <td>2</td>\n",
              "      <td>10</td>\n",
              "      <td>100</td>\n",
              "    </tr>\n",
              "    <tr>\n",
              "      <th>4709</th>\n",
              "      <td>0.910569</td>\n",
              "      <td>0.000</td>\n",
              "      <td>balanced</td>\n",
              "      <td>entropy</td>\n",
              "      <td>15.0</td>\n",
              "      <td>1.00</td>\n",
              "      <td>2</td>\n",
              "      <td>10</td>\n",
              "      <td>100</td>\n",
              "    </tr>\n",
              "    <tr>\n",
              "      <th>39389</th>\n",
              "      <td>0.910569</td>\n",
              "      <td>0.001</td>\n",
              "      <td>balanced</td>\n",
              "      <td>entropy</td>\n",
              "      <td>20.0</td>\n",
              "      <td>0.25</td>\n",
              "      <td>2</td>\n",
              "      <td>10</td>\n",
              "      <td>100</td>\n",
              "    </tr>\n",
              "  </tbody>\n",
              "</table>\n",
              "</div>\n",
              "      <button class=\"colab-df-convert\" onclick=\"convertToInteractive('df-d702979a-490d-42dc-88db-fb30a9a33496')\"\n",
              "              title=\"Convert this dataframe to an interactive table.\"\n",
              "              style=\"display:none;\">\n",
              "        \n",
              "  <svg xmlns=\"http://www.w3.org/2000/svg\" height=\"24px\"viewBox=\"0 0 24 24\"\n",
              "       width=\"24px\">\n",
              "    <path d=\"M0 0h24v24H0V0z\" fill=\"none\"/>\n",
              "    <path d=\"M18.56 5.44l.94 2.06.94-2.06 2.06-.94-2.06-.94-.94-2.06-.94 2.06-2.06.94zm-11 1L8.5 8.5l.94-2.06 2.06-.94-2.06-.94L8.5 2.5l-.94 2.06-2.06.94zm10 10l.94 2.06.94-2.06 2.06-.94-2.06-.94-.94-2.06-.94 2.06-2.06.94z\"/><path d=\"M17.41 7.96l-1.37-1.37c-.4-.4-.92-.59-1.43-.59-.52 0-1.04.2-1.43.59L10.3 9.45l-7.72 7.72c-.78.78-.78 2.05 0 2.83L4 21.41c.39.39.9.59 1.41.59.51 0 1.02-.2 1.41-.59l7.78-7.78 2.81-2.81c.8-.78.8-2.07 0-2.86zM5.41 20L4 18.59l7.72-7.72 1.47 1.35L5.41 20z\"/>\n",
              "  </svg>\n",
              "      </button>\n",
              "      \n",
              "  <style>\n",
              "    .colab-df-container {\n",
              "      display:flex;\n",
              "      flex-wrap:wrap;\n",
              "      gap: 12px;\n",
              "    }\n",
              "\n",
              "    .colab-df-convert {\n",
              "      background-color: #E8F0FE;\n",
              "      border: none;\n",
              "      border-radius: 50%;\n",
              "      cursor: pointer;\n",
              "      display: none;\n",
              "      fill: #1967D2;\n",
              "      height: 32px;\n",
              "      padding: 0 0 0 0;\n",
              "      width: 32px;\n",
              "    }\n",
              "\n",
              "    .colab-df-convert:hover {\n",
              "      background-color: #E2EBFA;\n",
              "      box-shadow: 0px 1px 2px rgba(60, 64, 67, 0.3), 0px 1px 3px 1px rgba(60, 64, 67, 0.15);\n",
              "      fill: #174EA6;\n",
              "    }\n",
              "\n",
              "    [theme=dark] .colab-df-convert {\n",
              "      background-color: #3B4455;\n",
              "      fill: #D2E3FC;\n",
              "    }\n",
              "\n",
              "    [theme=dark] .colab-df-convert:hover {\n",
              "      background-color: #434B5C;\n",
              "      box-shadow: 0px 1px 3px 1px rgba(0, 0, 0, 0.15);\n",
              "      filter: drop-shadow(0px 1px 2px rgba(0, 0, 0, 0.3));\n",
              "      fill: #FFFFFF;\n",
              "    }\n",
              "  </style>\n",
              "\n",
              "      <script>\n",
              "        const buttonEl =\n",
              "          document.querySelector('#df-d702979a-490d-42dc-88db-fb30a9a33496 button.colab-df-convert');\n",
              "        buttonEl.style.display =\n",
              "          google.colab.kernel.accessAllowed ? 'block' : 'none';\n",
              "\n",
              "        async function convertToInteractive(key) {\n",
              "          const element = document.querySelector('#df-d702979a-490d-42dc-88db-fb30a9a33496');\n",
              "          const dataTable =\n",
              "            await google.colab.kernel.invokeFunction('convertToInteractive',\n",
              "                                                     [key], {});\n",
              "          if (!dataTable) return;\n",
              "\n",
              "          const docLinkHtml = 'Like what you see? Visit the ' +\n",
              "            '<a target=\"_blank\" href=https://colab.research.google.com/notebooks/data_table.ipynb>data table notebook</a>'\n",
              "            + ' to learn more about interactive tables.';\n",
              "          element.innerHTML = '';\n",
              "          dataTable['output_type'] = 'display_data';\n",
              "          await google.colab.output.renderOutput(dataTable, element);\n",
              "          const docLink = document.createElement('div');\n",
              "          docLink.innerHTML = docLinkHtml;\n",
              "          element.appendChild(docLink);\n",
              "        }\n",
              "      </script>\n",
              "    </div>\n",
              "  </div>\n",
              "  "
            ]
          },
          "metadata": {},
          "execution_count": 23
        }
      ],
      "source": [
        "# Grid de hiperparámetros evaluados\n",
        "# ==============================================================================\n",
        "param_grid = ParameterGrid(\n",
        "                {\n",
        "                    'n_estimators':     [50,100,150,200],\n",
        "                    'criterion'   :     ['gini', 'entropy'],\n",
        "                    'max_depth'   :     [None,5,10,15,20,50],\n",
        "                    'min_samples_split':[2, 5, 10,15,20],\n",
        "                    'min_samples_leaf': [1,2, 5, 10,15,20],\n",
        "                    'max_features': [0.25,0.5, 0.75, 1],#[None,'sqrt', 'log2'],\n",
        "                    'class_weight': ['balanced', None],\n",
        "                    'ccp_alpha':    [0.0,0.1, 0.01, 0.001],\n",
        "                 \n",
        "                }\n",
        "            )\n",
        "\n",
        "# Loop para ajustar un modelo con cada combinación de hiperparámetros\n",
        "# ==============================================================================\n",
        "resultados = {'params': [], 'oob_accuracy': []}\n",
        "\n",
        "for params in param_grid:\n",
        "    \n",
        "    modelo = RandomForestClassifier(\n",
        "                oob_score    = True,\n",
        "                n_jobs       = -1,\n",
        "                random_state= semilla,\n",
        "                ** params\n",
        "             )\n",
        "    \n",
        "    modelo.fit(train_x, train_y)\n",
        "    \n",
        "    resultados['params'].append(params)\n",
        "    resultados['oob_accuracy'].append(modelo.oob_score_)\n",
        "    #print(f\"Modelo: {params} \\u2713\")\n",
        "\n",
        "# Resultados\n",
        "# ==============================================================================\n",
        "resultados = pd.DataFrame(resultados)\n",
        "resultados = pd.concat([resultados, resultados['params'].apply(pd.Series)], axis=1)\n",
        "resultados = resultados.sort_values('oob_accuracy', ascending=False)\n",
        "resultados = resultados.drop(columns = 'params')\n",
        "resultados.head(10)"
      ]
    },
    {
      "cell_type": "code",
      "execution_count": null,
      "metadata": {
        "colab": {
          "base_uri": "https://localhost:8080/",
          "height": 492
        },
        "id": "PQUZ2Ra808aG",
        "outputId": "22ecc8fd-50af-4a56-ac6a-854c8f0b5e2c"
      },
      "outputs": [
        {
          "output_type": "stream",
          "name": "stdout",
          "text": [
            "              precision    recall  f1-score   support\n",
            "\n",
            "     Control       0.71      0.92      0.80        13\n",
            "    Diabetes       0.86      0.67      0.75        18\n",
            "  Diabetes_c       0.67      0.67      0.67         3\n",
            "\n",
            "    accuracy                           0.76        34\n",
            "   macro avg       0.74      0.75      0.74        34\n",
            "weighted avg       0.78      0.76      0.76        34\n",
            "\n",
            "Accuracy Score : 0.7647058823529411\n"
          ]
        },
        {
          "output_type": "execute_result",
          "data": {
            "text/plain": [
              "<sklearn.metrics._plot.confusion_matrix.ConfusionMatrixDisplay at 0x7f91cf74fc10>"
            ]
          },
          "metadata": {},
          "execution_count": 25
        },
        {
          "output_type": "display_data",
          "data": {
            "text/plain": [
              "<Figure size 432x288 with 2 Axes>"
            ],
            "image/png": "[encoded data removed]"
          },
          "metadata": {
            "needs_background": "light"
          }
        }
      ],
      "source": [
        "new_clas_rndforest = RandomForestClassifier(max_depth=20,max_features=1,criterion='entropy',class_weight=None,random_state=semilla,min_samples_leaf=2,min_samples_split=10,n_estimators=100,ccp_alpha=0.001)\n",
        "new_clas_rndforest.fit(train_x,train_y)\n",
        "predEY_clas_rnd=new_clas_rndforest.predict(test_x)\n",
        "class_report=classification_report(test_y,predEY_clas_rnd)\n",
        "print(class_report)\n",
        "print('Accuracy Score : ' + str(accuracy_score(test_y,predEY_clas_rnd)))\n",
        "ConfusionMatrixDisplay.from_estimator(new_clas_rndforest, test_x, test_y,cmap=plt.cm.Blues)\n"
      ]
    },
    {
      "cell_type": "markdown",
      "metadata": {
        "id": "8x3qLJYpHIWN"
      },
      "source": [
        "## **Entrenamiento con SVM**"
      ]
    },
    {
      "cell_type": "markdown",
      "metadata": {
        "id": "79Bmm_ZfuLk1"
      },
      "source": [
        "Se realiza el entrenamiento con Grid Search CV, contemplando los parametros por defecto"
      ]
    },
    {
      "cell_type": "code",
      "execution_count": null,
      "metadata": {
        "colab": {
          "base_uri": "https://localhost:8080/",
          "height": 506
        },
        "id": "OxfaYB7kxi5N",
        "outputId": "adb39d6b-ce2c-4cb4-b2c4-d5d9f4fc17e4"
      },
      "outputs": [
        {
          "name": "stdout",
          "output_type": "stream",
          "text": [
            "{'svc__C': 10, 'svc__class_weight': 'balanced', 'svc__decision_function_shape': 'ovo', 'svc__gamma': 'scale', 'svc__kernel': 'rbf'}\n",
            "              precision    recall  f1-score   support\n",
            "\n",
            "     Control       0.77      0.77      0.77        13\n",
            "    Diabetes       0.76      0.72      0.74        18\n",
            "  Diabetes_c       0.50      0.67      0.57         3\n",
            "\n",
            "    accuracy                           0.74        34\n",
            "   macro avg       0.68      0.72      0.69        34\n",
            "weighted avg       0.74      0.74      0.74        34\n",
            "\n",
            "Accuracy Score testing: 0.7352941176470589\n",
            "Accuracy Score training: 0.910145373237014\n"
          ]
        },
        {
          "data": {
            "image/png": "[encoded data removed]",
            "text/plain": [
              "<Figure size 432x288 with 2 Axes>"
            ]
          },
          "metadata": {},
          "output_type": "display_data"
        }
      ],
      "source": [
        "\n",
        "new_ml = SVC(random_state =semilla) \n",
        "pipe = Pipeline(steps=[('scaler', StandardScaler()), ('svc', new_ml)])\n",
        "\n",
        "# defining parameter range\n",
        "param_grid = {\n",
        "              'svc__C': [ 0.1,1,5,10],\n",
        "              'svc__kernel': ['linear','poly','rbf','sigmoid'], \n",
        "              'svc__gamma': ['scale', 'auto'],\n",
        "              'svc__class_weight': ['balanced', None],\n",
        "              \"svc__decision_function_shape\":['ovo', 'ovr']\n",
        "              } \n",
        "  \n",
        "calcularGridSearchCV(pipe,param_grid)"
      ]
    },
    {
      "cell_type": "markdown",
      "metadata": {
        "id": "2pJVInS6WBZC"
      },
      "source": [
        "## **Entrenamiento con Red Neuronal (Multi-layer Perceptron classifier)**"
      ]
    },
    {
      "cell_type": "markdown",
      "metadata": {
        "id": "3UscPZ9WGS_Z"
      },
      "source": [
        "Se realiza el entrenamiento con RandomizedSearchCV, contemplando los parametros por defecto"
      ]
    },
    {
      "cell_type": "code",
      "execution_count": null,
      "metadata": {
        "id": "XV_qMiR7d0uK"
      },
      "outputs": [],
      "source": [
        "# Pipeline de preprocedado y modelado\n",
        "# ==============================================================================\n",
        "\n",
        "# Identificación de columnas numéricas y categóricas\n",
        "numeric_cols = train_x.select_dtypes(include=['float64', 'int']).columns.to_list()\n",
        "cat_cols = train_x.select_dtypes(include=['object', 'category']).columns.to_list()\n",
        "\n",
        "\n",
        "# Transformaciones para las variables numéricas\n",
        "numeric_transformer = Pipeline(\n",
        "                        steps=[('scaler', StandardScaler())]\n",
        "                      )\n",
        "\n",
        "# Transformaciones para las variables categóricas\n",
        "categorical_transformer = Pipeline(\n",
        "                            steps=[('onehot', OneHotEncoder(handle_unknown='ignore'))]\n",
        "                          )\n",
        "\n",
        "preprocessor = ColumnTransformer(\n",
        "                    transformers=[\n",
        "                        ('numeric', numeric_transformer, numeric_cols),\n",
        "                        ('cat', categorical_transformer, cat_cols)\n",
        "                    ],\n",
        "                    remainder='passthrough'\n",
        "                )\n",
        "\n",
        "# Se combinan los pasos de preprocesado y el modelo en un mismo pipeline\n",
        "pipe = Pipeline([('preprocessing', preprocessor),\n",
        "                 ('modelo', MLPClassifier(solver = 'lbfgs', max_iter= 2100))])"
      ]
    },
    {
      "cell_type": "code",
      "execution_count": null,
      "metadata": {
        "colab": {
          "base_uri": "https://localhost:8080/"
        },
        "id": "xNvdlL-gemML",
        "outputId": "6a066e2d-62a6-4d61-e168-f94a5cbccff7"
      },
      "outputs": [
        {
          "name": "stderr",
          "output_type": "stream",
          "text": [
            "/usr/local/lib/python3.7/dist-packages/sklearn/model_selection/_validation.py:372: FitFailedWarning: \n",
            "140 fits failed out of a total of 250.\n",
            "The score on these train-test partitions for these parameters will be set to nan.\n",
            "If these failures are not expected, you can try to debug them by setting error_score='raise'.\n",
            "\n",
            "Below are more details about the failures:\n",
            "--------------------------------------------------------------------------------\n",
            "140 fits failed with the following error:\n",
            "Traceback (most recent call last):\n",
            "  File \"/usr/local/lib/python3.7/dist-packages/sklearn/model_selection/_validation.py\", line 680, in _fit_and_score\n",
            "    estimator.fit(X_train, y_train, **fit_params)\n",
            "  File \"/usr/local/lib/python3.7/dist-packages/sklearn/pipeline.py\", line 394, in fit\n",
            "    self._final_estimator.fit(Xt, y, **fit_params_last_step)\n",
            "  File \"/usr/local/lib/python3.7/dist-packages/sklearn/neural_network/_multilayer_perceptron.py\", line 752, in fit\n",
            "    return self._fit(X, y, incremental=False)\n",
            "  File \"/usr/local/lib/python3.7/dist-packages/sklearn/neural_network/_multilayer_perceptron.py\", line 384, in _fit\n",
            "    self._validate_hyperparameters()\n",
            "  File \"/usr/local/lib/python3.7/dist-packages/sklearn/neural_network/_multilayer_perceptron.py\", line 454, in _validate_hyperparameters\n",
            "    if self.alpha < 0.0:\n",
            "ValueError: The truth value of an array with more than one element is ambiguous. Use a.any() or a.all()\n",
            "\n",
            "  warnings.warn(some_fits_failed_message, FitFailedWarning)\n",
            "/usr/local/lib/python3.7/dist-packages/sklearn/model_selection/_search.py:972: UserWarning: One or more of the test scores are non-finite: [0.846             nan 0.30033333 0.846      0.87866667        nan\n",
            " 0.87066667        nan        nan 0.87866667        nan        nan\n",
            " 0.854      0.84533333 0.87066667        nan        nan        nan\n",
            "        nan        nan 0.878             nan 0.87033333 0.85433333\n",
            "        nan        nan 0.895             nan 0.89466667 0.846\n",
            "        nan 0.89466667        nan        nan 0.90233333        nan\n",
            "        nan 0.895      0.46466667 0.86233333        nan 0.87833333\n",
            "        nan 0.87833333        nan        nan        nan        nan\n",
            "        nan        nan]\n",
            "  category=UserWarning,\n",
            "/usr/local/lib/python3.7/dist-packages/sklearn/model_selection/_search.py:972: UserWarning: One or more of the train scores are non-finite: [0.89233148        nan 0.31113173 0.89233148 0.87402597        nan\n",
            " 0.87194393        nan        nan 1.                nan        nan\n",
            " 0.93294166 1.         0.88418883        nan        nan        nan\n",
            "        nan        nan 0.9959596         nan 0.91055452 0.89845393\n",
            "        nan        nan 0.92079984        nan 1.         0.89233148\n",
            "        nan 0.99795918        nan        nan 1.                nan\n",
            "        nan 0.90653474 0.46528551 0.99591837        nan 0.99387755\n",
            "        nan 1.                nan        nan        nan        nan\n",
            "        nan        nan]\n",
            "  category=UserWarning,\n"
          ]
        }
      ],
      "source": [
        "# Espacio de búsqueda de cada hiperparámetro\n",
        "# ==============================================================================\n",
        "param_distributions = {\n",
        "    #'modelo__hidden_layer_sizes': [(100),(10), (20), (10, 10)],\n",
        "    'modelo__hidden_layer_sizes': [(50,50,50), (50,100,50), (100,)],\n",
        "    'modelo__activation': ['identity','logistic','tanh','relu'],\n",
        "    'modelo__solver': ['lbfgs','sgd','adam'],\n",
        "    'modelo__alpha': [0.0001,0.05],\n",
        "    'modelo__learning_rate': ['constant','invscaling','adaptive']\n",
        "}\n",
        "\n",
        "# Búsqueda por validación cruzada\n",
        "# ==============================================================================\n",
        "grid = RandomizedSearchCV(\n",
        "        estimator  = pipe,\n",
        "        param_distributions = param_distributions,\n",
        "        n_iter     = 50,\n",
        "        n_jobs     = multiprocessing.cpu_count() - 1,\n",
        "        cv         = 5, \n",
        "        random_state = semilla,\n",
        "        return_train_score = True\n",
        "       )\n",
        "\n",
        "grid_search=grid.fit(X = train_x, y = train_y)\n"
      ]
    },
    {
      "cell_type": "code",
      "execution_count": null,
      "metadata": {
        "colab": {
          "base_uri": "https://localhost:8080/"
        },
        "id": "nOg1a_cJe873",
        "outputId": "5952e19a-6c97-4ed3-e639-a00823b8d23e"
      },
      "outputs": [
        {
          "name": "stdout",
          "output_type": "stream",
          "text": [
            "Accuracy for our training dataset with tuning is : 90.23%\n",
            "Accuracy for our testing dataset with tuning is : 70.59%\n"
          ]
        },
        {
          "data": {
            "text/plain": [
              "{'activation': 'tanh',\n",
              " 'alpha': 0.0001,\n",
              " 'batch_size': 'auto',\n",
              " 'beta_1': 0.9,\n",
              " 'beta_2': 0.999,\n",
              " 'early_stopping': False,\n",
              " 'epsilon': 1e-08,\n",
              " 'hidden_layer_sizes': 100,\n",
              " 'learning_rate': 'invscaling',\n",
              " 'learning_rate_init': 0.001,\n",
              " 'max_fun': 15000,\n",
              " 'max_iter': 2100,\n",
              " 'momentum': 0.9,\n",
              " 'n_iter_no_change': 10,\n",
              " 'nesterovs_momentum': True,\n",
              " 'power_t': 0.5,\n",
              " 'random_state': None,\n",
              " 'shuffle': True,\n",
              " 'solver': 'lbfgs',\n",
              " 'tol': 0.0001,\n",
              " 'validation_fraction': 0.1,\n",
              " 'verbose': False,\n",
              " 'warm_start': False}"
            ]
          },
          "execution_count": 26,
          "metadata": {},
          "output_type": "execute_result"
        }
      ],
      "source": [
        "modelo_final = grid.best_estimator_\n",
        "\n",
        "accuracy = grid_search.best_score_ *100\n",
        "print(\"Accuracy for our training dataset with tuning is : {:.2f}%\".format(accuracy) )\n",
        "y_test_hat=modelo_final.predict(test_x)\n",
        "test_accuracy=accuracy_score(test_y,y_test_hat)*100\n",
        "test_accuracy\n",
        "print(\"Accuracy for our testing dataset with tuning is : {:.2f}%\".format(test_accuracy) )\n",
        "modelo_final['modelo'].get_params()"
      ]
    },
    {
      "cell_type": "code",
      "execution_count": null,
      "metadata": {
        "colab": {
          "base_uri": "https://localhost:8080/",
          "height": 488
        },
        "id": "2afo_0MnfNVT",
        "outputId": "13503864-08cd-4838-c0bd-780b9ac1dc6c"
      },
      "outputs": [
        {
          "name": "stdout",
          "output_type": "stream",
          "text": [
            "              precision    recall  f1-score   support\n",
            "\n",
            "     Control       0.67      0.77      0.71        13\n",
            "    Diabetes       0.79      0.61      0.69        18\n",
            "  Diabetes_c       0.60      1.00      0.75         3\n",
            "\n",
            "    accuracy                           0.71        34\n",
            "   macro avg       0.68      0.79      0.72        34\n",
            "weighted avg       0.72      0.71      0.70        34\n",
            "\n",
            "Accuracy Score testing: 0.7058823529411765\n"
          ]
        },
        {
          "data": {
            "text/plain": [
              "<sklearn.metrics._plot.confusion_matrix.ConfusionMatrixDisplay at 0x7f663364e390>"
            ]
          },
          "execution_count": 27,
          "metadata": {},
          "output_type": "execute_result"
        },
        {
          "data": {
            "image/png": "[encoded data removed]",
            "text/plain": [
              "<Figure size 432x288 with 2 Axes>"
            ]
          },
          "metadata": {},
          "output_type": "display_data"
        }
      ],
      "source": [
        "confusion_matrix(test_y,y_test_hat)\n",
        "#disp=plot_confusion_matrix(grid, test_x, test_y,cmap=plt.cm.Blues)\n",
        "class_report=classification_report(test_y,y_test_hat)\n",
        "print(class_report)\n",
        "print('Accuracy Score testing: ' + str(accuracy_score(test_y,y_test_hat)))\n",
        "ConfusionMatrixDisplay.from_estimator(modelo_final, test_x, test_y,cmap=plt.cm.Blues)"
      ]
    },
    {
      "cell_type": "markdown",
      "metadata": {
        "id": "aaQ37aj3Ujcg"
      },
      "source": [
        "## **Entrenamiento con Nearest Neighbors Classification**"
      ]
    },
    {
      "cell_type": "markdown",
      "metadata": {
        "id": "RdGH7-8csqsK"
      },
      "source": [
        "Se realiza el entrenamiento con Grid Search, contemplando los parametros por defecto"
      ]
    },
    {
      "cell_type": "code",
      "execution_count": null,
      "metadata": {
        "colab": {
          "base_uri": "https://localhost:8080/",
          "height": 506
        },
        "id": "3HypkcoTUiWV",
        "outputId": "c6e38e97-01b4-4db6-f419-4c234d30571b"
      },
      "outputs": [
        {
          "name": "stdout",
          "output_type": "stream",
          "text": [
            "{'knn__algorithm': 'auto', 'knn__leaf_size': 30, 'knn__n_neighbors': 5, 'knn__p': 2, 'knn__weights': 'distance'}\n",
            "              precision    recall  f1-score   support\n",
            "\n",
            "     Control       0.79      0.85      0.81        13\n",
            "    Diabetes       0.85      0.61      0.71        18\n",
            "  Diabetes_c       0.43      1.00      0.60         3\n",
            "\n",
            "    accuracy                           0.74        34\n",
            "   macro avg       0.69      0.82      0.71        34\n",
            "weighted avg       0.79      0.74      0.74        34\n",
            "\n",
            "Accuracy Score testing: 0.7352941176470589\n",
            "Accuracy Score training: 0.8774480711582878\n"
          ]
        },
        {
          "data": {
            "image/png": "[encoded data removed]",
            "text/plain": [
              "<Figure size 432x288 with 2 Axes>"
            ]
          },
          "metadata": {},
          "output_type": "display_data"
        }
      ],
      "source": [
        "\n",
        "\n",
        "knn = KNeighborsClassifier(n_jobs=-1)\n",
        "pipe = Pipeline(steps=[('scaler', StandardScaler()), ('knn', knn)])\n",
        "\n",
        "# defining parameter range\n",
        "param_grid = {\n",
        "              'knn__n_neighbors': [ 5,10,20,20],\n",
        "              'knn__weights': ['uniform','distance'], \n",
        "              'knn__algorithm': ['auto', 'ball_tree','kd_tree','brute'],\n",
        "              'knn__leaf_size': [30,50,100],\n",
        "              'knn__p': [1,2]\n",
        "              } \n",
        "  \n",
        "calcularGridSearchCV(pipe,param_grid)"
      ]
    }
  ],
  "metadata": {
    "colab": {
      "collapsed_sections": [
        "T4dNADRJ08Zt",
        "taeffTpWbOGe",
        "FRqy251M08Zx",
        "mvZ_hpth08Z0",
        "p0QK5JMC08Z8",
        "S8CdSx_ldnp3",
        "g4K46p2MlUVZ",
        "05LL3aogQE0v",
        "VFGFz__W08Z5",
        "Dx_mqEGE08Z9",
        "YKY9P3Yq08Z_",
        "pYvyaqxM08aC",
        "wt9bHhMWWprn",
        "UW3tm6ITMYUN",
        "8x3qLJYpHIWN",
        "aaQ37aj3Ujcg"
      ],
      "provenance": []
    },
    "gpuClass": "standard",
    "kernelspec": {
      "display_name": "Python 3",
      "language": "python",
      "name": "python3"
    },
    "language_info": {
      "codemirror_mode": {
        "name": "ipython",
        "version": 3
      },
      "file_extension": ".py",
      "mimetype": "text/x-python",
      "name": "python",
      "nbconvert_exporter": "python",
      "pygments_lexer": "ipython3",
      "version": "3.8.5"
    }
  },
  "nbformat": 4,
  "nbformat_minor": 0
}