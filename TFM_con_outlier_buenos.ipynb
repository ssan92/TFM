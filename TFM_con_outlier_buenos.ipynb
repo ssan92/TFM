{
  "cells": [
    {
      "cell_type": "markdown",
      "metadata": {
        "id": "2D4zUG_t08Zj"
      },
      "source": [
        ""
      ]
    },
    {
      "cell_type": "markdown",
      "metadata": {
        "id": "T4dNADRJ08Zt"
      },
      "source": [
        "\n",
        "\n",
        "##  **Librerías utilizadas**"
      ]
    },
    {
      "cell_type": "code",
      "execution_count": null,
      "metadata": {
        "id": "49K26ZUP08Zu"
      },
      "outputs": [],
      "source": [
        "# Tratamiento de datos\n",
        "# ==============================================================================\n",
        "import numpy as np\n",
        "import pandas as pd\n",
        "import statsmodels.api as sm\n",
        "import scipy.stats as stats\n",
        "\n",
        "\n",
        "# Gráficos\n",
        "# ==============================================================================\n",
        "import matplotlib.pyplot as plt\n",
        "from matplotlib import style\n",
        "import seaborn as sns\n",
        "\n",
        "# Preprocesado y modelado\n",
        "# ==============================================================================\n",
        "\n",
        "from sklearn.tree import DecisionTreeClassifier\n",
        "from sklearn.ensemble import RandomForestClassifier\n",
        "from sklearn.svm import SVC\n",
        "from sklearn.neighbors import KNeighborsClassifier\n",
        "from sklearn.metrics import accuracy_score,recall_score,precision_score,f1_score\n",
        "from sklearn.metrics import confusion_matrix,ConfusionMatrixDisplay\n",
        "from sklearn.metrics import roc_curve, auc\n",
        "from sklearn.metrics import plot_confusion_matrix\n",
        "from sklearn.metrics import classification_report\n",
        "from sklearn.compose import ColumnTransformer\n",
        "from sklearn.model_selection import cross_val_score\n",
        "from sklearn.model_selection import train_test_split\n",
        "from sklearn.model_selection import RepeatedKFold\n",
        "from sklearn.model_selection import GridSearchCV\n",
        "from sklearn.model_selection import ParameterGrid\n",
        "from sklearn.model_selection import KFold\n",
        "from sklearn.pipeline import Pipeline\n",
        "from sklearn import svm\n",
        "from sklearn.inspection import permutation_importance\n",
        "from sklearn.datasets import make_blobs\n",
        "from sklearn.neural_network import MLPClassifier\n",
        "from sklearn.model_selection import RandomizedSearchCV\n",
        "import multiprocessing\n",
        "from sklearn.model_selection import validation_curve\n",
        "from sklearn.preprocessing import StandardScaler\n",
        "from sklearn.preprocessing import label_binarize\n",
        "from sklearn.preprocessing import OneHotEncoder\n",
        "from sklearn.pipeline import make_pipeline\n",
        "from google.colab import drive\n",
        "\n",
        "from collections import Counter\n",
        "from numpy.random import RandomState\n",
        "from imblearn.over_sampling import SMOTE\n",
        "\n",
        "# Configuración warnings\n",
        "# ==============================================================================\n",
        "#import warnings\n",
        "#warnings.filterwarnings('once')\n",
        "\n",
        "# Variables globales\n",
        "semilla = 42"
      ]
    },
    {
      "cell_type": "markdown",
      "metadata": {
        "id": "taeffTpWbOGe"
      },
      "source": [
        "## **Análisis descriptivo**"
      ]
    },
    {
      "cell_type": "markdown",
      "metadata": {
        "id": "FRqy251M08Zx"
      },
      "source": [
        "### **Leer los datos del archivo**"
      ]
    },
    {
      "cell_type": "code",
      "execution_count": null,
      "metadata": {
        "colab": {
          "base_uri": "https://localhost:8080/"
        },
        "id": "769hpoHA08Zy",
        "outputId": "fb322775-31f2-4ba5-fab1-78045f81c6f3"
      },
      "outputs": [
        {
          "output_type": "stream",
          "name": "stdout",
          "text": [
            "Mounted at /content/drive\n"
          ]
        },
        {
          "output_type": "display_data",
          "data": {
            "text/plain": [
              "      AF365     AF450  35 deg  42 deg    grupo\n",
              "0  2.320158  1.229614   13.01   19.39  Control\n",
              "1  1.529274  0.616514    8.18   24.78  Control\n",
              "2  1.908257  0.955847    7.75   16.90  Control\n",
              "3  1.590625  1.018495    4.10   16.30  Control\n",
              "4  1.617071  1.242961    5.76   21.05  Control"
            ],
            "text/html": [
              "\n",
              "  <div id=\"df-4d5e5149-c824-43c7-9646-f98bb5e437dd\">\n",
              "    <div class=\"colab-df-container\">\n",
              "      <div>\n",
              "<style scoped>\n",
              "    .dataframe tbody tr th:only-of-type {\n",
              "        vertical-align: middle;\n",
              "    }\n",
              "\n",
              "    .dataframe tbody tr th {\n",
              "        vertical-align: top;\n",
              "    }\n",
              "\n",
              "    .dataframe thead th {\n",
              "        text-align: right;\n",
              "    }\n",
              "</style>\n",
              "<table border=\"1\" class=\"dataframe\">\n",
              "  <thead>\n",
              "    <tr style=\"text-align: right;\">\n",
              "      <th></th>\n",
              "      <th>AF365</th>\n",
              "      <th>AF450</th>\n",
              "      <th>35 deg</th>\n",
              "      <th>42 deg</th>\n",
              "      <th>grupo</th>\n",
              "    </tr>\n",
              "  </thead>\n",
              "  <tbody>\n",
              "    <tr>\n",
              "      <th>0</th>\n",
              "      <td>2.320158</td>\n",
              "      <td>1.229614</td>\n",
              "      <td>13.01</td>\n",
              "      <td>19.39</td>\n",
              "      <td>Control</td>\n",
              "    </tr>\n",
              "    <tr>\n",
              "      <th>1</th>\n",
              "      <td>1.529274</td>\n",
              "      <td>0.616514</td>\n",
              "      <td>8.18</td>\n",
              "      <td>24.78</td>\n",
              "      <td>Control</td>\n",
              "    </tr>\n",
              "    <tr>\n",
              "      <th>2</th>\n",
              "      <td>1.908257</td>\n",
              "      <td>0.955847</td>\n",
              "      <td>7.75</td>\n",
              "      <td>16.90</td>\n",
              "      <td>Control</td>\n",
              "    </tr>\n",
              "    <tr>\n",
              "      <th>3</th>\n",
              "      <td>1.590625</td>\n",
              "      <td>1.018495</td>\n",
              "      <td>4.10</td>\n",
              "      <td>16.30</td>\n",
              "      <td>Control</td>\n",
              "    </tr>\n",
              "    <tr>\n",
              "      <th>4</th>\n",
              "      <td>1.617071</td>\n",
              "      <td>1.242961</td>\n",
              "      <td>5.76</td>\n",
              "      <td>21.05</td>\n",
              "      <td>Control</td>\n",
              "    </tr>\n",
              "  </tbody>\n",
              "</table>\n",
              "</div>\n",
              "      <button class=\"colab-df-convert\" onclick=\"convertToInteractive('df-4d5e5149-c824-43c7-9646-f98bb5e437dd')\"\n",
              "              title=\"Convert this dataframe to an interactive table.\"\n",
              "              style=\"display:none;\">\n",
              "        \n",
              "  <svg xmlns=\"http://www.w3.org/2000/svg\" height=\"24px\"viewBox=\"0 0 24 24\"\n",
              "       width=\"24px\">\n",
              "    <path d=\"M0 0h24v24H0V0z\" fill=\"none\"/>\n",
              "    <path d=\"M18.56 5.44l.94 2.06.94-2.06 2.06-.94-2.06-.94-.94-2.06-.94 2.06-2.06.94zm-11 1L8.5 8.5l.94-2.06 2.06-.94-2.06-.94L8.5 2.5l-.94 2.06-2.06.94zm10 10l.94 2.06.94-2.06 2.06-.94-2.06-.94-.94-2.06-.94 2.06-2.06.94z\"/><path d=\"M17.41 7.96l-1.37-1.37c-.4-.4-.92-.59-1.43-.59-.52 0-1.04.2-1.43.59L10.3 9.45l-7.72 7.72c-.78.78-.78 2.05 0 2.83L4 21.41c.39.39.9.59 1.41.59.51 0 1.02-.2 1.41-.59l7.78-7.78 2.81-2.81c.8-.78.8-2.07 0-2.86zM5.41 20L4 18.59l7.72-7.72 1.47 1.35L5.41 20z\"/>\n",
              "  </svg>\n",
              "      </button>\n",
              "      \n",
              "  <style>\n",
              "    .colab-df-container {\n",
              "      display:flex;\n",
              "      flex-wrap:wrap;\n",
              "      gap: 12px;\n",
              "    }\n",
              "\n",
              "    .colab-df-convert {\n",
              "      background-color: #E8F0FE;\n",
              "      border: none;\n",
              "      border-radius: 50%;\n",
              "      cursor: pointer;\n",
              "      display: none;\n",
              "      fill: #1967D2;\n",
              "      height: 32px;\n",
              "      padding: 0 0 0 0;\n",
              "      width: 32px;\n",
              "    }\n",
              "\n",
              "    .colab-df-convert:hover {\n",
              "      background-color: #E2EBFA;\n",
              "      box-shadow: 0px 1px 2px rgba(60, 64, 67, 0.3), 0px 1px 3px 1px rgba(60, 64, 67, 0.15);\n",
              "      fill: #174EA6;\n",
              "    }\n",
              "\n",
              "    [theme=dark] .colab-df-convert {\n",
              "      background-color: #3B4455;\n",
              "      fill: #D2E3FC;\n",
              "    }\n",
              "\n",
              "    [theme=dark] .colab-df-convert:hover {\n",
              "      background-color: #434B5C;\n",
              "      box-shadow: 0px 1px 3px 1px rgba(0, 0, 0, 0.15);\n",
              "      filter: drop-shadow(0px 1px 2px rgba(0, 0, 0, 0.3));\n",
              "      fill: #FFFFFF;\n",
              "    }\n",
              "  </style>\n",
              "\n",
              "      <script>\n",
              "        const buttonEl =\n",
              "          document.querySelector('#df-4d5e5149-c824-43c7-9646-f98bb5e437dd button.colab-df-convert');\n",
              "        buttonEl.style.display =\n",
              "          google.colab.kernel.accessAllowed ? 'block' : 'none';\n",
              "\n",
              "        async function convertToInteractive(key) {\n",
              "          const element = document.querySelector('#df-4d5e5149-c824-43c7-9646-f98bb5e437dd');\n",
              "          const dataTable =\n",
              "            await google.colab.kernel.invokeFunction('convertToInteractive',\n",
              "                                                     [key], {});\n",
              "          if (!dataTable) return;\n",
              "\n",
              "          const docLinkHtml = 'Like what you see? Visit the ' +\n",
              "            '<a target=\"_blank\" href=https://colab.research.google.com/notebooks/data_table.ipynb>data table notebook</a>'\n",
              "            + ' to learn more about interactive tables.';\n",
              "          element.innerHTML = '';\n",
              "          dataTable['output_type'] = 'display_data';\n",
              "          await google.colab.output.renderOutput(dataTable, element);\n",
              "          const docLink = document.createElement('div');\n",
              "          docLink.innerHTML = docLinkHtml;\n",
              "          element.appendChild(docLink);\n",
              "        }\n",
              "      </script>\n",
              "    </div>\n",
              "  </div>\n",
              "  "
            ]
          },
          "metadata": {}
        }
      ],
      "source": [
        "\n",
        "drive.mount('/content/drive')\n",
        "\n",
        "df_base=pd.read_csv(\"drive/MyDrive/TFM/DataSetProd.csv\")\n",
        "display(df_base.head(5))"
      ]
    },
    {
      "cell_type": "markdown",
      "metadata": {
        "id": "mvZ_hpth08Z0"
      },
      "source": [
        "### **Variables numéricas**"
      ]
    },
    {
      "cell_type": "code",
      "execution_count": null,
      "metadata": {
        "colab": {
          "base_uri": "https://localhost:8080/"
        },
        "id": "QxgDyIEJ08Z1",
        "outputId": "7822d484-9899-4d05-b0e6-5b8b859d1825"
      },
      "outputs": [
        {
          "output_type": "execute_result",
          "data": {
            "text/plain": [
              "      AF365     AF450  35 deg  42 deg\n",
              "0  2.320158  1.229614   13.01   19.39\n",
              "1  1.529274  0.616514    8.18   24.78\n",
              "2  1.908257  0.955847    7.75   16.90\n",
              "3  1.590625  1.018495    4.10   16.30\n",
              "4  1.617071  1.242961    5.76   21.05"
            ],
            "text/html": [
              "\n",
              "  <div id=\"df-495be311-702b-403c-a6f0-74dd1e2b6aae\">\n",
              "    <div class=\"colab-df-container\">\n",
              "      <div>\n",
              "<style scoped>\n",
              "    .dataframe tbody tr th:only-of-type {\n",
              "        vertical-align: middle;\n",
              "    }\n",
              "\n",
              "    .dataframe tbody tr th {\n",
              "        vertical-align: top;\n",
              "    }\n",
              "\n",
              "    .dataframe thead th {\n",
              "        text-align: right;\n",
              "    }\n",
              "</style>\n",
              "<table border=\"1\" class=\"dataframe\">\n",
              "  <thead>\n",
              "    <tr style=\"text-align: right;\">\n",
              "      <th></th>\n",
              "      <th>AF365</th>\n",
              "      <th>AF450</th>\n",
              "      <th>35 deg</th>\n",
              "      <th>42 deg</th>\n",
              "    </tr>\n",
              "  </thead>\n",
              "  <tbody>\n",
              "    <tr>\n",
              "      <th>0</th>\n",
              "      <td>2.320158</td>\n",
              "      <td>1.229614</td>\n",
              "      <td>13.01</td>\n",
              "      <td>19.39</td>\n",
              "    </tr>\n",
              "    <tr>\n",
              "      <th>1</th>\n",
              "      <td>1.529274</td>\n",
              "      <td>0.616514</td>\n",
              "      <td>8.18</td>\n",
              "      <td>24.78</td>\n",
              "    </tr>\n",
              "    <tr>\n",
              "      <th>2</th>\n",
              "      <td>1.908257</td>\n",
              "      <td>0.955847</td>\n",
              "      <td>7.75</td>\n",
              "      <td>16.90</td>\n",
              "    </tr>\n",
              "    <tr>\n",
              "      <th>3</th>\n",
              "      <td>1.590625</td>\n",
              "      <td>1.018495</td>\n",
              "      <td>4.10</td>\n",
              "      <td>16.30</td>\n",
              "    </tr>\n",
              "    <tr>\n",
              "      <th>4</th>\n",
              "      <td>1.617071</td>\n",
              "      <td>1.242961</td>\n",
              "      <td>5.76</td>\n",
              "      <td>21.05</td>\n",
              "    </tr>\n",
              "  </tbody>\n",
              "</table>\n",
              "</div>\n",
              "      <button class=\"colab-df-convert\" onclick=\"convertToInteractive('df-495be311-702b-403c-a6f0-74dd1e2b6aae')\"\n",
              "              title=\"Convert this dataframe to an interactive table.\"\n",
              "              style=\"display:none;\">\n",
              "        \n",
              "  <svg xmlns=\"http://www.w3.org/2000/svg\" height=\"24px\"viewBox=\"0 0 24 24\"\n",
              "       width=\"24px\">\n",
              "    <path d=\"M0 0h24v24H0V0z\" fill=\"none\"/>\n",
              "    <path d=\"M18.56 5.44l.94 2.06.94-2.06 2.06-.94-2.06-.94-.94-2.06-.94 2.06-2.06.94zm-11 1L8.5 8.5l.94-2.06 2.06-.94-2.06-.94L8.5 2.5l-.94 2.06-2.06.94zm10 10l.94 2.06.94-2.06 2.06-.94-2.06-.94-.94-2.06-.94 2.06-2.06.94z\"/><path d=\"M17.41 7.96l-1.37-1.37c-.4-.4-.92-.59-1.43-.59-.52 0-1.04.2-1.43.59L10.3 9.45l-7.72 7.72c-.78.78-.78 2.05 0 2.83L4 21.41c.39.39.9.59 1.41.59.51 0 1.02-.2 1.41-.59l7.78-7.78 2.81-2.81c.8-.78.8-2.07 0-2.86zM5.41 20L4 18.59l7.72-7.72 1.47 1.35L5.41 20z\"/>\n",
              "  </svg>\n",
              "      </button>\n",
              "      \n",
              "  <style>\n",
              "    .colab-df-container {\n",
              "      display:flex;\n",
              "      flex-wrap:wrap;\n",
              "      gap: 12px;\n",
              "    }\n",
              "\n",
              "    .colab-df-convert {\n",
              "      background-color: #E8F0FE;\n",
              "      border: none;\n",
              "      border-radius: 50%;\n",
              "      cursor: pointer;\n",
              "      display: none;\n",
              "      fill: #1967D2;\n",
              "      height: 32px;\n",
              "      padding: 0 0 0 0;\n",
              "      width: 32px;\n",
              "    }\n",
              "\n",
              "    .colab-df-convert:hover {\n",
              "      background-color: #E2EBFA;\n",
              "      box-shadow: 0px 1px 2px rgba(60, 64, 67, 0.3), 0px 1px 3px 1px rgba(60, 64, 67, 0.15);\n",
              "      fill: #174EA6;\n",
              "    }\n",
              "\n",
              "    [theme=dark] .colab-df-convert {\n",
              "      background-color: #3B4455;\n",
              "      fill: #D2E3FC;\n",
              "    }\n",
              "\n",
              "    [theme=dark] .colab-df-convert:hover {\n",
              "      background-color: #434B5C;\n",
              "      box-shadow: 0px 1px 3px 1px rgba(0, 0, 0, 0.15);\n",
              "      filter: drop-shadow(0px 1px 2px rgba(0, 0, 0, 0.3));\n",
              "      fill: #FFFFFF;\n",
              "    }\n",
              "  </style>\n",
              "\n",
              "      <script>\n",
              "        const buttonEl =\n",
              "          document.querySelector('#df-495be311-702b-403c-a6f0-74dd1e2b6aae button.colab-df-convert');\n",
              "        buttonEl.style.display =\n",
              "          google.colab.kernel.accessAllowed ? 'block' : 'none';\n",
              "\n",
              "        async function convertToInteractive(key) {\n",
              "          const element = document.querySelector('#df-495be311-702b-403c-a6f0-74dd1e2b6aae');\n",
              "          const dataTable =\n",
              "            await google.colab.kernel.invokeFunction('convertToInteractive',\n",
              "                                                     [key], {});\n",
              "          if (!dataTable) return;\n",
              "\n",
              "          const docLinkHtml = 'Like what you see? Visit the ' +\n",
              "            '<a target=\"_blank\" href=https://colab.research.google.com/notebooks/data_table.ipynb>data table notebook</a>'\n",
              "            + ' to learn more about interactive tables.';\n",
              "          element.innerHTML = '';\n",
              "          dataTable['output_type'] = 'display_data';\n",
              "          await google.colab.output.renderOutput(dataTable, element);\n",
              "          const docLink = document.createElement('div');\n",
              "          docLink.innerHTML = docLinkHtml;\n",
              "          element.appendChild(docLink);\n",
              "        }\n",
              "      </script>\n",
              "    </div>\n",
              "  </div>\n",
              "  "
            ]
          },
          "metadata": {},
          "execution_count": 4
        }
      ],
      "source": [
        "datos_numericos = ['int16', 'int32', 'int64', 'float16', 'float32', 'float64']\n",
        "df_var_numericas = df_base.select_dtypes(include=datos_numericos).copy()\n",
        "df_var_numericas.head(5)"
      ]
    },
    {
      "cell_type": "markdown",
      "metadata": {
        "id": "p0QK5JMC08Z8"
      },
      "source": [
        "#### Se verifican el valor mínimo, el máximo, la mediana y la media, de las variables numéricas"
      ]
    },
    {
      "cell_type": "code",
      "execution_count": null,
      "metadata": {
        "colab": {
          "base_uri": "https://localhost:8080/"
        },
        "id": "VHLtPtWM08Z8",
        "outputId": "7255cddc-586a-4122-85bb-ca3ed7633c62"
      },
      "outputs": [
        {
          "output_type": "display_data",
          "data": {
            "text/plain": [
              "            AF365       AF450      35 deg      42 deg\n",
              "count  124.000000  124.000000  124.000000  124.000000\n",
              "mean     2.575719    1.683305    7.269597   14.861048\n",
              "std      0.814076    0.731116    2.899653    5.746477\n",
              "min      0.410494    0.270591    2.100000    3.700000\n",
              "25%      2.061781    1.292338    5.457500   10.552500\n",
              "50%      2.550161    1.633922    6.700000   14.675000\n",
              "75%      3.051504    1.942651    8.630000   18.592500\n",
              "max      4.855556    6.458824   17.290000   32.480000"
            ],
            "text/html": [
              "\n",
              "  <div id=\"df-3361285c-744e-45c2-acb8-8191054fbb76\">\n",
              "    <div class=\"colab-df-container\">\n",
              "      <div>\n",
              "<style scoped>\n",
              "    .dataframe tbody tr th:only-of-type {\n",
              "        vertical-align: middle;\n",
              "    }\n",
              "\n",
              "    .dataframe tbody tr th {\n",
              "        vertical-align: top;\n",
              "    }\n",
              "\n",
              "    .dataframe thead th {\n",
              "        text-align: right;\n",
              "    }\n",
              "</style>\n",
              "<table border=\"1\" class=\"dataframe\">\n",
              "  <thead>\n",
              "    <tr style=\"text-align: right;\">\n",
              "      <th></th>\n",
              "      <th>AF365</th>\n",
              "      <th>AF450</th>\n",
              "      <th>35 deg</th>\n",
              "      <th>42 deg</th>\n",
              "    </tr>\n",
              "  </thead>\n",
              "  <tbody>\n",
              "    <tr>\n",
              "      <th>count</th>\n",
              "      <td>124.000000</td>\n",
              "      <td>124.000000</td>\n",
              "      <td>124.000000</td>\n",
              "      <td>124.000000</td>\n",
              "    </tr>\n",
              "    <tr>\n",
              "      <th>mean</th>\n",
              "      <td>2.575719</td>\n",
              "      <td>1.683305</td>\n",
              "      <td>7.269597</td>\n",
              "      <td>14.861048</td>\n",
              "    </tr>\n",
              "    <tr>\n",
              "      <th>std</th>\n",
              "      <td>0.814076</td>\n",
              "      <td>0.731116</td>\n",
              "      <td>2.899653</td>\n",
              "      <td>5.746477</td>\n",
              "    </tr>\n",
              "    <tr>\n",
              "      <th>min</th>\n",
              "      <td>0.410494</td>\n",
              "      <td>0.270591</td>\n",
              "      <td>2.100000</td>\n",
              "      <td>3.700000</td>\n",
              "    </tr>\n",
              "    <tr>\n",
              "      <th>25%</th>\n",
              "      <td>2.061781</td>\n",
              "      <td>1.292338</td>\n",
              "      <td>5.457500</td>\n",
              "      <td>10.552500</td>\n",
              "    </tr>\n",
              "    <tr>\n",
              "      <th>50%</th>\n",
              "      <td>2.550161</td>\n",
              "      <td>1.633922</td>\n",
              "      <td>6.700000</td>\n",
              "      <td>14.675000</td>\n",
              "    </tr>\n",
              "    <tr>\n",
              "      <th>75%</th>\n",
              "      <td>3.051504</td>\n",
              "      <td>1.942651</td>\n",
              "      <td>8.630000</td>\n",
              "      <td>18.592500</td>\n",
              "    </tr>\n",
              "    <tr>\n",
              "      <th>max</th>\n",
              "      <td>4.855556</td>\n",
              "      <td>6.458824</td>\n",
              "      <td>17.290000</td>\n",
              "      <td>32.480000</td>\n",
              "    </tr>\n",
              "  </tbody>\n",
              "</table>\n",
              "</div>\n",
              "      <button class=\"colab-df-convert\" onclick=\"convertToInteractive('df-3361285c-744e-45c2-acb8-8191054fbb76')\"\n",
              "              title=\"Convert this dataframe to an interactive table.\"\n",
              "              style=\"display:none;\">\n",
              "        \n",
              "  <svg xmlns=\"http://www.w3.org/2000/svg\" height=\"24px\"viewBox=\"0 0 24 24\"\n",
              "       width=\"24px\">\n",
              "    <path d=\"M0 0h24v24H0V0z\" fill=\"none\"/>\n",
              "    <path d=\"M18.56 5.44l.94 2.06.94-2.06 2.06-.94-2.06-.94-.94-2.06-.94 2.06-2.06.94zm-11 1L8.5 8.5l.94-2.06 2.06-.94-2.06-.94L8.5 2.5l-.94 2.06-2.06.94zm10 10l.94 2.06.94-2.06 2.06-.94-2.06-.94-.94-2.06-.94 2.06-2.06.94z\"/><path d=\"M17.41 7.96l-1.37-1.37c-.4-.4-.92-.59-1.43-.59-.52 0-1.04.2-1.43.59L10.3 9.45l-7.72 7.72c-.78.78-.78 2.05 0 2.83L4 21.41c.39.39.9.59 1.41.59.51 0 1.02-.2 1.41-.59l7.78-7.78 2.81-2.81c.8-.78.8-2.07 0-2.86zM5.41 20L4 18.59l7.72-7.72 1.47 1.35L5.41 20z\"/>\n",
              "  </svg>\n",
              "      </button>\n",
              "      \n",
              "  <style>\n",
              "    .colab-df-container {\n",
              "      display:flex;\n",
              "      flex-wrap:wrap;\n",
              "      gap: 12px;\n",
              "    }\n",
              "\n",
              "    .colab-df-convert {\n",
              "      background-color: #E8F0FE;\n",
              "      border: none;\n",
              "      border-radius: 50%;\n",
              "      cursor: pointer;\n",
              "      display: none;\n",
              "      fill: #1967D2;\n",
              "      height: 32px;\n",
              "      padding: 0 0 0 0;\n",
              "      width: 32px;\n",
              "    }\n",
              "\n",
              "    .colab-df-convert:hover {\n",
              "      background-color: #E2EBFA;\n",
              "      box-shadow: 0px 1px 2px rgba(60, 64, 67, 0.3), 0px 1px 3px 1px rgba(60, 64, 67, 0.15);\n",
              "      fill: #174EA6;\n",
              "    }\n",
              "\n",
              "    [theme=dark] .colab-df-convert {\n",
              "      background-color: #3B4455;\n",
              "      fill: #D2E3FC;\n",
              "    }\n",
              "\n",
              "    [theme=dark] .colab-df-convert:hover {\n",
              "      background-color: #434B5C;\n",
              "      box-shadow: 0px 1px 3px 1px rgba(0, 0, 0, 0.15);\n",
              "      filter: drop-shadow(0px 1px 2px rgba(0, 0, 0, 0.3));\n",
              "      fill: #FFFFFF;\n",
              "    }\n",
              "  </style>\n",
              "\n",
              "      <script>\n",
              "        const buttonEl =\n",
              "          document.querySelector('#df-3361285c-744e-45c2-acb8-8191054fbb76 button.colab-df-convert');\n",
              "        buttonEl.style.display =\n",
              "          google.colab.kernel.accessAllowed ? 'block' : 'none';\n",
              "\n",
              "        async function convertToInteractive(key) {\n",
              "          const element = document.querySelector('#df-3361285c-744e-45c2-acb8-8191054fbb76');\n",
              "          const dataTable =\n",
              "            await google.colab.kernel.invokeFunction('convertToInteractive',\n",
              "                                                     [key], {});\n",
              "          if (!dataTable) return;\n",
              "\n",
              "          const docLinkHtml = 'Like what you see? Visit the ' +\n",
              "            '<a target=\"_blank\" href=https://colab.research.google.com/notebooks/data_table.ipynb>data table notebook</a>'\n",
              "            + ' to learn more about interactive tables.';\n",
              "          element.innerHTML = '';\n",
              "          dataTable['output_type'] = 'display_data';\n",
              "          await google.colab.output.renderOutput(dataTable, element);\n",
              "          const docLink = document.createElement('div');\n",
              "          docLink.innerHTML = docLinkHtml;\n",
              "          element.appendChild(docLink);\n",
              "        }\n",
              "      </script>\n",
              "    </div>\n",
              "  </div>\n",
              "  "
            ]
          },
          "metadata": {}
        }
      ],
      "source": [
        "df_quartiles=df_var_numericas.describe()\n",
        "display(df_quartiles)"
      ]
    },
    {
      "cell_type": "markdown",
      "metadata": {
        "id": "Kt-IzuplQg18"
      },
      "source": [
        "En este caso no se observan valores faltantes en las variables neméricas"
      ]
    },
    {
      "cell_type": "code",
      "execution_count": null,
      "metadata": {
        "colab": {
          "base_uri": "https://localhost:8080/"
        },
        "id": "FNPqKCY308Z3",
        "outputId": "e0f90e76-cb10-41f0-fd5b-3b9fd5cf803c"
      },
      "outputs": [
        {
          "output_type": "display_data",
          "data": {
            "text/plain": [
              "Series([], dtype: int64)"
            ]
          },
          "metadata": {}
        }
      ],
      "source": [
        "col_total_nulos = df_var_numericas.isnull().sum()\n",
        "serie_col_nombres = col_total_nulos[col_total_nulos > 0]\n",
        "display(serie_col_nombres)"
      ]
    },
    {
      "cell_type": "markdown",
      "metadata": {
        "id": "S8CdSx_ldnp3"
      },
      "source": [
        "#### Verificar valores atípicos"
      ]
    },
    {
      "cell_type": "code",
      "execution_count": null,
      "metadata": {
        "colab": {
          "base_uri": "https://localhost:8080/"
        },
        "id": "RXkVt5ppfKLl",
        "outputId": "badcb64f-b494-4965-9303-664c198edb81"
      },
      "outputs": [
        {
          "output_type": "stream",
          "name": "stdout",
          "text": [
            "AF365 F1:  0.5771965720000005 F3:  4.536089135999999\n",
            "AF450 F1:  0.3168678017500006 F3:  2.9181208117499997\n",
            "35 deg F1:  0.6987499999999978 F3:  13.388750000000002\n",
            "42 deg F1:  -1.507500000000002 F3:  30.652500000000003\n"
          ]
        },
        {
          "output_type": "display_data",
          "data": {
            "text/plain": [
              "<Figure size 864x504 with 4 Axes>"
            ],
            "image/png": "[encoded data removed]"
          },
          "metadata": {
            "needs_background": "light"
          }
        }
      ],
      "source": [
        "fig, axes = plt.subplots(nrows=2, ncols=2, figsize=(12, 7))\n",
        "axes = axes.flat\n",
        "\n",
        "def boxplot(df):\n",
        "  i=0\n",
        "  for colum in df:\n",
        "    sns.boxplot(\n",
        "        x       = df[colum],\n",
        "        color   = (list(plt.rcParams['axes.prop_cycle'])*2)[i][\"color\"],\n",
        "        ax=axes[i])\n",
        "    axes[i].set_title(colum, fontsize = 10, fontweight = \"bold\")\n",
        "    axes[i].tick_params(labelsize = 8)\n",
        "    axes[i].set_xlabel(\"\")\n",
        "    axes[i].set_ylabel(\"\")\n",
        "    i+=1\n",
        "\n",
        "    # encontrar Q1, Q3 y rango intercuartílico para cada columna\n",
        "    Q1 = df.quantile (q = .25)[colum]\n",
        "    Q3 = df.quantile (q = .75)[colum]\n",
        "    IQR = df.apply (stats.iqr)[colum]\n",
        "    F1 = Q1-1.5*IQR\n",
        "    F3 = Q3+1.5*IQR\n",
        "    print(colum, 'F1: ', F1, 'F3: ',F3)\n",
        "    \n",
        "    \n",
        "\n",
        "boxplot(df_var_numericas)\n",
        "fig.tight_layout()\n",
        "plt.subplots_adjust(top = 0.9)\n",
        "fig.suptitle('Diagrama de caja de las variables numéricas', fontsize = 20, fontweight = \"bold\");\n",
        "\n"
      ]
    },
    {
      "cell_type": "markdown",
      "metadata": {
        "id": "Ty7WMCEr81_J"
      },
      "source": [
        "#### De acuerdo con el grafico, sobre la dispersión de los datos se observar que la variable AF450 se encuentra menos dispersas que las demás. Por otro lado, sobre los valores atípicos, de acuerdo con límite inferior f1 y límite superior f3 (calculado por el método de rango intercuartílico), si existen valores atípicos en el conjunto de datos, por lo que podrían hacer ruido en los modelos a crear.\n",
        "***En este ejercicio vamos a tratar estos outliers como outliers buenos ya que en el ejercicio anterior, al aplicar el tratamiento de datos, la clase \"Diabetes_c\" se vio bastante afectada en el balanceo. Entonces vamos a utilizar estos datos sin aplicar alguna tecnica de tratamiento de datos.***"
      ]
    },
    {
      "cell_type": "markdown",
      "metadata": {
        "id": "g4K46p2MlUVZ"
      },
      "source": [
        "#### Distribución de variables númericas para verificar si existe simetría"
      ]
    },
    {
      "cell_type": "code",
      "execution_count": null,
      "metadata": {
        "colab": {
          "base_uri": "https://localhost:8080/"
        },
        "id": "kwmAVXvVZUEe",
        "outputId": "f147030b-23af-455a-f374-9b5e102a4edf"
      },
      "outputs": [
        {
          "output_type": "display_data",
          "data": {
            "text/plain": [
              "<Figure size 864x504 with 4 Axes>"
            ],
            "image/png": "[encoded data removed]"
          },
          "metadata": {
            "needs_background": "light"
          }
        }
      ],
      "source": [
        "def histograma(df):\n",
        "  fig, axes = plt.subplots(nrows=2, ncols=2, figsize=(12, 7))\n",
        "  axes = axes.flat\n",
        "\n",
        "  for i, colum in enumerate(df):\n",
        "      sns.histplot(\n",
        "          \n",
        "          data    = df,\n",
        "          x       = colum,\n",
        "          stat    = \"count\",\n",
        "          kde     = True,\n",
        "          color   = (list(plt.rcParams['axes.prop_cycle'])*2)[i][\"color\"],\n",
        "          line_kws= {'linewidth': 2},\n",
        "          alpha   = 0.3,\n",
        "          ax      = axes[i]\n",
        "      )\n",
        "      axes[i].set_title(colum, fontsize = 10, fontweight = \"bold\")\n",
        "      axes[i].tick_params(labelsize = 8)\n",
        "      axes[i].set_xlabel(\"\")\n",
        "      axes[i].set_ylabel(\"\")\n",
        "      \n",
        "  fig.tight_layout()\n",
        "  plt.subplots_adjust(top = 0.9)\n",
        "  fig.suptitle('Distribución variables numéricas', fontsize = 20, fontweight = \"bold\");\n",
        "histograma(df_var_numericas)"
      ]
    },
    {
      "cell_type": "markdown",
      "metadata": {
        "id": "pl4CVmIq08aA"
      },
      "source": [
        "### **Correlación de las variables numéricas**"
      ]
    },
    {
      "cell_type": "code",
      "execution_count": null,
      "metadata": {
        "colab": {
          "base_uri": "https://localhost:8080/"
        },
        "id": "0JIgPwF508aA",
        "outputId": "9536acb0-6b73-4f34-c4a1-8e14a81f5e4c"
      },
      "outputs": [
        {
          "output_type": "display_data",
          "data": {
            "text/plain": [
              "           AF365     AF450    35 deg    42 deg\n",
              "AF365   1.000000  0.541802 -0.180744 -0.469525\n",
              "AF450   0.541802  1.000000 -0.133801 -0.412165\n",
              "35 deg -0.180744 -0.133801  1.000000  0.683498\n",
              "42 deg -0.469525 -0.412165  0.683498  1.000000"
            ],
            "text/html": [
              "\n",
              "  <div id=\"df-ca7a0e9f-7f18-4598-865b-12f4256a3cf6\">\n",
              "    <div class=\"colab-df-container\">\n",
              "      <div>\n",
              "<style scoped>\n",
              "    .dataframe tbody tr th:only-of-type {\n",
              "        vertical-align: middle;\n",
              "    }\n",
              "\n",
              "    .dataframe tbody tr th {\n",
              "        vertical-align: top;\n",
              "    }\n",
              "\n",
              "    .dataframe thead th {\n",
              "        text-align: right;\n",
              "    }\n",
              "</style>\n",
              "<table border=\"1\" class=\"dataframe\">\n",
              "  <thead>\n",
              "    <tr style=\"text-align: right;\">\n",
              "      <th></th>\n",
              "      <th>AF365</th>\n",
              "      <th>AF450</th>\n",
              "      <th>35 deg</th>\n",
              "      <th>42 deg</th>\n",
              "    </tr>\n",
              "  </thead>\n",
              "  <tbody>\n",
              "    <tr>\n",
              "      <th>AF365</th>\n",
              "      <td>1.000000</td>\n",
              "      <td>0.541802</td>\n",
              "      <td>-0.180744</td>\n",
              "      <td>-0.469525</td>\n",
              "    </tr>\n",
              "    <tr>\n",
              "      <th>AF450</th>\n",
              "      <td>0.541802</td>\n",
              "      <td>1.000000</td>\n",
              "      <td>-0.133801</td>\n",
              "      <td>-0.412165</td>\n",
              "    </tr>\n",
              "    <tr>\n",
              "      <th>35 deg</th>\n",
              "      <td>-0.180744</td>\n",
              "      <td>-0.133801</td>\n",
              "      <td>1.000000</td>\n",
              "      <td>0.683498</td>\n",
              "    </tr>\n",
              "    <tr>\n",
              "      <th>42 deg</th>\n",
              "      <td>-0.469525</td>\n",
              "      <td>-0.412165</td>\n",
              "      <td>0.683498</td>\n",
              "      <td>1.000000</td>\n",
              "    </tr>\n",
              "  </tbody>\n",
              "</table>\n",
              "</div>\n",
              "      <button class=\"colab-df-convert\" onclick=\"convertToInteractive('df-ca7a0e9f-7f18-4598-865b-12f4256a3cf6')\"\n",
              "              title=\"Convert this dataframe to an interactive table.\"\n",
              "              style=\"display:none;\">\n",
              "        \n",
              "  <svg xmlns=\"http://www.w3.org/2000/svg\" height=\"24px\"viewBox=\"0 0 24 24\"\n",
              "       width=\"24px\">\n",
              "    <path d=\"M0 0h24v24H0V0z\" fill=\"none\"/>\n",
              "    <path d=\"M18.56 5.44l.94 2.06.94-2.06 2.06-.94-2.06-.94-.94-2.06-.94 2.06-2.06.94zm-11 1L8.5 8.5l.94-2.06 2.06-.94-2.06-.94L8.5 2.5l-.94 2.06-2.06.94zm10 10l.94 2.06.94-2.06 2.06-.94-2.06-.94-.94-2.06-.94 2.06-2.06.94z\"/><path d=\"M17.41 7.96l-1.37-1.37c-.4-.4-.92-.59-1.43-.59-.52 0-1.04.2-1.43.59L10.3 9.45l-7.72 7.72c-.78.78-.78 2.05 0 2.83L4 21.41c.39.39.9.59 1.41.59.51 0 1.02-.2 1.41-.59l7.78-7.78 2.81-2.81c.8-.78.8-2.07 0-2.86zM5.41 20L4 18.59l7.72-7.72 1.47 1.35L5.41 20z\"/>\n",
              "  </svg>\n",
              "      </button>\n",
              "      \n",
              "  <style>\n",
              "    .colab-df-container {\n",
              "      display:flex;\n",
              "      flex-wrap:wrap;\n",
              "      gap: 12px;\n",
              "    }\n",
              "\n",
              "    .colab-df-convert {\n",
              "      background-color: #E8F0FE;\n",
              "      border: none;\n",
              "      border-radius: 50%;\n",
              "      cursor: pointer;\n",
              "      display: none;\n",
              "      fill: #1967D2;\n",
              "      height: 32px;\n",
              "      padding: 0 0 0 0;\n",
              "      width: 32px;\n",
              "    }\n",
              "\n",
              "    .colab-df-convert:hover {\n",
              "      background-color: #E2EBFA;\n",
              "      box-shadow: 0px 1px 2px rgba(60, 64, 67, 0.3), 0px 1px 3px 1px rgba(60, 64, 67, 0.15);\n",
              "      fill: #174EA6;\n",
              "    }\n",
              "\n",
              "    [theme=dark] .colab-df-convert {\n",
              "      background-color: #3B4455;\n",
              "      fill: #D2E3FC;\n",
              "    }\n",
              "\n",
              "    [theme=dark] .colab-df-convert:hover {\n",
              "      background-color: #434B5C;\n",
              "      box-shadow: 0px 1px 3px 1px rgba(0, 0, 0, 0.15);\n",
              "      filter: drop-shadow(0px 1px 2px rgba(0, 0, 0, 0.3));\n",
              "      fill: #FFFFFF;\n",
              "    }\n",
              "  </style>\n",
              "\n",
              "      <script>\n",
              "        const buttonEl =\n",
              "          document.querySelector('#df-ca7a0e9f-7f18-4598-865b-12f4256a3cf6 button.colab-df-convert');\n",
              "        buttonEl.style.display =\n",
              "          google.colab.kernel.accessAllowed ? 'block' : 'none';\n",
              "\n",
              "        async function convertToInteractive(key) {\n",
              "          const element = document.querySelector('#df-ca7a0e9f-7f18-4598-865b-12f4256a3cf6');\n",
              "          const dataTable =\n",
              "            await google.colab.kernel.invokeFunction('convertToInteractive',\n",
              "                                                     [key], {});\n",
              "          if (!dataTable) return;\n",
              "\n",
              "          const docLinkHtml = 'Like what you see? Visit the ' +\n",
              "            '<a target=\"_blank\" href=https://colab.research.google.com/notebooks/data_table.ipynb>data table notebook</a>'\n",
              "            + ' to learn more about interactive tables.';\n",
              "          element.innerHTML = '';\n",
              "          dataTable['output_type'] = 'display_data';\n",
              "          await google.colab.output.renderOutput(dataTable, element);\n",
              "          const docLink = document.createElement('div');\n",
              "          docLink.innerHTML = docLinkHtml;\n",
              "          element.appendChild(docLink);\n",
              "        }\n",
              "      </script>\n",
              "    </div>\n",
              "  </div>\n",
              "  "
            ]
          },
          "metadata": {}
        }
      ],
      "source": [
        "corr_matrix=df_var_numericas.corr()\n",
        "display(corr_matrix)"
      ]
    },
    {
      "cell_type": "code",
      "execution_count": null,
      "metadata": {
        "colab": {
          "base_uri": "https://localhost:8080/"
        },
        "id": "IjsvLzZr08aB",
        "outputId": "11935299-b480-41ee-a2b7-8c465b7ce1d4"
      },
      "outputs": [
        {
          "output_type": "display_data",
          "data": {
            "text/plain": [
              "<Figure size 360x360 with 1 Axes>"
            ],
            "image/png": "[encoded data removed]"
          },
          "metadata": {
            "needs_background": "light"
          }
        }
      ],
      "source": [
        "# Heatmap matriz de correlaciones\n",
        "# ==============================================================================\n",
        "fig, ax = plt.subplots(nrows=1, ncols=1, figsize=(5, 5))\n",
        "\n",
        "sns.heatmap(\n",
        "    corr_matrix,\n",
        "    annot     = True,\n",
        "    cbar      = False,\n",
        "    annot_kws = {\"size\": 8},\n",
        "    vmin      = -1,\n",
        "    vmax      = 1,\n",
        "    center    = 0,\n",
        "    cmap      = sns.diverging_palette(20, 220, n=200),\n",
        "    square    = True,\n",
        "    ax        = ax\n",
        ")\n",
        "\n",
        "ax.set_xticklabels(\n",
        "    ax.get_xticklabels(),\n",
        "    rotation = 45,\n",
        "    horizontalalignment = 'right',\n",
        ")\n",
        "\n",
        "ax.tick_params(labelsize = 10)"
      ]
    },
    {
      "cell_type": "markdown",
      "metadata": {
        "id": "1lfNNBuueb4p"
      },
      "source": [
        "#### Las variables de amplitud de fluorescencia se encuentra con una relación del 54% y las variables de perfusión cuenta con una relación del 68%. Tienen sentido ya que tienen la misma unidad de medida"
      ]
    },
    {
      "cell_type": "markdown",
      "metadata": {
        "id": "VFGFz__W08Z5"
      },
      "source": [
        "### **Variables no numéricas**"
      ]
    },
    {
      "cell_type": "code",
      "execution_count": null,
      "metadata": {
        "colab": {
          "base_uri": "https://localhost:8080/"
        },
        "id": "Pag_EZRB08Z6",
        "outputId": "1a972faf-2b27-4ecf-e5dd-9fab888402c6"
      },
      "outputs": [
        {
          "output_type": "execute_result",
          "data": {
            "text/plain": [
              "     grupo\n",
              "0  Control\n",
              "1  Control\n",
              "2  Control\n",
              "3  Control\n",
              "4  Control"
            ],
            "text/html": [
              "\n",
              "  <div id=\"df-7ddd31f2-771c-4dca-85ea-9eee22736f13\">\n",
              "    <div class=\"colab-df-container\">\n",
              "      <div>\n",
              "<style scoped>\n",
              "    .dataframe tbody tr th:only-of-type {\n",
              "        vertical-align: middle;\n",
              "    }\n",
              "\n",
              "    .dataframe tbody tr th {\n",
              "        vertical-align: top;\n",
              "    }\n",
              "\n",
              "    .dataframe thead th {\n",
              "        text-align: right;\n",
              "    }\n",
              "</style>\n",
              "<table border=\"1\" class=\"dataframe\">\n",
              "  <thead>\n",
              "    <tr style=\"text-align: right;\">\n",
              "      <th></th>\n",
              "      <th>grupo</th>\n",
              "    </tr>\n",
              "  </thead>\n",
              "  <tbody>\n",
              "    <tr>\n",
              "      <th>0</th>\n",
              "      <td>Control</td>\n",
              "    </tr>\n",
              "    <tr>\n",
              "      <th>1</th>\n",
              "      <td>Control</td>\n",
              "    </tr>\n",
              "    <tr>\n",
              "      <th>2</th>\n",
              "      <td>Control</td>\n",
              "    </tr>\n",
              "    <tr>\n",
              "      <th>3</th>\n",
              "      <td>Control</td>\n",
              "    </tr>\n",
              "    <tr>\n",
              "      <th>4</th>\n",
              "      <td>Control</td>\n",
              "    </tr>\n",
              "  </tbody>\n",
              "</table>\n",
              "</div>\n",
              "      <button class=\"colab-df-convert\" onclick=\"convertToInteractive('df-7ddd31f2-771c-4dca-85ea-9eee22736f13')\"\n",
              "              title=\"Convert this dataframe to an interactive table.\"\n",
              "              style=\"display:none;\">\n",
              "        \n",
              "  <svg xmlns=\"http://www.w3.org/2000/svg\" height=\"24px\"viewBox=\"0 0 24 24\"\n",
              "       width=\"24px\">\n",
              "    <path d=\"M0 0h24v24H0V0z\" fill=\"none\"/>\n",
              "    <path d=\"M18.56 5.44l.94 2.06.94-2.06 2.06-.94-2.06-.94-.94-2.06-.94 2.06-2.06.94zm-11 1L8.5 8.5l.94-2.06 2.06-.94-2.06-.94L8.5 2.5l-.94 2.06-2.06.94zm10 10l.94 2.06.94-2.06 2.06-.94-2.06-.94-.94-2.06-.94 2.06-2.06.94z\"/><path d=\"M17.41 7.96l-1.37-1.37c-.4-.4-.92-.59-1.43-.59-.52 0-1.04.2-1.43.59L10.3 9.45l-7.72 7.72c-.78.78-.78 2.05 0 2.83L4 21.41c.39.39.9.59 1.41.59.51 0 1.02-.2 1.41-.59l7.78-7.78 2.81-2.81c.8-.78.8-2.07 0-2.86zM5.41 20L4 18.59l7.72-7.72 1.47 1.35L5.41 20z\"/>\n",
              "  </svg>\n",
              "      </button>\n",
              "      \n",
              "  <style>\n",
              "    .colab-df-container {\n",
              "      display:flex;\n",
              "      flex-wrap:wrap;\n",
              "      gap: 12px;\n",
              "    }\n",
              "\n",
              "    .colab-df-convert {\n",
              "      background-color: #E8F0FE;\n",
              "      border: none;\n",
              "      border-radius: 50%;\n",
              "      cursor: pointer;\n",
              "      display: none;\n",
              "      fill: #1967D2;\n",
              "      height: 32px;\n",
              "      padding: 0 0 0 0;\n",
              "      width: 32px;\n",
              "    }\n",
              "\n",
              "    .colab-df-convert:hover {\n",
              "      background-color: #E2EBFA;\n",
              "      box-shadow: 0px 1px 2px rgba(60, 64, 67, 0.3), 0px 1px 3px 1px rgba(60, 64, 67, 0.15);\n",
              "      fill: #174EA6;\n",
              "    }\n",
              "\n",
              "    [theme=dark] .colab-df-convert {\n",
              "      background-color: #3B4455;\n",
              "      fill: #D2E3FC;\n",
              "    }\n",
              "\n",
              "    [theme=dark] .colab-df-convert:hover {\n",
              "      background-color: #434B5C;\n",
              "      box-shadow: 0px 1px 3px 1px rgba(0, 0, 0, 0.15);\n",
              "      filter: drop-shadow(0px 1px 2px rgba(0, 0, 0, 0.3));\n",
              "      fill: #FFFFFF;\n",
              "    }\n",
              "  </style>\n",
              "\n",
              "      <script>\n",
              "        const buttonEl =\n",
              "          document.querySelector('#df-7ddd31f2-771c-4dca-85ea-9eee22736f13 button.colab-df-convert');\n",
              "        buttonEl.style.display =\n",
              "          google.colab.kernel.accessAllowed ? 'block' : 'none';\n",
              "\n",
              "        async function convertToInteractive(key) {\n",
              "          const element = document.querySelector('#df-7ddd31f2-771c-4dca-85ea-9eee22736f13');\n",
              "          const dataTable =\n",
              "            await google.colab.kernel.invokeFunction('convertToInteractive',\n",
              "                                                     [key], {});\n",
              "          if (!dataTable) return;\n",
              "\n",
              "          const docLinkHtml = 'Like what you see? Visit the ' +\n",
              "            '<a target=\"_blank\" href=https://colab.research.google.com/notebooks/data_table.ipynb>data table notebook</a>'\n",
              "            + ' to learn more about interactive tables.';\n",
              "          element.innerHTML = '';\n",
              "          dataTable['output_type'] = 'display_data';\n",
              "          await google.colab.output.renderOutput(dataTable, element);\n",
              "          const docLink = document.createElement('div');\n",
              "          docLink.innerHTML = docLinkHtml;\n",
              "          element.appendChild(docLink);\n",
              "        }\n",
              "      </script>\n",
              "    </div>\n",
              "  </div>\n",
              "  "
            ]
          },
          "metadata": {},
          "execution_count": 11
        }
      ],
      "source": [
        "\n",
        "df_var_no_numericas = df_base[df_base.columns.difference(df_var_numericas.columns)].copy()\n",
        "df_var_no_numericas.head(5)"
      ]
    },
    {
      "cell_type": "markdown",
      "metadata": {
        "id": "Dx_mqEGE08Z9"
      },
      "source": [
        "#### Se verifican las diferentes categorías con su respectiva frecuencia , de las variables categóricas"
      ]
    },
    {
      "cell_type": "code",
      "execution_count": null,
      "metadata": {
        "colab": {
          "base_uri": "https://localhost:8080/"
        },
        "id": "VacLRHm308Z9",
        "outputId": "a2a3ea6b-f225-4581-ee51-09b17d5ff60b"
      },
      "outputs": [
        {
          "output_type": "display_data",
          "data": {
            "text/plain": [
              "           grupo\n",
              "count        124\n",
              "unique         3\n",
              "top     Diabetes\n",
              "freq          62"
            ],
            "text/html": [
              "\n",
              "  <div id=\"df-7f965d17-f420-4b82-8078-760a4db1492b\">\n",
              "    <div class=\"colab-df-container\">\n",
              "      <div>\n",
              "<style scoped>\n",
              "    .dataframe tbody tr th:only-of-type {\n",
              "        vertical-align: middle;\n",
              "    }\n",
              "\n",
              "    .dataframe tbody tr th {\n",
              "        vertical-align: top;\n",
              "    }\n",
              "\n",
              "    .dataframe thead th {\n",
              "        text-align: right;\n",
              "    }\n",
              "</style>\n",
              "<table border=\"1\" class=\"dataframe\">\n",
              "  <thead>\n",
              "    <tr style=\"text-align: right;\">\n",
              "      <th></th>\n",
              "      <th>grupo</th>\n",
              "    </tr>\n",
              "  </thead>\n",
              "  <tbody>\n",
              "    <tr>\n",
              "      <th>count</th>\n",
              "      <td>124</td>\n",
              "    </tr>\n",
              "    <tr>\n",
              "      <th>unique</th>\n",
              "      <td>3</td>\n",
              "    </tr>\n",
              "    <tr>\n",
              "      <th>top</th>\n",
              "      <td>Diabetes</td>\n",
              "    </tr>\n",
              "    <tr>\n",
              "      <th>freq</th>\n",
              "      <td>62</td>\n",
              "    </tr>\n",
              "  </tbody>\n",
              "</table>\n",
              "</div>\n",
              "      <button class=\"colab-df-convert\" onclick=\"convertToInteractive('df-7f965d17-f420-4b82-8078-760a4db1492b')\"\n",
              "              title=\"Convert this dataframe to an interactive table.\"\n",
              "              style=\"display:none;\">\n",
              "        \n",
              "  <svg xmlns=\"http://www.w3.org/2000/svg\" height=\"24px\"viewBox=\"0 0 24 24\"\n",
              "       width=\"24px\">\n",
              "    <path d=\"M0 0h24v24H0V0z\" fill=\"none\"/>\n",
              "    <path d=\"M18.56 5.44l.94 2.06.94-2.06 2.06-.94-2.06-.94-.94-2.06-.94 2.06-2.06.94zm-11 1L8.5 8.5l.94-2.06 2.06-.94-2.06-.94L8.5 2.5l-.94 2.06-2.06.94zm10 10l.94 2.06.94-2.06 2.06-.94-2.06-.94-.94-2.06-.94 2.06-2.06.94z\"/><path d=\"M17.41 7.96l-1.37-1.37c-.4-.4-.92-.59-1.43-.59-.52 0-1.04.2-1.43.59L10.3 9.45l-7.72 7.72c-.78.78-.78 2.05 0 2.83L4 21.41c.39.39.9.59 1.41.59.51 0 1.02-.2 1.41-.59l7.78-7.78 2.81-2.81c.8-.78.8-2.07 0-2.86zM5.41 20L4 18.59l7.72-7.72 1.47 1.35L5.41 20z\"/>\n",
              "  </svg>\n",
              "      </button>\n",
              "      \n",
              "  <style>\n",
              "    .colab-df-container {\n",
              "      display:flex;\n",
              "      flex-wrap:wrap;\n",
              "      gap: 12px;\n",
              "    }\n",
              "\n",
              "    .colab-df-convert {\n",
              "      background-color: #E8F0FE;\n",
              "      border: none;\n",
              "      border-radius: 50%;\n",
              "      cursor: pointer;\n",
              "      display: none;\n",
              "      fill: #1967D2;\n",
              "      height: 32px;\n",
              "      padding: 0 0 0 0;\n",
              "      width: 32px;\n",
              "    }\n",
              "\n",
              "    .colab-df-convert:hover {\n",
              "      background-color: #E2EBFA;\n",
              "      box-shadow: 0px 1px 2px rgba(60, 64, 67, 0.3), 0px 1px 3px 1px rgba(60, 64, 67, 0.15);\n",
              "      fill: #174EA6;\n",
              "    }\n",
              "\n",
              "    [theme=dark] .colab-df-convert {\n",
              "      background-color: #3B4455;\n",
              "      fill: #D2E3FC;\n",
              "    }\n",
              "\n",
              "    [theme=dark] .colab-df-convert:hover {\n",
              "      background-color: #434B5C;\n",
              "      box-shadow: 0px 1px 3px 1px rgba(0, 0, 0, 0.15);\n",
              "      filter: drop-shadow(0px 1px 2px rgba(0, 0, 0, 0.3));\n",
              "      fill: #FFFFFF;\n",
              "    }\n",
              "  </style>\n",
              "\n",
              "      <script>\n",
              "        const buttonEl =\n",
              "          document.querySelector('#df-7f965d17-f420-4b82-8078-760a4db1492b button.colab-df-convert');\n",
              "        buttonEl.style.display =\n",
              "          google.colab.kernel.accessAllowed ? 'block' : 'none';\n",
              "\n",
              "        async function convertToInteractive(key) {\n",
              "          const element = document.querySelector('#df-7f965d17-f420-4b82-8078-760a4db1492b');\n",
              "          const dataTable =\n",
              "            await google.colab.kernel.invokeFunction('convertToInteractive',\n",
              "                                                     [key], {});\n",
              "          if (!dataTable) return;\n",
              "\n",
              "          const docLinkHtml = 'Like what you see? Visit the ' +\n",
              "            '<a target=\"_blank\" href=https://colab.research.google.com/notebooks/data_table.ipynb>data table notebook</a>'\n",
              "            + ' to learn more about interactive tables.';\n",
              "          element.innerHTML = '';\n",
              "          dataTable['output_type'] = 'display_data';\n",
              "          await google.colab.output.renderOutput(dataTable, element);\n",
              "          const docLink = document.createElement('div');\n",
              "          docLink.innerHTML = docLinkHtml;\n",
              "          element.appendChild(docLink);\n",
              "        }\n",
              "      </script>\n",
              "    </div>\n",
              "  </div>\n",
              "  "
            ]
          },
          "metadata": {}
        }
      ],
      "source": [
        "display(df_var_no_numericas.describe())\n",
        "grupo=df_var_no_numericas['grupo']"
      ]
    },
    {
      "cell_type": "markdown",
      "metadata": {
        "id": "Xz0LhqIO08Z6"
      },
      "source": [
        "#### En este caso tampoco hay columnas que tengan datos faltantes"
      ]
    },
    {
      "cell_type": "code",
      "execution_count": null,
      "metadata": {
        "colab": {
          "base_uri": "https://localhost:8080/"
        },
        "id": "IV4CICGN08Z7",
        "outputId": "2ceaa576-d85e-4219-f2bd-fb28bcd3e5bb"
      },
      "outputs": [
        {
          "output_type": "display_data",
          "data": {
            "text/plain": [
              "Series([], dtype: int64)"
            ]
          },
          "metadata": {}
        }
      ],
      "source": [
        "total_no_numericas = df_var_no_numericas.isna().sum()\n",
        "serie_col_nombres = total_no_numericas[total_no_numericas > 0]\n",
        "display(serie_col_nombres)"
      ]
    },
    {
      "cell_type": "markdown",
      "metadata": {
        "id": "khbdfO0608Z9"
      },
      "source": [
        "#### Tabla de frecuencia "
      ]
    },
    {
      "cell_type": "code",
      "execution_count": null,
      "metadata": {
        "colab": {
          "base_uri": "https://localhost:8080/"
        },
        "id": "gmOyiy7d08Z-",
        "outputId": "020e05be-0b74-4756-8c14-122b125d06e6"
      },
      "outputs": [
        {
          "output_type": "execute_result",
          "data": {
            "text/plain": [
              "Diabetes      62\n",
              "Control       48\n",
              "Diabetes_c    14\n",
              "Name: grupo, dtype: int64"
            ]
          },
          "metadata": {},
          "execution_count": 14
        }
      ],
      "source": [
        "pd.value_counts(grupo)"
      ]
    },
    {
      "cell_type": "code",
      "execution_count": null,
      "metadata": {
        "colab": {
          "base_uri": "https://localhost:8080/"
        },
        "id": "y_-UfvuH08Z-",
        "outputId": "f1ce681f-402e-41ac-e161-8fbfd8f092d1"
      },
      "outputs": [
        {
          "output_type": "display_data",
          "data": {
            "text/plain": [
              "<Figure size 432x288 with 1 Axes>"
            ],
            "image/png": "[encoded data removed]"
          },
          "metadata": {
            "needs_background": "light"
          }
        }
      ],
      "source": [
        "\n",
        "plot = grupo.value_counts().plot(kind='bar',\n",
        "                                            title='Grupo de individuos')"
      ]
    },
    {
      "cell_type": "markdown",
      "metadata": {
        "id": "YKY9P3Yq08Z_"
      },
      "source": [
        "#### Tabla de frecuencia relativa"
      ]
    },
    {
      "cell_type": "code",
      "execution_count": null,
      "metadata": {
        "colab": {
          "base_uri": "https://localhost:8080/"
        },
        "id": "thiNKMnk08Z_",
        "outputId": "d5c6707d-0393-4cd2-9791-0242ccd52c7d"
      },
      "outputs": [
        {
          "output_type": "execute_result",
          "data": {
            "text/plain": [
              "Diabetes      50.000000\n",
              "Control       38.709677\n",
              "Diabetes_c    11.290323\n",
              "Name: grupo, dtype: float64"
            ]
          },
          "metadata": {},
          "execution_count": 16
        }
      ],
      "source": [
        "100 * grupo.value_counts() / len(grupo)"
      ]
    },
    {
      "cell_type": "code",
      "execution_count": null,
      "metadata": {
        "colab": {
          "base_uri": "https://localhost:8080/"
        },
        "id": "avDVI5__08aA",
        "outputId": "182d5f03-9b40-407a-803d-64cdcce33560"
      },
      "outputs": [
        {
          "output_type": "display_data",
          "data": {
            "text/plain": [
              "<Figure size 432x432 with 1 Axes>"
            ],
            "image/png": "[encoded data removed]"
          },
          "metadata": {}
        }
      ],
      "source": [
        "plot = grupo.value_counts().plot(kind='pie', autopct='%.2f', \n",
        "                                            figsize=(6, 6),\n",
        "                                            title='Grupo de individuos %')"
      ]
    },
    {
      "cell_type": "markdown",
      "metadata": {
        "id": "ty9GAmheXV9O"
      },
      "source": [
        "Se observan que los datos se encuentran desbalanceados"
      ]
    },
    {
      "cell_type": "markdown",
      "metadata": {
        "id": "pYvyaqxM08aC"
      },
      "source": [
        "## **Parametrización**"
      ]
    },
    {
      "cell_type": "markdown",
      "metadata": {
        "id": "wrZY8Agy08aC"
      },
      "source": [
        "* Se segmenta los datos en dos conjuntos uno de entrenamiento con el 70% y de prueba 30% del total de datos respectivamente."
      ]
    },
    {
      "cell_type": "code",
      "execution_count": null,
      "metadata": {
        "id": "i8gPHDLx08aC",
        "colab": {
          "base_uri": "https://localhost:8080/"
        },
        "outputId": "78cb5acc-c4e1-4393-fd7d-64e35440a85a"
      },
      "outputs": [
        {
          "output_type": "stream",
          "name": "stdout",
          "text": [
            "Dataset test shape Counter({'Control': 19, 'Diabetes': 15, 'Diabetes_c': 4})\n",
            "86\n",
            "86\n"
          ]
        }
      ],
      "source": [
        "train_x,test_x,train_y,test_y=train_test_split(df_base.drop(columns = 'grupo'),df_base['grupo'],test_size=0.3, random_state = semilla)#,stratify=df_base['grupo']\n",
        "print('Dataset test shape %s' % Counter(test_y))\n",
        "print(len(train_x))\n",
        "print(len(train_y))"
      ]
    },
    {
      "cell_type": "markdown",
      "source": [
        "### ***Funciones***"
      ],
      "metadata": {
        "id": "72s9Y1zl-CaJ"
      }
    },
    {
      "cell_type": "code",
      "source": [
        "def calcularGridSearchCV(estimador, parametros):\n",
        "  grid = GridSearchCV(estimador, parametros,scoring=\"f1_weighted\", n_jobs= multiprocessing.cpu_count() - 1, cv= 5)\n",
        "    \n",
        "  # fitting the model for grid search\n",
        "  grid_search=grid.fit(train_x, train_y)\n",
        "  print(grid_search.best_params_)\n",
        "  print(grid_search.best_estimator_)\n",
        "  predY_test=grid.predict(test_x)\n",
        "  class_report=classification_report(test_y,predY_test)\n",
        "  print(class_report)\n",
        "  print('Accuracy Score testing: ' + str(accuracy_score(test_y,predY_test)))\n",
        "  print('Accuracy Score training: ' + str(grid_search.best_score_))\n",
        "  ConfusionMatrixDisplay.from_estimator(grid, test_x, test_y,cmap=plt.cm.Blues)"
      ],
      "metadata": {
        "id": "oPe5WNyu9_Zv"
      },
      "execution_count": null,
      "outputs": []
    },
    {
      "cell_type": "markdown",
      "source": [
        "### ***Funciones***"
      ],
      "metadata": {
        "id": "PbHStl7i9-n5"
      }
    },
    {
      "cell_type": "markdown",
      "source": [
        "## **Entrenamiento con Arbol de decisión**"
      ],
      "metadata": {
        "id": "6W6cihxhp32j"
      }
    },
    {
      "cell_type": "markdown",
      "source": [
        "Se realiza el entrenamiento con Grid Search basado en out-of-bag score, contemplando los parametros por defecto"
      ],
      "metadata": {
        "id": "xByv7W1YqCS6"
      }
    },
    {
      "cell_type": "code",
      "source": [
        "\n",
        "# Grid de hiperparámetros evaluados\n",
        "# ==============================================================================\n",
        "param_grid = ParameterGrid(\n",
        "                {\n",
        "                    'criterion'   : ['gini', 'entropy'],\n",
        "                    'splitter'    : ['best', 'random'],\n",
        "                    'max_depth'   : [None, 5,10,15,20,50,100,150,200],\n",
        "                    'min_samples_split': [2,5,10,15, 20],\n",
        "                    'min_samples_leaf': [1,2,5,10,15,20],\n",
        "                    'max_features': [0.25,0.5,0.6, 0.75, 1],#['auto','sqrt', 'log2'],\n",
        "                    'ccp_alpha':    [0.0,0.1, 0.01, 0.001,0.0001],\n",
        "                    'class_weight': ['balanced', None],\n",
        "                 \n",
        "                }\n",
        "            )\n",
        "\n",
        "# Loop para ajustar un modelo con cada combinación de hiperparámetros\n",
        "# ==============================================================================\n",
        "resultados = {'params': [], 'oob_accuracy': []}\n",
        "\n",
        "for params in param_grid:\n",
        "  #class_weight={\"Diabetes_c\":3.5},\n",
        "    tree_model = DecisionTreeClassifier(random_state=semilla,\n",
        "                                             ** params)\n",
        "    \n",
        "    tree_model.fit(train_x, train_y)\n",
        "    score=tree_model.score(test_x,test_y)\n",
        "    resultados['params'].append(params)\n",
        "    resultados['oob_accuracy'].append(score)\n",
        "    #print(f\"Modelo: {params} \\u2713\")\n",
        "\n",
        "# Resultados\n",
        "# ==============================================================================\n",
        "resultados = pd.DataFrame(resultados)\n",
        "resultados = pd.concat([resultados, resultados['params'].apply(pd.Series)], axis=1)\n",
        "resultados = resultados.sort_values('oob_accuracy', ascending=False)\n",
        "resultados = resultados.drop(columns = 'params')\n",
        "resultados.head(10)"
      ],
      "metadata": {
        "colab": {
          "base_uri": "https://localhost:8080/",
          "height": 363
        },
        "id": "bLZGdmDBqDBE",
        "outputId": "4c0b3022-efbd-4f28-db61-469f6869e7f0"
      },
      "execution_count": null,
      "outputs": [
        {
          "output_type": "execute_result",
          "data": {
            "text/plain": [
              "       oob_accuracy  ccp_alpha class_weight criterion  max_depth  \\\n",
              "31566      0.868421     0.0100         None   entropy      100.0   \n",
              "53486      0.868421     0.0001         None   entropy      150.0   \n",
              "42968      0.868421     0.0010         None   entropy      200.0   \n",
              "20176      0.868421     0.1000         None   entropy       20.0   \n",
              "42966      0.868421     0.0010         None   entropy      200.0   \n",
              "5762       0.868421     0.0000         None      gini        5.0   \n",
              "5760       0.868421     0.0000         None      gini        5.0   \n",
              "53488      0.868421     0.0001         None   entropy      150.0   \n",
              "49022      0.868421     0.0001         None      gini        5.0   \n",
              "49020      0.868421     0.0001         None      gini        5.0   \n",
              "\n",
              "       max_features  min_samples_leaf  min_samples_split splitter  \n",
              "31566           0.5                 1                 15     best  \n",
              "53486           0.5                 5                 15     best  \n",
              "42968           0.5                 1                 20     best  \n",
              "20176           0.5                 2                 15     best  \n",
              "42966           0.5                 1                 15     best  \n",
              "5762            0.5                 1                  5     best  \n",
              "5760            0.5                 1                  2     best  \n",
              "53488           0.5                 5                 20     best  \n",
              "49022           0.6                 1                  5     best  \n",
              "49020           0.6                 1                  2     best  "
            ],
            "text/html": [
              "\n",
              "  <div id=\"df-2441e476-f6d9-4d1e-8bc7-5700ebf40388\">\n",
              "    <div class=\"colab-df-container\">\n",
              "      <div>\n",
              "<style scoped>\n",
              "    .dataframe tbody tr th:only-of-type {\n",
              "        vertical-align: middle;\n",
              "    }\n",
              "\n",
              "    .dataframe tbody tr th {\n",
              "        vertical-align: top;\n",
              "    }\n",
              "\n",
              "    .dataframe thead th {\n",
              "        text-align: right;\n",
              "    }\n",
              "</style>\n",
              "<table border=\"1\" class=\"dataframe\">\n",
              "  <thead>\n",
              "    <tr style=\"text-align: right;\">\n",
              "      <th></th>\n",
              "      <th>oob_accuracy</th>\n",
              "      <th>ccp_alpha</th>\n",
              "      <th>class_weight</th>\n",
              "      <th>criterion</th>\n",
              "      <th>max_depth</th>\n",
              "      <th>max_features</th>\n",
              "      <th>min_samples_leaf</th>\n",
              "      <th>min_samples_split</th>\n",
              "      <th>splitter</th>\n",
              "    </tr>\n",
              "  </thead>\n",
              "  <tbody>\n",
              "    <tr>\n",
              "      <th>31566</th>\n",
              "      <td>0.868421</td>\n",
              "      <td>0.0100</td>\n",
              "      <td>None</td>\n",
              "      <td>entropy</td>\n",
              "      <td>100.0</td>\n",
              "      <td>0.5</td>\n",
              "      <td>1</td>\n",
              "      <td>15</td>\n",
              "      <td>best</td>\n",
              "    </tr>\n",
              "    <tr>\n",
              "      <th>53486</th>\n",
              "      <td>0.868421</td>\n",
              "      <td>0.0001</td>\n",
              "      <td>None</td>\n",
              "      <td>entropy</td>\n",
              "      <td>150.0</td>\n",
              "      <td>0.5</td>\n",
              "      <td>5</td>\n",
              "      <td>15</td>\n",
              "      <td>best</td>\n",
              "    </tr>\n",
              "    <tr>\n",
              "      <th>42968</th>\n",
              "      <td>0.868421</td>\n",
              "      <td>0.0010</td>\n",
              "      <td>None</td>\n",
              "      <td>entropy</td>\n",
              "      <td>200.0</td>\n",
              "      <td>0.5</td>\n",
              "      <td>1</td>\n",
              "      <td>20</td>\n",
              "      <td>best</td>\n",
              "    </tr>\n",
              "    <tr>\n",
              "      <th>20176</th>\n",
              "      <td>0.868421</td>\n",
              "      <td>0.1000</td>\n",
              "      <td>None</td>\n",
              "      <td>entropy</td>\n",
              "      <td>20.0</td>\n",
              "      <td>0.5</td>\n",
              "      <td>2</td>\n",
              "      <td>15</td>\n",
              "      <td>best</td>\n",
              "    </tr>\n",
              "    <tr>\n",
              "      <th>42966</th>\n",
              "      <td>0.868421</td>\n",
              "      <td>0.0010</td>\n",
              "      <td>None</td>\n",
              "      <td>entropy</td>\n",
              "      <td>200.0</td>\n",
              "      <td>0.5</td>\n",
              "      <td>1</td>\n",
              "      <td>15</td>\n",
              "      <td>best</td>\n",
              "    </tr>\n",
              "    <tr>\n",
              "      <th>5762</th>\n",
              "      <td>0.868421</td>\n",
              "      <td>0.0000</td>\n",
              "      <td>None</td>\n",
              "      <td>gini</td>\n",
              "      <td>5.0</td>\n",
              "      <td>0.5</td>\n",
              "      <td>1</td>\n",
              "      <td>5</td>\n",
              "      <td>best</td>\n",
              "    </tr>\n",
              "    <tr>\n",
              "      <th>5760</th>\n",
              "      <td>0.868421</td>\n",
              "      <td>0.0000</td>\n",
              "      <td>None</td>\n",
              "      <td>gini</td>\n",
              "      <td>5.0</td>\n",
              "      <td>0.5</td>\n",
              "      <td>1</td>\n",
              "      <td>2</td>\n",
              "      <td>best</td>\n",
              "    </tr>\n",
              "    <tr>\n",
              "      <th>53488</th>\n",
              "      <td>0.868421</td>\n",
              "      <td>0.0001</td>\n",
              "      <td>None</td>\n",
              "      <td>entropy</td>\n",
              "      <td>150.0</td>\n",
              "      <td>0.5</td>\n",
              "      <td>5</td>\n",
              "      <td>20</td>\n",
              "      <td>best</td>\n",
              "    </tr>\n",
              "    <tr>\n",
              "      <th>49022</th>\n",
              "      <td>0.868421</td>\n",
              "      <td>0.0001</td>\n",
              "      <td>None</td>\n",
              "      <td>gini</td>\n",
              "      <td>5.0</td>\n",
              "      <td>0.6</td>\n",
              "      <td>1</td>\n",
              "      <td>5</td>\n",
              "      <td>best</td>\n",
              "    </tr>\n",
              "    <tr>\n",
              "      <th>49020</th>\n",
              "      <td>0.868421</td>\n",
              "      <td>0.0001</td>\n",
              "      <td>None</td>\n",
              "      <td>gini</td>\n",
              "      <td>5.0</td>\n",
              "      <td>0.6</td>\n",
              "      <td>1</td>\n",
              "      <td>2</td>\n",
              "      <td>best</td>\n",
              "    </tr>\n",
              "  </tbody>\n",
              "</table>\n",
              "</div>\n",
              "      <button class=\"colab-df-convert\" onclick=\"convertToInteractive('df-2441e476-f6d9-4d1e-8bc7-5700ebf40388')\"\n",
              "              title=\"Convert this dataframe to an interactive table.\"\n",
              "              style=\"display:none;\">\n",
              "        \n",
              "  <svg xmlns=\"http://www.w3.org/2000/svg\" height=\"24px\"viewBox=\"0 0 24 24\"\n",
              "       width=\"24px\">\n",
              "    <path d=\"M0 0h24v24H0V0z\" fill=\"none\"/>\n",
              "    <path d=\"M18.56 5.44l.94 2.06.94-2.06 2.06-.94-2.06-.94-.94-2.06-.94 2.06-2.06.94zm-11 1L8.5 8.5l.94-2.06 2.06-.94-2.06-.94L8.5 2.5l-.94 2.06-2.06.94zm10 10l.94 2.06.94-2.06 2.06-.94-2.06-.94-.94-2.06-.94 2.06-2.06.94z\"/><path d=\"M17.41 7.96l-1.37-1.37c-.4-.4-.92-.59-1.43-.59-.52 0-1.04.2-1.43.59L10.3 9.45l-7.72 7.72c-.78.78-.78 2.05 0 2.83L4 21.41c.39.39.9.59 1.41.59.51 0 1.02-.2 1.41-.59l7.78-7.78 2.81-2.81c.8-.78.8-2.07 0-2.86zM5.41 20L4 18.59l7.72-7.72 1.47 1.35L5.41 20z\"/>\n",
              "  </svg>\n",
              "      </button>\n",
              "      \n",
              "  <style>\n",
              "    .colab-df-container {\n",
              "      display:flex;\n",
              "      flex-wrap:wrap;\n",
              "      gap: 12px;\n",
              "    }\n",
              "\n",
              "    .colab-df-convert {\n",
              "      background-color: #E8F0FE;\n",
              "      border: none;\n",
              "      border-radius: 50%;\n",
              "      cursor: pointer;\n",
              "      display: none;\n",
              "      fill: #1967D2;\n",
              "      height: 32px;\n",
              "      padding: 0 0 0 0;\n",
              "      width: 32px;\n",
              "    }\n",
              "\n",
              "    .colab-df-convert:hover {\n",
              "      background-color: #E2EBFA;\n",
              "      box-shadow: 0px 1px 2px rgba(60, 64, 67, 0.3), 0px 1px 3px 1px rgba(60, 64, 67, 0.15);\n",
              "      fill: #174EA6;\n",
              "    }\n",
              "\n",
              "    [theme=dark] .colab-df-convert {\n",
              "      background-color: #3B4455;\n",
              "      fill: #D2E3FC;\n",
              "    }\n",
              "\n",
              "    [theme=dark] .colab-df-convert:hover {\n",
              "      background-color: #434B5C;\n",
              "      box-shadow: 0px 1px 3px 1px rgba(0, 0, 0, 0.15);\n",
              "      filter: drop-shadow(0px 1px 2px rgba(0, 0, 0, 0.3));\n",
              "      fill: #FFFFFF;\n",
              "    }\n",
              "  </style>\n",
              "\n",
              "      <script>\n",
              "        const buttonEl =\n",
              "          document.querySelector('#df-2441e476-f6d9-4d1e-8bc7-5700ebf40388 button.colab-df-convert');\n",
              "        buttonEl.style.display =\n",
              "          google.colab.kernel.accessAllowed ? 'block' : 'none';\n",
              "\n",
              "        async function convertToInteractive(key) {\n",
              "          const element = document.querySelector('#df-2441e476-f6d9-4d1e-8bc7-5700ebf40388');\n",
              "          const dataTable =\n",
              "            await google.colab.kernel.invokeFunction('convertToInteractive',\n",
              "                                                     [key], {});\n",
              "          if (!dataTable) return;\n",
              "\n",
              "          const docLinkHtml = 'Like what you see? Visit the ' +\n",
              "            '<a target=\"_blank\" href=https://colab.research.google.com/notebooks/data_table.ipynb>data table notebook</a>'\n",
              "            + ' to learn more about interactive tables.';\n",
              "          element.innerHTML = '';\n",
              "          dataTable['output_type'] = 'display_data';\n",
              "          await google.colab.output.renderOutput(dataTable, element);\n",
              "          const docLink = document.createElement('div');\n",
              "          docLink.innerHTML = docLinkHtml;\n",
              "          element.appendChild(docLink);\n",
              "        }\n",
              "      </script>\n",
              "    </div>\n",
              "  </div>\n",
              "  "
            ]
          },
          "metadata": {},
          "execution_count": 23
        }
      ]
    },
    {
      "cell_type": "code",
      "source": [
        "tree_model = DecisionTreeClassifier(criterion='entropy',\n",
        "                                    max_depth = 10,\n",
        "                                    max_features=0.5,\n",
        "                                    min_samples_leaf=1,\n",
        "                                    min_samples_split=20,\n",
        "                                    splitter='best',\n",
        "                                    class_weight=None,\n",
        "                                    ccp_alpha=0.1,\n",
        "                                    random_state=semilla\n",
        "                                    )\n",
        "model=tree_model.fit(train_x,train_y)\n",
        "predEY_clas_rnd=tree_model.predict(test_x)\n",
        "class_report=classification_report(test_y,predEY_clas_rnd)\n",
        "print(class_report)\n",
        "print('Accuracy Score : ' + str(accuracy_score(test_y,predEY_clas_rnd)))\n",
        "ConfusionMatrixDisplay.from_estimator(tree_model, test_x, test_y,cmap=plt.cm.Blues)"
      ],
      "metadata": {
        "colab": {
          "base_uri": "https://localhost:8080/",
          "height": 488
        },
        "id": "bos1l1UnqJJd",
        "outputId": "216598b9-1373-4378-b816-d10268e10f37"
      },
      "execution_count": null,
      "outputs": [
        {
          "output_type": "stream",
          "name": "stdout",
          "text": [
            "              precision    recall  f1-score   support\n",
            "\n",
            "     Control       0.94      0.79      0.86        19\n",
            "    Diabetes       0.78      0.93      0.85        15\n",
            "  Diabetes_c       1.00      1.00      1.00         4\n",
            "\n",
            "    accuracy                           0.87        38\n",
            "   macro avg       0.91      0.91      0.90        38\n",
            "weighted avg       0.88      0.87      0.87        38\n",
            "\n",
            "Accuracy Score : 0.868421052631579\n"
          ]
        },
        {
          "output_type": "execute_result",
          "data": {
            "text/plain": [
              "<sklearn.metrics._plot.confusion_matrix.ConfusionMatrixDisplay at 0x7ff49e0c2250>"
            ]
          },
          "metadata": {},
          "execution_count": 24
        },
        {
          "output_type": "display_data",
          "data": {
            "text/plain": [
              "<Figure size 432x288 with 2 Axes>"
            ],
            "image/png": "[encoded data removed]"
          },
          "metadata": {
            "needs_background": "light"
          }
        }
      ]
    },
    {
      "cell_type": "markdown",
      "metadata": {
        "id": "6_PcNG71foYr"
      },
      "source": [
        "## **Entrenamiento con Random Forest**"
      ]
    },
    {
      "cell_type": "markdown",
      "metadata": {
        "id": "LKRHXobr08aF"
      },
      "source": [
        "Se realiza el entrenamiento con Grid Search basado en out-of-bag score, contemplando los parametros por defecto\n",
        "\n",
        "\n",
        "\n"
      ]
    },
    {
      "cell_type": "code",
      "execution_count": null,
      "metadata": {
        "colab": {
          "base_uri": "https://localhost:8080/",
          "height": 363
        },
        "id": "CG7Qtmwu08aF",
        "outputId": "b733fb0d-3ba2-497e-f40b-e1dd3a2b8322"
      },
      "outputs": [
        {
          "output_type": "execute_result",
          "data": {
            "text/plain": [
              "       oob_accuracy  ccp_alpha class_weight criterion  max_depth  \\\n",
              "39063      0.860465      0.001     balanced   entropy       15.0   \n",
              "28511      0.860465      0.010     balanced   entropy       50.0   \n",
              "25287      0.860465      0.010     balanced      gini       20.0   \n",
              "15078      0.860465      0.100     balanced   entropy        5.0   \n",
              "2561       0.860465      0.000     balanced      gini       50.0   \n",
              "2565       0.860465      0.000     balanced      gini       50.0   \n",
              "2569       0.860465      0.000     balanced      gini       50.0   \n",
              "2574       0.860465      0.000     balanced      gini       50.0   \n",
              "15074      0.860465      0.100     balanced   entropy        5.0   \n",
              "25283      0.860465      0.010     balanced      gini       20.0   \n",
              "\n",
              "       max_features  min_samples_leaf  min_samples_split  n_estimators  \n",
              "39063          0.50                10                  2           200  \n",
              "28511          0.50                10                 10           200  \n",
              "25287          0.75                15                  5           200  \n",
              "15078          0.50                10                 20           150  \n",
              "2561           0.50                 5                  2           100  \n",
              "2565           0.50                 5                  5           100  \n",
              "2569           0.50                 5                 10           100  \n",
              "2574           0.50                 5                 15           150  \n",
              "15074          0.50                10                 15           150  \n",
              "25283          0.75                15                  2           200  "
            ],
            "text/html": [
              "\n",
              "  <div id=\"df-acfe1553-0a73-4d23-9ed1-f41e09bc19ef\">\n",
              "    <div class=\"colab-df-container\">\n",
              "      <div>\n",
              "<style scoped>\n",
              "    .dataframe tbody tr th:only-of-type {\n",
              "        vertical-align: middle;\n",
              "    }\n",
              "\n",
              "    .dataframe tbody tr th {\n",
              "        vertical-align: top;\n",
              "    }\n",
              "\n",
              "    .dataframe thead th {\n",
              "        text-align: right;\n",
              "    }\n",
              "</style>\n",
              "<table border=\"1\" class=\"dataframe\">\n",
              "  <thead>\n",
              "    <tr style=\"text-align: right;\">\n",
              "      <th></th>\n",
              "      <th>oob_accuracy</th>\n",
              "      <th>ccp_alpha</th>\n",
              "      <th>class_weight</th>\n",
              "      <th>criterion</th>\n",
              "      <th>max_depth</th>\n",
              "      <th>max_features</th>\n",
              "      <th>min_samples_leaf</th>\n",
              "      <th>min_samples_split</th>\n",
              "      <th>n_estimators</th>\n",
              "    </tr>\n",
              "  </thead>\n",
              "  <tbody>\n",
              "    <tr>\n",
              "      <th>39063</th>\n",
              "      <td>0.860465</td>\n",
              "      <td>0.001</td>\n",
              "      <td>balanced</td>\n",
              "      <td>entropy</td>\n",
              "      <td>15.0</td>\n",
              "      <td>0.50</td>\n",
              "      <td>10</td>\n",
              "      <td>2</td>\n",
              "      <td>200</td>\n",
              "    </tr>\n",
              "    <tr>\n",
              "      <th>28511</th>\n",
              "      <td>0.860465</td>\n",
              "      <td>0.010</td>\n",
              "      <td>balanced</td>\n",
              "      <td>entropy</td>\n",
              "      <td>50.0</td>\n",
              "      <td>0.50</td>\n",
              "      <td>10</td>\n",
              "      <td>10</td>\n",
              "      <td>200</td>\n",
              "    </tr>\n",
              "    <tr>\n",
              "      <th>25287</th>\n",
              "      <td>0.860465</td>\n",
              "      <td>0.010</td>\n",
              "      <td>balanced</td>\n",
              "      <td>gini</td>\n",
              "      <td>20.0</td>\n",
              "      <td>0.75</td>\n",
              "      <td>15</td>\n",
              "      <td>5</td>\n",
              "      <td>200</td>\n",
              "    </tr>\n",
              "    <tr>\n",
              "      <th>15078</th>\n",
              "      <td>0.860465</td>\n",
              "      <td>0.100</td>\n",
              "      <td>balanced</td>\n",
              "      <td>entropy</td>\n",
              "      <td>5.0</td>\n",
              "      <td>0.50</td>\n",
              "      <td>10</td>\n",
              "      <td>20</td>\n",
              "      <td>150</td>\n",
              "    </tr>\n",
              "    <tr>\n",
              "      <th>2561</th>\n",
              "      <td>0.860465</td>\n",
              "      <td>0.000</td>\n",
              "      <td>balanced</td>\n",
              "      <td>gini</td>\n",
              "      <td>50.0</td>\n",
              "      <td>0.50</td>\n",
              "      <td>5</td>\n",
              "      <td>2</td>\n",
              "      <td>100</td>\n",
              "    </tr>\n",
              "    <tr>\n",
              "      <th>2565</th>\n",
              "      <td>0.860465</td>\n",
              "      <td>0.000</td>\n",
              "      <td>balanced</td>\n",
              "      <td>gini</td>\n",
              "      <td>50.0</td>\n",
              "      <td>0.50</td>\n",
              "      <td>5</td>\n",
              "      <td>5</td>\n",
              "      <td>100</td>\n",
              "    </tr>\n",
              "    <tr>\n",
              "      <th>2569</th>\n",
              "      <td>0.860465</td>\n",
              "      <td>0.000</td>\n",
              "      <td>balanced</td>\n",
              "      <td>gini</td>\n",
              "      <td>50.0</td>\n",
              "      <td>0.50</td>\n",
              "      <td>5</td>\n",
              "      <td>10</td>\n",
              "      <td>100</td>\n",
              "    </tr>\n",
              "    <tr>\n",
              "      <th>2574</th>\n",
              "      <td>0.860465</td>\n",
              "      <td>0.000</td>\n",
              "      <td>balanced</td>\n",
              "      <td>gini</td>\n",
              "      <td>50.0</td>\n",
              "      <td>0.50</td>\n",
              "      <td>5</td>\n",
              "      <td>15</td>\n",
              "      <td>150</td>\n",
              "    </tr>\n",
              "    <tr>\n",
              "      <th>15074</th>\n",
              "      <td>0.860465</td>\n",
              "      <td>0.100</td>\n",
              "      <td>balanced</td>\n",
              "      <td>entropy</td>\n",
              "      <td>5.0</td>\n",
              "      <td>0.50</td>\n",
              "      <td>10</td>\n",
              "      <td>15</td>\n",
              "      <td>150</td>\n",
              "    </tr>\n",
              "    <tr>\n",
              "      <th>25283</th>\n",
              "      <td>0.860465</td>\n",
              "      <td>0.010</td>\n",
              "      <td>balanced</td>\n",
              "      <td>gini</td>\n",
              "      <td>20.0</td>\n",
              "      <td>0.75</td>\n",
              "      <td>15</td>\n",
              "      <td>2</td>\n",
              "      <td>200</td>\n",
              "    </tr>\n",
              "  </tbody>\n",
              "</table>\n",
              "</div>\n",
              "      <button class=\"colab-df-convert\" onclick=\"convertToInteractive('df-acfe1553-0a73-4d23-9ed1-f41e09bc19ef')\"\n",
              "              title=\"Convert this dataframe to an interactive table.\"\n",
              "              style=\"display:none;\">\n",
              "        \n",
              "  <svg xmlns=\"http://www.w3.org/2000/svg\" height=\"24px\"viewBox=\"0 0 24 24\"\n",
              "       width=\"24px\">\n",
              "    <path d=\"M0 0h24v24H0V0z\" fill=\"none\"/>\n",
              "    <path d=\"M18.56 5.44l.94 2.06.94-2.06 2.06-.94-2.06-.94-.94-2.06-.94 2.06-2.06.94zm-11 1L8.5 8.5l.94-2.06 2.06-.94-2.06-.94L8.5 2.5l-.94 2.06-2.06.94zm10 10l.94 2.06.94-2.06 2.06-.94-2.06-.94-.94-2.06-.94 2.06-2.06.94z\"/><path d=\"M17.41 7.96l-1.37-1.37c-.4-.4-.92-.59-1.43-.59-.52 0-1.04.2-1.43.59L10.3 9.45l-7.72 7.72c-.78.78-.78 2.05 0 2.83L4 21.41c.39.39.9.59 1.41.59.51 0 1.02-.2 1.41-.59l7.78-7.78 2.81-2.81c.8-.78.8-2.07 0-2.86zM5.41 20L4 18.59l7.72-7.72 1.47 1.35L5.41 20z\"/>\n",
              "  </svg>\n",
              "      </button>\n",
              "      \n",
              "  <style>\n",
              "    .colab-df-container {\n",
              "      display:flex;\n",
              "      flex-wrap:wrap;\n",
              "      gap: 12px;\n",
              "    }\n",
              "\n",
              "    .colab-df-convert {\n",
              "      background-color: #E8F0FE;\n",
              "      border: none;\n",
              "      border-radius: 50%;\n",
              "      cursor: pointer;\n",
              "      display: none;\n",
              "      fill: #1967D2;\n",
              "      height: 32px;\n",
              "      padding: 0 0 0 0;\n",
              "      width: 32px;\n",
              "    }\n",
              "\n",
              "    .colab-df-convert:hover {\n",
              "      background-color: #E2EBFA;\n",
              "      box-shadow: 0px 1px 2px rgba(60, 64, 67, 0.3), 0px 1px 3px 1px rgba(60, 64, 67, 0.15);\n",
              "      fill: #174EA6;\n",
              "    }\n",
              "\n",
              "    [theme=dark] .colab-df-convert {\n",
              "      background-color: #3B4455;\n",
              "      fill: #D2E3FC;\n",
              "    }\n",
              "\n",
              "    [theme=dark] .colab-df-convert:hover {\n",
              "      background-color: #434B5C;\n",
              "      box-shadow: 0px 1px 3px 1px rgba(0, 0, 0, 0.15);\n",
              "      filter: drop-shadow(0px 1px 2px rgba(0, 0, 0, 0.3));\n",
              "      fill: #FFFFFF;\n",
              "    }\n",
              "  </style>\n",
              "\n",
              "      <script>\n",
              "        const buttonEl =\n",
              "          document.querySelector('#df-acfe1553-0a73-4d23-9ed1-f41e09bc19ef button.colab-df-convert');\n",
              "        buttonEl.style.display =\n",
              "          google.colab.kernel.accessAllowed ? 'block' : 'none';\n",
              "\n",
              "        async function convertToInteractive(key) {\n",
              "          const element = document.querySelector('#df-acfe1553-0a73-4d23-9ed1-f41e09bc19ef');\n",
              "          const dataTable =\n",
              "            await google.colab.kernel.invokeFunction('convertToInteractive',\n",
              "                                                     [key], {});\n",
              "          if (!dataTable) return;\n",
              "\n",
              "          const docLinkHtml = 'Like what you see? Visit the ' +\n",
              "            '<a target=\"_blank\" href=https://colab.research.google.com/notebooks/data_table.ipynb>data table notebook</a>'\n",
              "            + ' to learn more about interactive tables.';\n",
              "          element.innerHTML = '';\n",
              "          dataTable['output_type'] = 'display_data';\n",
              "          await google.colab.output.renderOutput(dataTable, element);\n",
              "          const docLink = document.createElement('div');\n",
              "          docLink.innerHTML = docLinkHtml;\n",
              "          element.appendChild(docLink);\n",
              "        }\n",
              "      </script>\n",
              "    </div>\n",
              "  </div>\n",
              "  "
            ]
          },
          "metadata": {},
          "execution_count": 20
        }
      ],
      "source": [
        "# Grid de hiperparámetros evaluados\n",
        "# ==============================================================================\n",
        "param_grid = ParameterGrid(\n",
        "                 {\n",
        "                    'n_estimators':     [50,100,150,200],\n",
        "                    'criterion'   :     ['gini', 'entropy'],\n",
        "                    'max_depth'   :     [None,5,10,15,20,50],\n",
        "                    'min_samples_split':[2, 5, 10,15,20],\n",
        "                    'min_samples_leaf': [1,2, 5, 10,15,20],\n",
        "                    'max_features': [0.25,0.5, 0.75, 1],#[None,'sqrt', 'log2'],\n",
        "                    'class_weight': ['balanced', None],\n",
        "                    'ccp_alpha':    [0.0,0.1, 0.01, 0.001],\n",
        "                 \n",
        "                }\n",
        "            )\n",
        "\n",
        "# Loop para ajustar un modelo con cada combinación de hiperparámetros\n",
        "# ==============================================================================\n",
        "resultados = {'params': [], 'oob_accuracy': []}\n",
        "\n",
        "for params in param_grid:\n",
        "    \n",
        "    modelo = RandomForestClassifier(\n",
        "                oob_score    = True,\n",
        "                n_jobs       = -1,\n",
        "                random_state= semilla,\n",
        "                ** params\n",
        "             )\n",
        "    \n",
        "    modelo.fit(train_x, train_y)\n",
        "    \n",
        "    resultados['params'].append(params)\n",
        "    resultados['oob_accuracy'].append(modelo.oob_score_)\n",
        "    #print(f\"Modelo: {params} \\u2713\")\n",
        "\n",
        "# Resultados\n",
        "# ==============================================================================\n",
        "resultados = pd.DataFrame(resultados)\n",
        "resultados = pd.concat([resultados, resultados['params'].apply(pd.Series)], axis=1)\n",
        "resultados = resultados.sort_values('oob_accuracy', ascending=False)\n",
        "resultados = resultados.drop(columns = 'params')\n",
        "resultados.head(10)"
      ]
    },
    {
      "cell_type": "code",
      "execution_count": null,
      "metadata": {
        "colab": {
          "base_uri": "https://localhost:8080/",
          "height": 544
        },
        "id": "PQUZ2Ra808aG",
        "outputId": "b3e2a4a3-671b-4b69-a2bd-72b9a8b73380"
      },
      "outputs": [
        {
          "output_type": "display_data",
          "data": {
            "text/plain": [
              "array([[16,  3,  0],\n",
              "       [ 3, 10,  2],\n",
              "       [ 0,  0,  4]])"
            ]
          },
          "metadata": {}
        },
        {
          "output_type": "stream",
          "name": "stdout",
          "text": [
            "              precision    recall  f1-score   support\n",
            "\n",
            "     Control       0.84      0.84      0.84        19\n",
            "    Diabetes       0.77      0.67      0.71        15\n",
            "  Diabetes_c       0.67      1.00      0.80         4\n",
            "\n",
            "    accuracy                           0.79        38\n",
            "   macro avg       0.76      0.84      0.79        38\n",
            "weighted avg       0.79      0.79      0.79        38\n",
            "\n",
            "Accuracy Score : 0.7894736842105263\n"
          ]
        },
        {
          "output_type": "execute_result",
          "data": {
            "text/plain": [
              "<sklearn.metrics._plot.confusion_matrix.ConfusionMatrixDisplay at 0x7efcce861cd0>"
            ]
          },
          "metadata": {},
          "execution_count": 22
        },
        {
          "output_type": "display_data",
          "data": {
            "text/plain": [
              "<Figure size 432x288 with 2 Axes>"
            ],
            "image/png": "[encoded data removed]"
          },
          "metadata": {
            "needs_background": "light"
          }
        }
      ],
      "source": [
        "new_clas_rndforest = RandomForestClassifier(n_estimators=200,n_jobs=-1,random_state=semilla,max_depth=15,max_features=0.5, criterion='entropy',min_samples_leaf=10,min_samples_split=2,class_weight='balanced',ccp_alpha=0.001)\n",
        "new_clas_rndforest.fit(train_x,train_y)\n",
        "predEY_clas_rnd=new_clas_rndforest.predict(test_x)\n",
        "display(confusion_matrix(test_y,predEY_clas_rnd))\n",
        "class_report=classification_report(test_y,predEY_clas_rnd)\n",
        "print(class_report)\n",
        "print('Accuracy Score : ' + str(accuracy_score(test_y,predEY_clas_rnd)))\n",
        "ConfusionMatrixDisplay.from_estimator(new_clas_rndforest, test_x, test_y,cmap=plt.cm.Blues)\n"
      ]
    },
    {
      "cell_type": "markdown",
      "metadata": {
        "id": "8x3qLJYpHIWN"
      },
      "source": [
        "## **Entrenamiento con SVM**"
      ]
    },
    {
      "cell_type": "markdown",
      "metadata": {
        "id": "a4T6TzZ499SV"
      },
      "source": [
        "Se realiza el entrenamiento con Grid Search CV, contemplando los parametros por defecto"
      ]
    },
    {
      "cell_type": "code",
      "execution_count": null,
      "metadata": {
        "colab": {
          "base_uri": "https://localhost:8080/",
          "height": 510
        },
        "id": "OZX6OyQoHHBX",
        "outputId": "72210192-7641-4e72-90c4-4b32de464a9e"
      },
      "outputs": [
        {
          "output_type": "stream",
          "name": "stdout",
          "text": [
            "{'svc__C': 1, 'svc__class_weight': None, 'svc__degree': 0, 'svc__gamma': 'scale', 'svc__kernel': 'linear'}\n",
            "              precision    recall  f1-score   support\n",
            "\n",
            "     Control       0.82      0.74      0.78        19\n",
            "    Diabetes       0.60      0.80      0.69        15\n",
            "  Diabetes_c       1.00      0.25      0.40         4\n",
            "\n",
            "    accuracy                           0.71        38\n",
            "   macro avg       0.81      0.60      0.62        38\n",
            "weighted avg       0.75      0.71      0.70        38\n",
            "\n",
            "Accuracy Score testing: 0.7105263157894737\n",
            "Accuracy Score training: 0.8354819907761085\n"
          ]
        },
        {
          "output_type": "display_data",
          "data": {
            "text/plain": [
              "<Figure size 432x288 with 2 Axes>"
            ],
            "image/png": "[encoded data removed]"
          },
          "metadata": {
            "needs_background": "light"
          }
        }
      ],
      "source": [
        "\n",
        "new_ml = SVC(random_state =semilla) \n",
        "pipe = Pipeline(steps=[('scaler', StandardScaler()), ('svc', new_ml)])\n",
        "\n",
        "# defining parameter range\n",
        "param_grid = {\n",
        "              'svc__C': [ 0.1,1,5,10,20,30,50],\n",
        "              'svc__kernel': ['linear','poly','rbf','sigmoid'], \n",
        "              'svc__gamma': [1, 0.1, 0.01, 0.001, 0.0001],#['scale', 'auto'],\n",
        "              'svc__degree': [0,0.5, 1, 2, 3, 4, 5, 6],\n",
        "              'svc__class_weight': ['balanced', None]\n",
        "              } \n",
        "calcularGridSearchCV(pipe,param_grid)"
      ]
    },
    {
      "cell_type": "markdown",
      "metadata": {
        "id": "2pJVInS6WBZC"
      },
      "source": [
        "## **Entrenamiento con Red Neuronal (Multi-layer Perceptron classifier)**"
      ]
    },
    {
      "cell_type": "markdown",
      "metadata": {
        "id": "3UscPZ9WGS_Z"
      },
      "source": [
        "Se realiza el entrenamiento con RandomizedSearchCV, contemplando los parametros por defecto"
      ]
    },
    {
      "cell_type": "code",
      "execution_count": null,
      "metadata": {
        "id": "XV_qMiR7d0uK"
      },
      "outputs": [],
      "source": [
        "# Pipeline de preprocedado y modelado\n",
        "# ==============================================================================\n",
        "\n",
        "# Identificación de columnas numéricas y categóricas\n",
        "numeric_cols = train_x.select_dtypes(include=['float64', 'int']).columns.to_list()\n",
        "cat_cols = train_x.select_dtypes(include=['object', 'category']).columns.to_list()\n",
        "\n",
        "\n",
        "# Transformaciones para las variables numéricas\n",
        "numeric_transformer = Pipeline(\n",
        "                        steps=[('scaler', StandardScaler())]\n",
        "                      )\n",
        "\n",
        "# Transformaciones para las variables categóricas\n",
        "categorical_transformer = Pipeline(\n",
        "                            steps=[('onehot', OneHotEncoder(handle_unknown='ignore'))]\n",
        "                          )\n",
        "\n",
        "preprocessor = ColumnTransformer(\n",
        "                    transformers=[\n",
        "                        ('numeric', numeric_transformer, numeric_cols),\n",
        "                        ('cat', categorical_transformer, cat_cols)\n",
        "                    ],\n",
        "                    remainder='passthrough'\n",
        "                )\n",
        "\n",
        "# Se combinan los pasos de preprocesado y el modelo en un mismo pipeline\n",
        "pipe = Pipeline([('preprocessing', preprocessor),\n",
        "                 ('modelo', MLPClassifier( max_iter= 2500,random_state = semilla))])"
      ]
    },
    {
      "cell_type": "code",
      "execution_count": null,
      "metadata": {
        "id": "xNvdlL-gemML"
      },
      "outputs": [],
      "source": [
        "# Espacio de búsqueda de cada hiperparámetro\n",
        "# ==============================================================================\n",
        "param_distributions = {\n",
        "    'modelo__hidden_layer_sizes': [(50,50,50), (50,100,50), (100,)],\n",
        "    'modelo__activation': ['identity','logistic','tanh','relu'],\n",
        "    'modelo__solver': ['lbfgs','sgd','adam'],\n",
        "    'modelo__alpha': [0.0001,0.05],\n",
        "    'modelo__learning_rate': ['constant','invscaling','adaptive']\n",
        "}\n",
        "\n",
        "# Búsqueda por validación cruzada\n",
        "# ==============================================================================\n",
        "grid = RandomizedSearchCV(\n",
        "        estimator  = pipe,\n",
        "        param_distributions = param_distributions,\n",
        "        n_iter     = 50,\n",
        "        n_jobs     = multiprocessing.cpu_count() - 1,\n",
        "        cv         = 5,\n",
        "        return_train_score = True\n",
        "       )\n",
        "\n",
        "grid_search=grid.fit(X = train_x, y = train_y)\n"
      ]
    },
    {
      "cell_type": "code",
      "execution_count": null,
      "metadata": {
        "id": "nOg1a_cJe873",
        "colab": {
          "base_uri": "https://localhost:8080/"
        },
        "outputId": "7d34c8f4-c0f6-4055-ab3b-063b6f8c767f"
      },
      "outputs": [
        {
          "output_type": "stream",
          "name": "stdout",
          "text": [
            "Accuracy for our training dataset with tuning is : 82.68%\n",
            "Accuracy for our testing dataset with tuning is : 73.68%\n"
          ]
        },
        {
          "output_type": "execute_result",
          "data": {
            "text/plain": [
              "{'activation': 'identity',\n",
              " 'alpha': 0.0001,\n",
              " 'batch_size': 'auto',\n",
              " 'beta_1': 0.9,\n",
              " 'beta_2': 0.999,\n",
              " 'early_stopping': False,\n",
              " 'epsilon': 1e-08,\n",
              " 'hidden_layer_sizes': (100,),\n",
              " 'learning_rate': 'constant',\n",
              " 'learning_rate_init': 0.001,\n",
              " 'max_fun': 15000,\n",
              " 'max_iter': 2500,\n",
              " 'momentum': 0.9,\n",
              " 'n_iter_no_change': 10,\n",
              " 'nesterovs_momentum': True,\n",
              " 'power_t': 0.5,\n",
              " 'random_state': 42,\n",
              " 'shuffle': True,\n",
              " 'solver': 'sgd',\n",
              " 'tol': 0.0001,\n",
              " 'validation_fraction': 0.1,\n",
              " 'verbose': False,\n",
              " 'warm_start': False}"
            ]
          },
          "metadata": {},
          "execution_count": 29
        }
      ],
      "source": [
        "modelo_final = grid.best_estimator_\n",
        "\n",
        "accuracy = grid_search.best_score_ *100\n",
        "print(\"Accuracy for our training dataset with tuning is : {:.2f}%\".format(accuracy) )\n",
        "y_test_hat=modelo_final.predict(test_x)\n",
        "test_accuracy=accuracy_score(test_y,y_test_hat)*100\n",
        "test_accuracy\n",
        "print(\"Accuracy for our testing dataset with tuning is : {:.2f}%\".format(test_accuracy) )\n",
        "modelo_final['modelo'].get_params()"
      ]
    },
    {
      "cell_type": "code",
      "execution_count": null,
      "metadata": {
        "id": "2afo_0MnfNVT",
        "colab": {
          "base_uri": "https://localhost:8080/",
          "height": 492
        },
        "outputId": "098a8076-e6c8-48da-c37a-2ff9ef383781"
      },
      "outputs": [
        {
          "output_type": "stream",
          "name": "stdout",
          "text": [
            "              precision    recall  f1-score   support\n",
            "\n",
            "     Control       0.82      0.74      0.78        19\n",
            "    Diabetes       0.63      0.80      0.71        15\n",
            "  Diabetes_c       1.00      0.50      0.67         4\n",
            "\n",
            "    accuracy                           0.74        38\n",
            "   macro avg       0.82      0.68      0.72        38\n",
            "weighted avg       0.77      0.74      0.74        38\n",
            "\n",
            "Accuracy Score testing: 0.7368421052631579\n"
          ]
        },
        {
          "output_type": "execute_result",
          "data": {
            "text/plain": [
              "<sklearn.metrics._plot.confusion_matrix.ConfusionMatrixDisplay at 0x7f321f0fcc10>"
            ]
          },
          "metadata": {},
          "execution_count": 40
        },
        {
          "output_type": "display_data",
          "data": {
            "text/plain": [
              "<Figure size 432x288 with 2 Axes>"
            ],
            "image/png": "[encoded data removed]"
          },
          "metadata": {
            "needs_background": "light"
          }
        }
      ],
      "source": [
        "confusion_matrix(test_y,y_test_hat)\n",
        "#disp=plot_confusion_matrix(grid, test_x, test_y,cmap=plt.cm.Blues)\n",
        "class_report=classification_report(test_y,y_test_hat)\n",
        "print(class_report)\n",
        "print('Accuracy Score testing: ' + str(accuracy_score(test_y,y_test_hat)))\n",
        "ConfusionMatrixDisplay.from_estimator(modelo_final, test_x, test_y,cmap=plt.cm.Blues)"
      ]
    },
    {
      "cell_type": "markdown",
      "source": [
        "## **Entrenamiento con Nearest Neighbors Classification**"
      ],
      "metadata": {
        "id": "aaQ37aj3Ujcg"
      }
    },
    {
      "cell_type": "markdown",
      "source": [
        "Se realiza el entrenamiento con Grid Search, contemplando los parametros por defecto"
      ],
      "metadata": {
        "id": "RdGH7-8csqsK"
      }
    },
    {
      "cell_type": "code",
      "source": [
        "\n",
        "knn = KNeighborsClassifier(n_jobs=-1)\n",
        "pipe = Pipeline(steps=[('scaler', StandardScaler()), ('knn', knn)])\n",
        "\n",
        "# defining parameter range\n",
        "param_grid = {\n",
        "              'knn__n_neighbors': [ 5,10,20,30,50],\n",
        "              'knn__weights': ['uniform','distance'], \n",
        "              'knn__algorithm': ['auto', 'ball_tree','kd_tree','brute'],\n",
        "              'knn__leaf_size': [10,20,30,50],\n",
        "              'knn__p': [1,2]\n",
        "              } \n",
        "  \n",
        "calcularGridSearchCV(pipe,param_grid)"
      ],
      "metadata": {
        "colab": {
          "base_uri": "https://localhost:8080/",
          "height": 506
        },
        "id": "3HypkcoTUiWV",
        "outputId": "66eaac5a-638a-40f1-dfee-e7bc5f0e2b37"
      },
      "execution_count": null,
      "outputs": [
        {
          "output_type": "stream",
          "name": "stdout",
          "text": [
            "{'knn__algorithm': 'auto', 'knn__leaf_size': 10, 'knn__n_neighbors': 5, 'knn__p': 1, 'knn__weights': 'distance'}\n",
            "              precision    recall  f1-score   support\n",
            "\n",
            "     Control       0.86      0.63      0.73        19\n",
            "    Diabetes       0.59      0.87      0.70        15\n",
            "  Diabetes_c       1.00      0.50      0.67         4\n",
            "\n",
            "    accuracy                           0.71        38\n",
            "   macro avg       0.82      0.67      0.70        38\n",
            "weighted avg       0.77      0.71      0.71        38\n",
            "\n",
            "Accuracy Score testing: 0.7105263157894737\n",
            "Accuracy Score training: 0.8160304727951786\n"
          ]
        },
        {
          "output_type": "display_data",
          "data": {
            "text/plain": [
              "<Figure size 432x288 with 2 Axes>"
            ],
            "image/png": "[encoded data removed]"
          },
          "metadata": {
            "needs_background": "light"
          }
        }
      ]
    }
  ],
  "metadata": {
    "colab": {
      "collapsed_sections": [
        "T4dNADRJ08Zt",
        "taeffTpWbOGe",
        "FRqy251M08Zx",
        "mvZ_hpth08Z0",
        "p0QK5JMC08Z8",
        "S8CdSx_ldnp3",
        "pl4CVmIq08aA",
        "VFGFz__W08Z5",
        "pYvyaqxM08aC",
        "6W6cihxhp32j",
        "6_PcNG71foYr",
        "8x3qLJYpHIWN",
        "2pJVInS6WBZC",
        "aaQ37aj3Ujcg"
      ],
      "provenance": []
    },
    "kernelspec": {
      "display_name": "Python 3",
      "language": "python",
      "name": "python3"
    },
    "language_info": {
      "codemirror_mode": {
        "name": "ipython",
        "version": 3
      },
      "file_extension": ".py",
      "mimetype": "text/x-python",
      "name": "python",
      "nbconvert_exporter": "python",
      "pygments_lexer": "ipython3",
      "version": "3.8.5"
    },
    "gpuClass": "standard"
  },
  "nbformat": 4,
  "nbformat_minor": 0
}
